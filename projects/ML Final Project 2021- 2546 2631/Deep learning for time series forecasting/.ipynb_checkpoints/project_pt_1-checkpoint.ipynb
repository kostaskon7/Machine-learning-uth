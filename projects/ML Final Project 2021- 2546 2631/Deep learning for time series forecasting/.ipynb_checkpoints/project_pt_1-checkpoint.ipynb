{
 "cells": [
  {
   "cell_type": "code",
   "execution_count": 1,
   "id": "capital-bronze",
   "metadata": {
    "colab": {
     "base_uri": "https://localhost:8080/"
    },
    "id": "capital-bronze",
    "outputId": "b525213d-0d20-4004-9e2d-03ff676f8bb0"
   },
   "outputs": [
    {
     "name": "stdout",
     "output_type": "stream",
     "text": [
      "         Date  Temp\n",
      "0  1981-01-01  20.7\n",
      "1  1981-01-02  17.9\n",
      "2  1981-01-03  18.8\n",
      "3  1981-01-04  14.6\n",
      "4  1981-01-05  15.8\n",
      "5  1981-01-06  15.8\n",
      "6  1981-01-07  15.8\n",
      "7  1981-01-08  17.4\n",
      "8  1981-01-09  21.8\n",
      "9  1981-01-10  20.0\n"
     ]
    }
   ],
   "source": [
    "import pandas as pd\n",
    "import numpy as np\n",
    "import matplotlib as plt\n",
    "import datetime\n",
    "from tensorflow import keras\n",
    "from tensorflow.keras import layers\n",
    "from sklearn.model_selection import train_test_split\n",
    "import time\n",
    "\n",
    "\n",
    "\n",
    "series = pd.read_csv('daily-total-female-births.csv', header=0)\n",
    "X=series.iloc[:,1:2].values\n",
    "\n",
    "\n",
    "print(series.head(10))"
   ]
  },
  {
   "cell_type": "code",
   "execution_count": 2,
   "id": "activated-essay",
   "metadata": {
    "id": "activated-essay"
   },
   "outputs": [],
   "source": [
    "from sklearn.preprocessing import MinMaxScaler\n",
    "sc = MinMaxScaler()\n",
    "X = sc.fit_transform(X)"
   ]
  },
  {
   "cell_type": "code",
   "execution_count": 3,
   "id": "mighty-expense",
   "metadata": {
    "colab": {
     "base_uri": "https://localhost:8080/",
     "height": 283
    },
    "id": "mighty-expense",
    "outputId": "a7b75e4c-56a0-4de9-e350-fcfb556b8b3c"
   },
   "outputs": [
    {
     "data": {
      "image/png": "[encoded data removed]",
      "text/plain": [
       "<Figure size 432x288 with 1 Axes>"
      ]
     },
     "metadata": {
      "needs_background": "light"
     },
     "output_type": "display_data"
    },
    {
     "name": "stdout",
     "output_type": "stream",
     "text": [
      "3650.0\n"
     ]
    }
   ],
   "source": [
    "series.plot()\n",
    "plt.pyplot.show()\n",
    "\n",
    "print(series.size/series.columns.size)"
   ]
  },
  {
   "cell_type": "markdown",
   "id": "particular-quarterly",
   "metadata": {
    "id": "particular-quarterly"
   },
   "source": [
    "# Multi-layer perceptron"
   ]
  },
  {
   "cell_type": "code",
   "execution_count": 4,
   "id": "obvious-program",
   "metadata": {
    "colab": {
     "base_uri": "https://localhost:8080/"
    },
    "id": "obvious-program",
    "outputId": "90d356d9-bc16-43e2-db4d-9c3b304d3260"
   },
   "outputs": [
    {
     "name": "stdout",
     "output_type": "stream",
     "text": [
      "Epoch 1/100\n",
      "90/90 [==============================] - 0s 778us/step - loss: 0.0132\n",
      "Epoch 2/100\n",
      "90/90 [==============================] - 0s 745us/step - loss: 0.0108\n",
      "Epoch 3/100\n",
      "90/90 [==============================] - 0s 767us/step - loss: 0.0097\n",
      "Epoch 4/100\n",
      "90/90 [==============================] - 0s 767us/step - loss: 0.0102\n",
      "Epoch 5/100\n",
      "90/90 [==============================] - 0s 789us/step - loss: 0.0098\n",
      "Epoch 6/100\n",
      "90/90 [==============================] - 0s 745us/step - loss: 0.0095\n",
      "Epoch 7/100\n",
      "90/90 [==============================] - 0s 745us/step - loss: 0.0099\n",
      "Epoch 8/100\n",
      "90/90 [==============================] - 0s 745us/step - loss: 0.0091\n",
      "Epoch 9/100\n",
      "90/90 [==============================] - 0s 756us/step - loss: 0.0088\n",
      "Epoch 10/100\n",
      "90/90 [==============================] - 0s 834us/step - loss: 0.0092\n",
      "Epoch 11/100\n",
      "90/90 [==============================] - 0s 822us/step - loss: 0.0086\n",
      "Epoch 12/100\n",
      "90/90 [==============================] - 0s 811us/step - loss: 0.0086\n",
      "Epoch 13/100\n",
      "90/90 [==============================] - 0s 822us/step - loss: 0.0087\n",
      "Epoch 14/100\n",
      "90/90 [==============================] - 0s 822us/step - loss: 0.0085\n",
      "Epoch 15/100\n",
      "90/90 [==============================] - 0s 822us/step - loss: 0.0085\n",
      "Epoch 16/100\n",
      "90/90 [==============================] - 0s 789us/step - loss: 0.0084\n",
      "Epoch 17/100\n",
      "90/90 [==============================] - 0s 822us/step - loss: 0.0084\n",
      "Epoch 18/100\n",
      "90/90 [==============================] - 0s 811us/step - loss: 0.0087\n",
      "Epoch 19/100\n",
      "90/90 [==============================] - 0s 778us/step - loss: 0.0082\n",
      "Epoch 20/100\n",
      "90/90 [==============================] - 0s 756us/step - loss: 0.0078\n",
      "Epoch 21/100\n",
      "90/90 [==============================] - 0s 800us/step - loss: 0.0080\n",
      "Epoch 22/100\n",
      "90/90 [==============================] - 0s 767us/step - loss: 0.0080\n",
      "Epoch 23/100\n",
      "90/90 [==============================] - 0s 778us/step - loss: 0.0078\n",
      "Epoch 24/100\n",
      "90/90 [==============================] - 0s 767us/step - loss: 0.0078\n",
      "Epoch 25/100\n",
      "90/90 [==============================] - 0s 745us/step - loss: 0.0077\n",
      "Epoch 26/100\n",
      "90/90 [==============================] - 0s 767us/step - loss: 0.0079\n",
      "Epoch 27/100\n",
      "90/90 [==============================] - 0s 778us/step - loss: 0.0075\n",
      "Epoch 28/100\n",
      "90/90 [==============================] - 0s 800us/step - loss: 0.0075\n",
      "Epoch 29/100\n",
      "90/90 [==============================] - 0s 756us/step - loss: 0.0075\n",
      "Epoch 30/100\n",
      "90/90 [==============================] - 0s 778us/step - loss: 0.0074\n",
      "Epoch 31/100\n",
      "90/90 [==============================] - 0s 778us/step - loss: 0.0073\n",
      "Epoch 32/100\n",
      "90/90 [==============================] - 0s 750us/step - loss: 0.0072\n",
      "Epoch 33/100\n",
      "90/90 [==============================] - 0s 789us/step - loss: 0.0077\n",
      "Epoch 34/100\n",
      "90/90 [==============================] - 0s 789us/step - loss: 0.0080\n",
      "Epoch 35/100\n",
      "90/90 [==============================] - 0s 767us/step - loss: 0.0069\n",
      "Epoch 36/100\n",
      "90/90 [==============================] - 0s 744us/step - loss: 0.0071\n",
      "Epoch 37/100\n",
      "90/90 [==============================] - 0s 777us/step - loss: 0.0074\n",
      "Epoch 38/100\n",
      "90/90 [==============================] - 0s 767us/step - loss: 0.0068\n",
      "Epoch 39/100\n",
      "90/90 [==============================] - 0s 767us/step - loss: 0.0067\n",
      "Epoch 40/100\n",
      "90/90 [==============================] - 0s 778us/step - loss: 0.0064\n",
      "Epoch 41/100\n",
      "90/90 [==============================] - 0s 767us/step - loss: 0.0063\n",
      "Epoch 42/100\n",
      "90/90 [==============================] - 0s 746us/step - loss: 0.0061\n",
      "Epoch 43/100\n",
      "90/90 [==============================] - 0s 767us/step - loss: 0.0062\n",
      "Epoch 44/100\n",
      "90/90 [==============================] - 0s 767us/step - loss: 0.0064\n",
      "Epoch 45/100\n",
      "90/90 [==============================] - 0s 756us/step - loss: 0.0062\n",
      "Epoch 46/100\n",
      "90/90 [==============================] - 0s 756us/step - loss: 0.0063\n",
      "Epoch 47/100\n",
      "90/90 [==============================] - 0s 778us/step - loss: 0.0058\n",
      "Epoch 48/100\n",
      "90/90 [==============================] - 0s 752us/step - loss: 0.0062\n",
      "Epoch 49/100\n",
      "90/90 [==============================] - 0s 789us/step - loss: 0.0056\n",
      "Epoch 50/100\n",
      "90/90 [==============================] - 0s 834us/step - loss: 0.0056\n",
      "Epoch 51/100\n",
      "90/90 [==============================] - 0s 778us/step - loss: 0.0056\n",
      "Epoch 52/100\n",
      "90/90 [==============================] - 0s 778us/step - loss: 0.0056\n",
      "Epoch 53/100\n",
      "90/90 [==============================] - 0s 778us/step - loss: 0.0057\n",
      "Epoch 54/100\n",
      "90/90 [==============================] - 0s 778us/step - loss: 0.0055\n",
      "Epoch 55/100\n",
      "90/90 [==============================] - 0s 756us/step - loss: 0.0051\n",
      "Epoch 56/100\n",
      "90/90 [==============================] - 0s 756us/step - loss: 0.0049\n",
      "Epoch 57/100\n",
      "90/90 [==============================] - 0s 767us/step - loss: 0.0050\n",
      "Epoch 58/100\n",
      "90/90 [==============================] - 0s 733us/step - loss: 0.0051\n",
      "Epoch 59/100\n",
      "90/90 [==============================] - 0s 756us/step - loss: 0.0050\n",
      "Epoch 60/100\n",
      "90/90 [==============================] - 0s 778us/step - loss: 0.0051\n",
      "Epoch 61/100\n",
      "90/90 [==============================] - 0s 744us/step - loss: 0.0046\n",
      "Epoch 62/100\n",
      "90/90 [==============================] - 0s 756us/step - loss: 0.0051\n",
      "Epoch 63/100\n",
      "90/90 [==============================] - 0s 756us/step - loss: 0.0045\n",
      "Epoch 64/100\n",
      "90/90 [==============================] - 0s 745us/step - loss: 0.0046\n",
      "Epoch 65/100\n",
      "90/90 [==============================] - 0s 767us/step - loss: 0.0041\n",
      "Epoch 66/100\n",
      "90/90 [==============================] - 0s 778us/step - loss: 0.0042\n",
      "Epoch 67/100\n",
      "90/90 [==============================] - 0s 767us/step - loss: 0.0040\n",
      "Epoch 68/100\n",
      "90/90 [==============================] - 0s 789us/step - loss: 0.0038\n",
      "Epoch 69/100\n",
      "90/90 [==============================] - 0s 767us/step - loss: 0.0038\n",
      "Epoch 70/100\n",
      "90/90 [==============================] - 0s 756us/step - loss: 0.0039\n",
      "Epoch 71/100\n",
      "90/90 [==============================] - 0s 834us/step - loss: 0.0039\n",
      "Epoch 72/100\n",
      "90/90 [==============================] - 0s 922us/step - loss: 0.0040\n",
      "Epoch 73/100\n",
      "90/90 [==============================] - 0s 834us/step - loss: 0.0037\n",
      "Epoch 74/100\n",
      "90/90 [==============================] - 0s 778us/step - loss: 0.0034\n",
      "Epoch 75/100\n",
      "90/90 [==============================] - 0s 767us/step - loss: 0.0037\n",
      "Epoch 76/100\n",
      "90/90 [==============================] - 0s 745us/step - loss: 0.0041\n",
      "Epoch 77/100\n",
      "90/90 [==============================] - 0s 767us/step - loss: 0.0041\n",
      "Epoch 78/100\n",
      "90/90 [==============================] - 0s 756us/step - loss: 0.0037\n",
      "Epoch 79/100\n",
      "90/90 [==============================] - 0s 800us/step - loss: 0.0041\n",
      "Epoch 80/100\n",
      "90/90 [==============================] - 0s 778us/step - loss: 0.0032\n",
      "Epoch 81/100\n",
      "90/90 [==============================] - 0s 756us/step - loss: 0.0033\n",
      "Epoch 82/100\n",
      "90/90 [==============================] - 0s 745us/step - loss: 0.0031\n",
      "Epoch 83/100\n",
      "90/90 [==============================] - 0s 778us/step - loss: 0.0030\n",
      "Epoch 84/100\n",
      "90/90 [==============================] - 0s 756us/step - loss: 0.0029\n",
      "Epoch 85/100\n",
      "90/90 [==============================] - 0s 778us/step - loss: 0.0029\n",
      "Epoch 86/100\n",
      "90/90 [==============================] - 0s 767us/step - loss: 0.0026\n",
      "Epoch 87/100\n",
      "90/90 [==============================] - 0s 756us/step - loss: 0.0028\n",
      "Epoch 88/100\n",
      "90/90 [==============================] - 0s 756us/step - loss: 0.0027\n",
      "Epoch 89/100\n",
      "90/90 [==============================] - 0s 800us/step - loss: 0.0029\n",
      "Epoch 90/100\n",
      "90/90 [==============================] - 0s 745us/step - loss: 0.0027\n",
      "Epoch 91/100\n",
      "90/90 [==============================] - 0s 745us/step - loss: 0.0026\n",
      "Epoch 92/100\n",
      "90/90 [==============================] - 0s 756us/step - loss: 0.0025\n",
      "Epoch 93/100\n",
      "90/90 [==============================] - 0s 756us/step - loss: 0.0026\n",
      "Epoch 94/100\n",
      "90/90 [==============================] - 0s 778us/step - loss: 0.0023\n",
      "Epoch 95/100\n",
      "90/90 [==============================] - 0s 745us/step - loss: 0.0023\n",
      "Epoch 96/100\n",
      "90/90 [==============================] - 0s 778us/step - loss: 0.0024\n",
      "Epoch 97/100\n",
      "90/90 [==============================] - 0s 767us/step - loss: 0.0021\n",
      "Epoch 98/100\n",
      "90/90 [==============================] - 0s 778us/step - loss: 0.0024\n",
      "Epoch 99/100\n"
     ]
    },
    {
     "name": "stdout",
     "output_type": "stream",
     "text": [
      "90/90 [==============================] - 0s 756us/step - loss: 0.0023\n",
      "Epoch 100/100\n",
      "90/90 [==============================] - 0s 767us/step - loss: 0.0020\n",
      "Model: \"sequential\"\n",
      "_________________________________________________________________\n",
      "Layer (type)                 Output Shape              Param #   \n",
      "=================================================================\n",
      "dense (Dense)                (None, 100)               6100      \n",
      "_________________________________________________________________\n",
      "dense_1 (Dense)              (None, 100)               10100     \n",
      "_________________________________________________________________\n",
      "dense_2 (Dense)              (None, 50)                5050      \n",
      "_________________________________________________________________\n",
      "dense_3 (Dense)              (None, 1)                 51        \n",
      "=================================================================\n",
      "Total params: 21,301\n",
      "Trainable params: 21,301\n",
      "Non-trainable params: 0\n",
      "_________________________________________________________________\n",
      "None\n"
     ]
    }
   ],
   "source": [
    "\n",
    "\n",
    "X_train = []\n",
    "y_train = []\n",
    "for i in range(60, int(0.8*(series.size)/(series.columns.size))):\n",
    "    X_train.append(X[i-60:i])\n",
    "    y_train.append(X[i])\n",
    "X_train, y_train = np.array(X_train), np.array(y_train)\n",
    "\n",
    "\n",
    "X_test = []\n",
    "y_test = []\n",
    "for i in range(int(0.8*(series.size)/(series.columns.size)),int(series.size/series.columns.size) ):\n",
    "    X_test.append(X[i-60:i])\n",
    "    y_test.append(X[i])\n",
    "X_test, y_test = np.array(X_test), np.array(y_test)\n",
    "\n",
    "\n",
    "nsamples, nx, ny = X_train.shape\n",
    "X_train_dense = np.reshape(X_train,(nsamples,nx*ny))\n",
    "\n",
    "\n",
    "\n",
    "model = keras.Sequential()\n",
    "model.add(layers.Dense(100, activation='relu'))\n",
    "model.add(layers.Dense(100, activation='relu'))\n",
    "model.add(layers.Dense(50, activation='relu'))\n",
    "model.add(layers.Dense(1))\n",
    "model.compile(optimizer='adam', loss='mse')\n",
    "\n",
    "start=time.time()\n",
    "model.fit(X_train_dense, y_train, epochs=1000, batch_size = 32)\n",
    "end=time.time()\n",
    "\n",
    "print(model.summary())\n",
    "\n"
   ]
  },
  {
   "cell_type": "code",
   "execution_count": 5,
   "id": "distinct-democracy",
   "metadata": {
    "colab": {
     "base_uri": "https://localhost:8080/"
    },
    "id": "distinct-democracy",
    "outputId": "496f7177-263a-48f7-8eaf-25348200694b"
   },
   "outputs": [
    {
     "name": "stdout",
     "output_type": "stream",
     "text": [
      "It took '7.6942' seconds to to train the model\n"
     ]
    }
   ],
   "source": [
    "print(\"It took '{}' seconds to to train the model\".format(np.round(end-start,4)))"
   ]
  },
  {
   "cell_type": "code",
   "execution_count": 6,
   "id": "rational-substance",
   "metadata": {
    "colab": {
     "base_uri": "https://localhost:8080/",
     "height": 313
    },
    "id": "rational-substance",
    "outputId": "da931970-1c5e-4085-8da9-d793fc06b9f0"
   },
   "outputs": [
    {
     "data": {
      "image/png": "[encoded data removed]",
      "text/plain": [
       "<Figure size 432x288 with 1 Axes>"
      ]
     },
     "metadata": {
      "needs_background": "light"
     },
     "output_type": "display_data"
    },
    {
     "name": "stdout",
     "output_type": "stream",
     "text": [
      "0.10235016797276066\n"
     ]
    }
   ],
   "source": [
    "nsamples, nx, ny = X_test.shape\n",
    "X_test_dense = np.reshape(X_test,(nsamples,nx*ny))\n",
    "yhat = model.predict(X_test_dense)\n",
    "\n",
    "\n",
    "plt.pyplot.plot(y_test, color = 'red', label = 'Number of births')\n",
    "plt.pyplot.plot(yhat, color = 'blue', label = 'Predicted Number of Births')\n",
    "plt.pyplot.title('Daily total female Biirths prediction')\n",
    "plt.pyplot.xlabel('Time')\n",
    "plt.pyplot.ylabel('Births')\n",
    "plt.pyplot.legend()\n",
    "plt.pyplot.show()\n",
    "\n",
    "import math\n",
    "from sklearn.metrics import mean_squared_error\n",
    "print(math.sqrt(mean_squared_error(y_test, yhat)))"
   ]
  },
  {
   "cell_type": "markdown",
   "id": "rubber-press",
   "metadata": {
    "id": "rubber-press"
   },
   "source": [
    "# LSTM Neural network"
   ]
  },
  {
   "cell_type": "code",
   "execution_count": 7,
   "id": "young-potter",
   "metadata": {
    "colab": {
     "base_uri": "https://localhost:8080/"
    },
    "id": "young-potter",
    "outputId": "e9b44c1e-9113-4050-f009-d765d8b90531"
   },
   "outputs": [
    {
     "name": "stdout",
     "output_type": "stream",
     "text": [
      "2860\n",
      "60\n",
      "Epoch 1/100\n",
      "90/90 [==============================] - 8s 91ms/step - loss: 0.0286\n",
      "Epoch 2/100\n",
      "90/90 [==============================] - 8s 93ms/step - loss: 0.0136\n",
      "Epoch 3/100\n",
      "90/90 [==============================] - 8s 91ms/step - loss: 0.0128\n",
      "Epoch 4/100\n",
      "90/90 [==============================] - 8s 94ms/step - loss: 0.0129\n",
      "Epoch 5/100\n",
      "90/90 [==============================] - 8s 92ms/step - loss: 0.0125\n",
      "Epoch 6/100\n",
      "90/90 [==============================] - 8s 91ms/step - loss: 0.0125\n",
      "Epoch 7/100\n",
      "90/90 [==============================] - 8s 92ms/step - loss: 0.0128\n",
      "Epoch 8/100\n",
      "90/90 [==============================] - 9s 97ms/step - loss: 0.0129\n",
      "Epoch 9/100\n",
      "90/90 [==============================] - 9s 96ms/step - loss: 0.0125\n",
      "Epoch 10/100\n",
      " 9/90 [==>...........................] - ETA: 6s - loss: 0.0127"
     ]
    },
    {
     "ename": "KeyboardInterrupt",
     "evalue": "",
     "output_type": "error",
     "traceback": [
      "\u001b[1;31m---------------------------------------------------------------------------\u001b[0m",
      "\u001b[1;31mKeyboardInterrupt\u001b[0m                         Traceback (most recent call last)",
      "\u001b[1;32m<ipython-input-7-d7c9d8af38b2>\u001b[0m in \u001b[0;36m<module>\u001b[1;34m\u001b[0m\n\u001b[0;32m     13\u001b[0m \u001b[1;33m\u001b[0m\u001b[0m\n\u001b[0;32m     14\u001b[0m \u001b[0mstart\u001b[0m\u001b[1;33m=\u001b[0m\u001b[0mtime\u001b[0m\u001b[1;33m.\u001b[0m\u001b[0mtime\u001b[0m\u001b[1;33m(\u001b[0m\u001b[1;33m)\u001b[0m\u001b[1;33m\u001b[0m\u001b[1;33m\u001b[0m\u001b[0m\n\u001b[1;32m---> 15\u001b[1;33m \u001b[0mhistory\u001b[0m \u001b[1;33m=\u001b[0m\u001b[0mmodel2\u001b[0m\u001b[1;33m.\u001b[0m\u001b[0mfit\u001b[0m\u001b[1;33m(\u001b[0m\u001b[0mX_train_lstm\u001b[0m\u001b[1;33m,\u001b[0m \u001b[0my_train\u001b[0m\u001b[1;33m,\u001b[0m \u001b[0mepochs\u001b[0m \u001b[1;33m=\u001b[0m \u001b[1;36m100\u001b[0m\u001b[1;33m,\u001b[0m \u001b[0mbatch_size\u001b[0m \u001b[1;33m=\u001b[0m \u001b[1;36m32\u001b[0m\u001b[1;33m)\u001b[0m\u001b[1;33m\u001b[0m\u001b[1;33m\u001b[0m\u001b[0m\n\u001b[0m\u001b[0;32m     16\u001b[0m \u001b[0mend\u001b[0m\u001b[1;33m=\u001b[0m\u001b[0mtime\u001b[0m\u001b[1;33m.\u001b[0m\u001b[0mtime\u001b[0m\u001b[1;33m(\u001b[0m\u001b[1;33m)\u001b[0m\u001b[1;33m\u001b[0m\u001b[1;33m\u001b[0m\u001b[0m\n\u001b[0;32m     17\u001b[0m \u001b[1;33m\u001b[0m\u001b[0m\n",
      "\u001b[1;32m~\\anaconda3\\lib\\site-packages\\tensorflow\\python\\keras\\engine\\training.py\u001b[0m in \u001b[0;36m_method_wrapper\u001b[1;34m(self, *args, **kwargs)\u001b[0m\n\u001b[0;32m    106\u001b[0m   \u001b[1;32mdef\u001b[0m \u001b[0m_method_wrapper\u001b[0m\u001b[1;33m(\u001b[0m\u001b[0mself\u001b[0m\u001b[1;33m,\u001b[0m \u001b[1;33m*\u001b[0m\u001b[0margs\u001b[0m\u001b[1;33m,\u001b[0m \u001b[1;33m**\u001b[0m\u001b[0mkwargs\u001b[0m\u001b[1;33m)\u001b[0m\u001b[1;33m:\u001b[0m\u001b[1;33m\u001b[0m\u001b[1;33m\u001b[0m\u001b[0m\n\u001b[0;32m    107\u001b[0m     \u001b[1;32mif\u001b[0m \u001b[1;32mnot\u001b[0m \u001b[0mself\u001b[0m\u001b[1;33m.\u001b[0m\u001b[0m_in_multi_worker_mode\u001b[0m\u001b[1;33m(\u001b[0m\u001b[1;33m)\u001b[0m\u001b[1;33m:\u001b[0m  \u001b[1;31m# pylint: disable=protected-access\u001b[0m\u001b[1;33m\u001b[0m\u001b[1;33m\u001b[0m\u001b[0m\n\u001b[1;32m--> 108\u001b[1;33m       \u001b[1;32mreturn\u001b[0m \u001b[0mmethod\u001b[0m\u001b[1;33m(\u001b[0m\u001b[0mself\u001b[0m\u001b[1;33m,\u001b[0m \u001b[1;33m*\u001b[0m\u001b[0margs\u001b[0m\u001b[1;33m,\u001b[0m \u001b[1;33m**\u001b[0m\u001b[0mkwargs\u001b[0m\u001b[1;33m)\u001b[0m\u001b[1;33m\u001b[0m\u001b[1;33m\u001b[0m\u001b[0m\n\u001b[0m\u001b[0;32m    109\u001b[0m \u001b[1;33m\u001b[0m\u001b[0m\n\u001b[0;32m    110\u001b[0m     \u001b[1;31m# Running inside `run_distribute_coordinator` already.\u001b[0m\u001b[1;33m\u001b[0m\u001b[1;33m\u001b[0m\u001b[1;33m\u001b[0m\u001b[0m\n",
      "\u001b[1;32m~\\anaconda3\\lib\\site-packages\\tensorflow\\python\\keras\\engine\\training.py\u001b[0m in \u001b[0;36mfit\u001b[1;34m(self, x, y, batch_size, epochs, verbose, callbacks, validation_split, validation_data, shuffle, class_weight, sample_weight, initial_epoch, steps_per_epoch, validation_steps, validation_batch_size, validation_freq, max_queue_size, workers, use_multiprocessing)\u001b[0m\n\u001b[0;32m   1096\u001b[0m                 batch_size=batch_size):\n\u001b[0;32m   1097\u001b[0m               \u001b[0mcallbacks\u001b[0m\u001b[1;33m.\u001b[0m\u001b[0mon_train_batch_begin\u001b[0m\u001b[1;33m(\u001b[0m\u001b[0mstep\u001b[0m\u001b[1;33m)\u001b[0m\u001b[1;33m\u001b[0m\u001b[1;33m\u001b[0m\u001b[0m\n\u001b[1;32m-> 1098\u001b[1;33m               \u001b[0mtmp_logs\u001b[0m \u001b[1;33m=\u001b[0m \u001b[0mtrain_function\u001b[0m\u001b[1;33m(\u001b[0m\u001b[0miterator\u001b[0m\u001b[1;33m)\u001b[0m\u001b[1;33m\u001b[0m\u001b[1;33m\u001b[0m\u001b[0m\n\u001b[0m\u001b[0;32m   1099\u001b[0m               \u001b[1;32mif\u001b[0m \u001b[0mdata_handler\u001b[0m\u001b[1;33m.\u001b[0m\u001b[0mshould_sync\u001b[0m\u001b[1;33m:\u001b[0m\u001b[1;33m\u001b[0m\u001b[1;33m\u001b[0m\u001b[0m\n\u001b[0;32m   1100\u001b[0m                 \u001b[0mcontext\u001b[0m\u001b[1;33m.\u001b[0m\u001b[0masync_wait\u001b[0m\u001b[1;33m(\u001b[0m\u001b[1;33m)\u001b[0m\u001b[1;33m\u001b[0m\u001b[1;33m\u001b[0m\u001b[0m\n",
      "\u001b[1;32m~\\anaconda3\\lib\\site-packages\\tensorflow\\python\\eager\\def_function.py\u001b[0m in \u001b[0;36m__call__\u001b[1;34m(self, *args, **kwds)\u001b[0m\n\u001b[0;32m    778\u001b[0m       \u001b[1;32melse\u001b[0m\u001b[1;33m:\u001b[0m\u001b[1;33m\u001b[0m\u001b[1;33m\u001b[0m\u001b[0m\n\u001b[0;32m    779\u001b[0m         \u001b[0mcompiler\u001b[0m \u001b[1;33m=\u001b[0m \u001b[1;34m\"nonXla\"\u001b[0m\u001b[1;33m\u001b[0m\u001b[1;33m\u001b[0m\u001b[0m\n\u001b[1;32m--> 780\u001b[1;33m         \u001b[0mresult\u001b[0m \u001b[1;33m=\u001b[0m \u001b[0mself\u001b[0m\u001b[1;33m.\u001b[0m\u001b[0m_call\u001b[0m\u001b[1;33m(\u001b[0m\u001b[1;33m*\u001b[0m\u001b[0margs\u001b[0m\u001b[1;33m,\u001b[0m \u001b[1;33m**\u001b[0m\u001b[0mkwds\u001b[0m\u001b[1;33m)\u001b[0m\u001b[1;33m\u001b[0m\u001b[1;33m\u001b[0m\u001b[0m\n\u001b[0m\u001b[0;32m    781\u001b[0m \u001b[1;33m\u001b[0m\u001b[0m\n\u001b[0;32m    782\u001b[0m       \u001b[0mnew_tracing_count\u001b[0m \u001b[1;33m=\u001b[0m \u001b[0mself\u001b[0m\u001b[1;33m.\u001b[0m\u001b[0m_get_tracing_count\u001b[0m\u001b[1;33m(\u001b[0m\u001b[1;33m)\u001b[0m\u001b[1;33m\u001b[0m\u001b[1;33m\u001b[0m\u001b[0m\n",
      "\u001b[1;32m~\\anaconda3\\lib\\site-packages\\tensorflow\\python\\eager\\def_function.py\u001b[0m in \u001b[0;36m_call\u001b[1;34m(self, *args, **kwds)\u001b[0m\n\u001b[0;32m    805\u001b[0m       \u001b[1;31m# In this case we have created variables on the first call, so we run the\u001b[0m\u001b[1;33m\u001b[0m\u001b[1;33m\u001b[0m\u001b[1;33m\u001b[0m\u001b[0m\n\u001b[0;32m    806\u001b[0m       \u001b[1;31m# defunned version which is guaranteed to never create variables.\u001b[0m\u001b[1;33m\u001b[0m\u001b[1;33m\u001b[0m\u001b[1;33m\u001b[0m\u001b[0m\n\u001b[1;32m--> 807\u001b[1;33m       \u001b[1;32mreturn\u001b[0m \u001b[0mself\u001b[0m\u001b[1;33m.\u001b[0m\u001b[0m_stateless_fn\u001b[0m\u001b[1;33m(\u001b[0m\u001b[1;33m*\u001b[0m\u001b[0margs\u001b[0m\u001b[1;33m,\u001b[0m \u001b[1;33m**\u001b[0m\u001b[0mkwds\u001b[0m\u001b[1;33m)\u001b[0m  \u001b[1;31m# pylint: disable=not-callable\u001b[0m\u001b[1;33m\u001b[0m\u001b[1;33m\u001b[0m\u001b[0m\n\u001b[0m\u001b[0;32m    808\u001b[0m     \u001b[1;32melif\u001b[0m \u001b[0mself\u001b[0m\u001b[1;33m.\u001b[0m\u001b[0m_stateful_fn\u001b[0m \u001b[1;32mis\u001b[0m \u001b[1;32mnot\u001b[0m \u001b[1;32mNone\u001b[0m\u001b[1;33m:\u001b[0m\u001b[1;33m\u001b[0m\u001b[1;33m\u001b[0m\u001b[0m\n\u001b[0;32m    809\u001b[0m       \u001b[1;31m# Release the lock early so that multiple threads can perform the call\u001b[0m\u001b[1;33m\u001b[0m\u001b[1;33m\u001b[0m\u001b[1;33m\u001b[0m\u001b[0m\n",
      "\u001b[1;32m~\\anaconda3\\lib\\site-packages\\tensorflow\\python\\eager\\function.py\u001b[0m in \u001b[0;36m__call__\u001b[1;34m(self, *args, **kwargs)\u001b[0m\n\u001b[0;32m   2827\u001b[0m     \u001b[1;32mwith\u001b[0m \u001b[0mself\u001b[0m\u001b[1;33m.\u001b[0m\u001b[0m_lock\u001b[0m\u001b[1;33m:\u001b[0m\u001b[1;33m\u001b[0m\u001b[1;33m\u001b[0m\u001b[0m\n\u001b[0;32m   2828\u001b[0m       \u001b[0mgraph_function\u001b[0m\u001b[1;33m,\u001b[0m \u001b[0margs\u001b[0m\u001b[1;33m,\u001b[0m \u001b[0mkwargs\u001b[0m \u001b[1;33m=\u001b[0m \u001b[0mself\u001b[0m\u001b[1;33m.\u001b[0m\u001b[0m_maybe_define_function\u001b[0m\u001b[1;33m(\u001b[0m\u001b[0margs\u001b[0m\u001b[1;33m,\u001b[0m \u001b[0mkwargs\u001b[0m\u001b[1;33m)\u001b[0m\u001b[1;33m\u001b[0m\u001b[1;33m\u001b[0m\u001b[0m\n\u001b[1;32m-> 2829\u001b[1;33m     \u001b[1;32mreturn\u001b[0m \u001b[0mgraph_function\u001b[0m\u001b[1;33m.\u001b[0m\u001b[0m_filtered_call\u001b[0m\u001b[1;33m(\u001b[0m\u001b[0margs\u001b[0m\u001b[1;33m,\u001b[0m \u001b[0mkwargs\u001b[0m\u001b[1;33m)\u001b[0m  \u001b[1;31m# pylint: disable=protected-access\u001b[0m\u001b[1;33m\u001b[0m\u001b[1;33m\u001b[0m\u001b[0m\n\u001b[0m\u001b[0;32m   2830\u001b[0m \u001b[1;33m\u001b[0m\u001b[0m\n\u001b[0;32m   2831\u001b[0m   \u001b[1;33m@\u001b[0m\u001b[0mproperty\u001b[0m\u001b[1;33m\u001b[0m\u001b[1;33m\u001b[0m\u001b[0m\n",
      "\u001b[1;32m~\\anaconda3\\lib\\site-packages\\tensorflow\\python\\eager\\function.py\u001b[0m in \u001b[0;36m_filtered_call\u001b[1;34m(self, args, kwargs, cancellation_manager)\u001b[0m\n\u001b[0;32m   1841\u001b[0m       \u001b[0;31m`\u001b[0m\u001b[0margs\u001b[0m\u001b[0;31m`\u001b[0m \u001b[1;32mand\u001b[0m\u001b[0;31m \u001b[0m\u001b[0;31m`\u001b[0m\u001b[0mkwargs\u001b[0m\u001b[0;31m`\u001b[0m\u001b[1;33m.\u001b[0m\u001b[1;33m\u001b[0m\u001b[1;33m\u001b[0m\u001b[0m\n\u001b[0;32m   1842\u001b[0m     \"\"\"\n\u001b[1;32m-> 1843\u001b[1;33m     return self._call_flat(\n\u001b[0m\u001b[0;32m   1844\u001b[0m         [t for t in nest.flatten((args, kwargs), expand_composites=True)\n\u001b[0;32m   1845\u001b[0m          if isinstance(t, (ops.Tensor,\n",
      "\u001b[1;32m~\\anaconda3\\lib\\site-packages\\tensorflow\\python\\eager\\function.py\u001b[0m in \u001b[0;36m_call_flat\u001b[1;34m(self, args, captured_inputs, cancellation_manager)\u001b[0m\n\u001b[0;32m   1921\u001b[0m         and executing_eagerly):\n\u001b[0;32m   1922\u001b[0m       \u001b[1;31m# No tape is watching; skip to running the function.\u001b[0m\u001b[1;33m\u001b[0m\u001b[1;33m\u001b[0m\u001b[1;33m\u001b[0m\u001b[0m\n\u001b[1;32m-> 1923\u001b[1;33m       return self._build_call_outputs(self._inference_function.call(\n\u001b[0m\u001b[0;32m   1924\u001b[0m           ctx, args, cancellation_manager=cancellation_manager))\n\u001b[0;32m   1925\u001b[0m     forward_backward = self._select_forward_and_backward_functions(\n",
      "\u001b[1;32m~\\anaconda3\\lib\\site-packages\\tensorflow\\python\\eager\\function.py\u001b[0m in \u001b[0;36mcall\u001b[1;34m(self, ctx, args, cancellation_manager)\u001b[0m\n\u001b[0;32m    543\u001b[0m       \u001b[1;32mwith\u001b[0m \u001b[0m_InterpolateFunctionError\u001b[0m\u001b[1;33m(\u001b[0m\u001b[0mself\u001b[0m\u001b[1;33m)\u001b[0m\u001b[1;33m:\u001b[0m\u001b[1;33m\u001b[0m\u001b[1;33m\u001b[0m\u001b[0m\n\u001b[0;32m    544\u001b[0m         \u001b[1;32mif\u001b[0m \u001b[0mcancellation_manager\u001b[0m \u001b[1;32mis\u001b[0m \u001b[1;32mNone\u001b[0m\u001b[1;33m:\u001b[0m\u001b[1;33m\u001b[0m\u001b[1;33m\u001b[0m\u001b[0m\n\u001b[1;32m--> 545\u001b[1;33m           outputs = execute.execute(\n\u001b[0m\u001b[0;32m    546\u001b[0m               \u001b[0mstr\u001b[0m\u001b[1;33m(\u001b[0m\u001b[0mself\u001b[0m\u001b[1;33m.\u001b[0m\u001b[0msignature\u001b[0m\u001b[1;33m.\u001b[0m\u001b[0mname\u001b[0m\u001b[1;33m)\u001b[0m\u001b[1;33m,\u001b[0m\u001b[1;33m\u001b[0m\u001b[1;33m\u001b[0m\u001b[0m\n\u001b[0;32m    547\u001b[0m               \u001b[0mnum_outputs\u001b[0m\u001b[1;33m=\u001b[0m\u001b[0mself\u001b[0m\u001b[1;33m.\u001b[0m\u001b[0m_num_outputs\u001b[0m\u001b[1;33m,\u001b[0m\u001b[1;33m\u001b[0m\u001b[1;33m\u001b[0m\u001b[0m\n",
      "\u001b[1;32m~\\anaconda3\\lib\\site-packages\\tensorflow\\python\\eager\\execute.py\u001b[0m in \u001b[0;36mquick_execute\u001b[1;34m(op_name, num_outputs, inputs, attrs, ctx, name)\u001b[0m\n\u001b[0;32m     57\u001b[0m   \u001b[1;32mtry\u001b[0m\u001b[1;33m:\u001b[0m\u001b[1;33m\u001b[0m\u001b[1;33m\u001b[0m\u001b[0m\n\u001b[0;32m     58\u001b[0m     \u001b[0mctx\u001b[0m\u001b[1;33m.\u001b[0m\u001b[0mensure_initialized\u001b[0m\u001b[1;33m(\u001b[0m\u001b[1;33m)\u001b[0m\u001b[1;33m\u001b[0m\u001b[1;33m\u001b[0m\u001b[0m\n\u001b[1;32m---> 59\u001b[1;33m     tensors = pywrap_tfe.TFE_Py_Execute(ctx._handle, device_name, op_name,\n\u001b[0m\u001b[0;32m     60\u001b[0m                                         inputs, attrs, num_outputs)\n\u001b[0;32m     61\u001b[0m   \u001b[1;32mexcept\u001b[0m \u001b[0mcore\u001b[0m\u001b[1;33m.\u001b[0m\u001b[0m_NotOkStatusException\u001b[0m \u001b[1;32mas\u001b[0m \u001b[0me\u001b[0m\u001b[1;33m:\u001b[0m\u001b[1;33m\u001b[0m\u001b[1;33m\u001b[0m\u001b[0m\n",
      "\u001b[1;31mKeyboardInterrupt\u001b[0m: "
     ]
    }
   ],
   "source": [
    "\n",
    "X_train_lstm = np.reshape(X_train, (X_train.shape[0], X_train.shape[1], 1))\n",
    "print(X_train.shape[0])\n",
    "print(X_train.shape[1])\n",
    "\n",
    "\n",
    "model2 = keras.Sequential()\n",
    "model2.add(layers.LSTM(units = 100, activation='relu', return_sequences = True,input_shape=(X_train.shape[1], 1)))\n",
    "model2.add(layers.LSTM(units = 100, activation='relu', return_sequences = True))\n",
    "model2.add(layers.LSTM(units = 50, activation='relu', return_sequences = True))\n",
    "model2.add(layers.LSTM(units = 1))\n",
    "model2.compile(optimizer='adam', loss='mse')\n",
    "\n",
    "\n",
    "start=time.time()\n",
    "history =model2.fit(X_train_lstm, y_train, epochs = 1000, batch_size = 32)\n",
    "end=time.time()\n",
    "\n",
    "print(model2.summary())\n",
    "\n"
   ]
  },
  {
   "cell_type": "code",
   "execution_count": null,
   "id": "accomplished-behavior",
   "metadata": {
    "colab": {
     "base_uri": "https://localhost:8080/"
    },
    "id": "accomplished-behavior",
    "outputId": "6264db3e-2525-4ef2-f370-ccea88202c5f"
   },
   "outputs": [],
   "source": [
    "\n",
    "plt.pyplot.figure(figsize=(8,5))\n",
    "plt.pyplot.plot(history.history['loss'], label='train')\n",
    "#plt.pyplot.plot(history.history['val_loss'], label='test')\n",
    "plt.pyplot.legend()\n",
    "plt.pyplot.show()\n",
    "print(\"It took '{}' seconds to to train the model\".format(np.round(end-start,4)))"
   ]
  },
  {
   "cell_type": "code",
   "execution_count": null,
   "id": "accredited-range",
   "metadata": {
    "colab": {
     "base_uri": "https://localhost:8080/",
     "height": 313
    },
    "id": "accredited-range",
    "outputId": "2b776169-f40e-4e13-8367-6b86576d2698"
   },
   "outputs": [],
   "source": [
    "X_test_lstm = np.reshape(X_test, (X_test.shape[0], X_test.shape[1], 1))\n",
    "yhat_lstm = model2.predict(X_test_lstm)\n",
    "yhat = sc.inverse_transform(yhat)\n",
    "\n",
    "\n",
    "\n",
    "plt.pyplot.plot(y_test, color = 'red', label = 'Number of births')\n",
    "plt.pyplot.plot(yhat_lstm, color = 'blue', label = 'Predicted Number of Births')\n",
    "plt.pyplot.title('Daily total female Biirths prediction')\n",
    "plt.pyplot.xlabel('Time')\n",
    "plt.pyplot.ylabel('Births')\n",
    "plt.pyplot.legend()\n",
    "plt.pyplot.show()\n",
    "\n",
    "import math\n",
    "from sklearn.metrics import mean_squared_error\n",
    "print(math.sqrt(mean_squared_error(y_test, yhat_lstm)))"
   ]
  },
  {
   "cell_type": "markdown",
   "id": "accessory-pacific",
   "metadata": {
    "id": "accessory-pacific"
   },
   "source": [
    "# CNN"
   ]
  },
  {
   "cell_type": "code",
   "execution_count": null,
   "id": "extreme-delta",
   "metadata": {
    "colab": {
     "base_uri": "https://localhost:8080/"
    },
    "id": "extreme-delta",
    "outputId": "0a5518bd-fbcc-43ee-f612-dcc68b79913c"
   },
   "outputs": [],
   "source": [
    "\n",
    "# reshape from [samples, timesteps] into [samples, timesteps, features]\n",
    "print(X_train.shape[0])\n",
    "print(X_train.shape[1])\n",
    "n_features = 1\n",
    "X_train_cnn = np.reshape(X_train,(X_train.shape[0], X_train.shape[1], n_features))\n",
    "# define model\n",
    "model3 = keras.Sequential()\n",
    "model3.add(layers.Conv1D(filters=64, kernel_size=2, activation='relu'))#,input_shape=(60, n_features)))\n",
    "model3.add(layers.MaxPooling1D(pool_size=2))\n",
    "model3.add(layers.Flatten())\n",
    "model3.add(layers.Dense(50, activation='relu'))\n",
    "model3.add(layers.Dense(1))\n",
    "model3.compile(optimizer='adam', loss='mse')\n",
    "# fit model\n",
    "start=time.time()\n",
    "model3.fit(X_train_cnn, y_train, epochs=1000, verbose=0)\n",
    "end=time.time()\n",
    "\n"
   ]
  },
  {
   "cell_type": "code",
   "execution_count": null,
   "id": "anticipated-azerbaijan",
   "metadata": {
    "colab": {
     "base_uri": "https://localhost:8080/"
    },
    "id": "anticipated-azerbaijan",
    "outputId": "2ff8a0a8-bd85-46b0-8dca-cacd5f11c7fc"
   },
   "outputs": [],
   "source": [
    "print(\"It took '{}' seconds to to train the model\".format(np.round(end-start,4)))"
   ]
  },
  {
   "cell_type": "code",
   "execution_count": null,
   "id": "declared-messaging",
   "metadata": {
    "colab": {
     "base_uri": "https://localhost:8080/",
     "height": 313
    },
    "id": "declared-messaging",
    "outputId": "f17c717c-b9f0-4e79-b042-fb1a0388865d"
   },
   "outputs": [],
   "source": [
    "# demonstrate prediction\n",
    "\n",
    "X_test_cnn = np.reshape(X_test,(X_test.shape[0], X_test.shape[1], n_features))\n",
    "yhat = model3.predict(X_test_cnn)\n",
    "\n",
    "plt.pyplot.plot(y_test, color = 'red', label = 'Number of births')\n",
    "plt.pyplot.plot(yhat, color = 'blue', label = 'Predicted Number of Births')\n",
    "plt.pyplot.title('Daily total female Biirths prediction')\n",
    "plt.pyplot.xlabel('Time')\n",
    "plt.pyplot.ylabel('Births')\n",
    "plt.pyplot.legend()\n",
    "plt.pyplot.show()\n",
    "\n",
    "import math\n",
    "from sklearn.metrics import mean_squared_error\n",
    "print(math.sqrt(mean_squared_error(y_test, yhat)))"
   ]
  },
  {
   "cell_type": "code",
   "execution_count": null,
   "id": "african-length",
   "metadata": {
    "id": "african-length"
   },
   "outputs": [],
   "source": []
  }
 ],
 "metadata": {
  "colab": {
   "collapsed_sections": [],
   "name": "project pt.1.ipynb",
   "provenance": []
  },
  "kernelspec": {
   "display_name": "Python 3",
   "language": "python",
   "name": "python3"
  },
  "language_info": {
   "codemirror_mode": {
    "name": "ipython",
    "version": 3
   },
   "file_extension": ".py",
   "mimetype": "text/x-python",
   "name": "python",
   "nbconvert_exporter": "python",
   "pygments_lexer": "ipython3",
   "version": "3.8.5"
  }
 },
 "nbformat": 4,
 "nbformat_minor": 5
}
