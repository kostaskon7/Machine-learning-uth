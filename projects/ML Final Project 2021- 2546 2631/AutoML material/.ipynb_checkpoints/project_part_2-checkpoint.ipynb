{
 "cells": [
  {
   "cell_type": "markdown",
   "id": "b764d3fb",
   "metadata": {},
   "source": [
    "> **AutoML**:\n",
    ">\n",
    "> - Konstantinos Konstantinidis AEM:2546 konkonstant@uth.gr\n",
    "> - Nikolaos Stavrinos          AEM:2631 nstavrinos@uth.gr"
   ]
  },
  {
   "cell_type": "markdown",
   "id": "a6de27e3",
   "metadata": {},
   "source": [
    "# Install auto-sklearn"
   ]
  },
  {
   "cell_type": "code",
   "execution_count": 1,
   "id": "a0793e4d",
   "metadata": {
    "ExecuteTime": {
     "end_time": "2021-07-09T16:15:57.535890Z",
     "start_time": "2021-07-09T16:15:55.274662Z"
    }
   },
   "outputs": [
    {
     "name": "stdout",
     "output_type": "stream",
     "text": [
      "Requirement already satisfied: auto-sklearn in /home/user/anaconda3/envs/ml/lib/python3.9/site-packages (0.12.6)\n",
      "Requirement already satisfied: scikit-learn<0.25.0,>=0.24.0 in /home/user/anaconda3/envs/ml/lib/python3.9/site-packages (from auto-sklearn) (0.24.1)\n",
      "Requirement already satisfied: pyyaml in /home/user/anaconda3/envs/ml/lib/python3.9/site-packages (from auto-sklearn) (5.3.1)\n",
      "Requirement already satisfied: liac-arff in /home/user/anaconda3/envs/ml/lib/python3.9/site-packages (from auto-sklearn) (2.5.0)\n",
      "Requirement already satisfied: pynisher>=0.6.3 in /home/user/anaconda3/envs/ml/lib/python3.9/site-packages (from auto-sklearn) (0.6.4)\n",
      "Requirement already satisfied: setuptools in /home/user/anaconda3/envs/ml/lib/python3.9/site-packages (from auto-sklearn) (52.0.0.post20210125)\n",
      "Requirement already satisfied: pandas>=1.0 in /home/user/anaconda3/envs/ml/lib/python3.9/site-packages (from auto-sklearn) (1.2.4)\n",
      "Requirement already satisfied: numpy>=1.9.0 in /home/user/anaconda3/envs/ml/lib/python3.9/site-packages (from auto-sklearn) (1.19.2)\n",
      "Requirement already satisfied: joblib in /home/user/anaconda3/envs/ml/lib/python3.9/site-packages (from auto-sklearn) (0.17.0)\n",
      "Requirement already satisfied: scipy>=0.14.1 in /home/user/anaconda3/envs/ml/lib/python3.9/site-packages (from auto-sklearn) (1.6.2)\n",
      "Requirement already satisfied: distributed>=2.2.0 in /home/user/anaconda3/envs/ml/lib/python3.9/site-packages (from auto-sklearn) (2021.6.2)\n",
      "Requirement already satisfied: ConfigSpace<0.5,>=0.4.14 in /home/user/anaconda3/envs/ml/lib/python3.9/site-packages (from auto-sklearn) (0.4.19)\n",
      "Requirement already satisfied: smac<0.14,>=0.13.1 in /home/user/anaconda3/envs/ml/lib/python3.9/site-packages (from auto-sklearn) (0.13.1)\n",
      "Requirement already satisfied: pyrfr<0.9,>=0.8.1 in /home/user/anaconda3/envs/ml/lib/python3.9/site-packages (from auto-sklearn) (0.8.2)\n",
      "Requirement already satisfied: dask in /home/user/anaconda3/envs/ml/lib/python3.9/site-packages (from auto-sklearn) (2021.6.2)\n",
      "Requirement already satisfied: pyparsing in /home/user/anaconda3/envs/ml/lib/python3.9/site-packages (from ConfigSpace<0.5,>=0.4.14->auto-sklearn) (2.4.7)\n",
      "Requirement already satisfied: cython in /home/user/anaconda3/envs/ml/lib/python3.9/site-packages (from ConfigSpace<0.5,>=0.4.14->auto-sklearn) (0.29.23)\n",
      "Requirement already satisfied: cloudpickle>=1.5.0 in /home/user/anaconda3/envs/ml/lib/python3.9/site-packages (from distributed>=2.2.0->auto-sklearn) (1.6.0)\n",
      "Requirement already satisfied: click>=6.6 in /home/user/anaconda3/envs/ml/lib/python3.9/site-packages (from distributed>=2.2.0->auto-sklearn) (8.0.1)\n",
      "Requirement already satisfied: zict>=0.1.3 in /home/user/anaconda3/envs/ml/lib/python3.9/site-packages (from distributed>=2.2.0->auto-sklearn) (2.0.0)\n",
      "Requirement already satisfied: toolz>=0.8.2 in /home/user/anaconda3/envs/ml/lib/python3.9/site-packages (from distributed>=2.2.0->auto-sklearn) (0.11.1)\n",
      "Requirement already satisfied: sortedcontainers!=2.0.0,!=2.0.1 in /home/user/anaconda3/envs/ml/lib/python3.9/site-packages (from distributed>=2.2.0->auto-sklearn) (2.4.0)\n",
      "Requirement already satisfied: msgpack>=0.6.0 in /home/user/anaconda3/envs/ml/lib/python3.9/site-packages (from distributed>=2.2.0->auto-sklearn) (1.0.2)\n",
      "Requirement already satisfied: tornado>=6.0.3 in /home/user/anaconda3/envs/ml/lib/python3.9/site-packages (from distributed>=2.2.0->auto-sklearn) (6.1)\n",
      "Requirement already satisfied: tblib>=1.6.0 in /home/user/anaconda3/envs/ml/lib/python3.9/site-packages (from distributed>=2.2.0->auto-sklearn) (1.7.0)\n",
      "Requirement already satisfied: psutil>=5.0 in /home/user/anaconda3/envs/ml/lib/python3.9/site-packages (from distributed>=2.2.0->auto-sklearn) (5.8.0)\n",
      "Requirement already satisfied: partd>=0.3.10 in /home/user/anaconda3/envs/ml/lib/python3.9/site-packages (from dask->auto-sklearn) (1.2.0)\n",
      "Requirement already satisfied: fsspec>=0.6.0 in /home/user/anaconda3/envs/ml/lib/python3.9/site-packages (from dask->auto-sklearn) (2021.6.1)\n",
      "Requirement already satisfied: python-dateutil>=2.7.3 in /home/user/anaconda3/envs/ml/lib/python3.9/site-packages (from pandas>=1.0->auto-sklearn) (2.8.1)\n",
      "Requirement already satisfied: pytz>=2017.3 in /home/user/anaconda3/envs/ml/lib/python3.9/site-packages (from pandas>=1.0->auto-sklearn) (2020.1)\n",
      "Requirement already satisfied: locket in /home/user/anaconda3/envs/ml/lib/python3.9/site-packages (from partd>=0.3.10->dask->auto-sklearn) (0.2.1)\n",
      "Requirement already satisfied: six>=1.5 in /home/user/anaconda3/envs/ml/lib/python3.9/site-packages (from python-dateutil>=2.7.3->pandas>=1.0->auto-sklearn) (1.15.0)\n",
      "Requirement already satisfied: threadpoolctl>=2.0.0 in /home/user/anaconda3/envs/ml/lib/python3.9/site-packages (from scikit-learn<0.25.0,>=0.24.0->auto-sklearn) (2.1.0)\n",
      "Requirement already satisfied: lazy-import in /home/user/anaconda3/envs/ml/lib/python3.9/site-packages (from smac<0.14,>=0.13.1->auto-sklearn) (0.2.2)\n",
      "Requirement already satisfied: heapdict in /home/user/anaconda3/envs/ml/lib/python3.9/site-packages (from zict>=0.1.3->distributed>=2.2.0->auto-sklearn) (1.0.1)\n"
     ]
    }
   ],
   "source": [
    "!pip3 install auto-sklearn"
   ]
  },
  {
   "cell_type": "markdown",
   "id": "3551d77d",
   "metadata": {},
   "source": [
    "# Load the data"
   ]
  },
  {
   "cell_type": "code",
   "execution_count": 2,
   "id": "4e0bd95c",
   "metadata": {
    "ExecuteTime": {
     "end_time": "2021-07-09T16:15:59.266441Z",
     "start_time": "2021-07-09T16:15:57.539228Z"
    }
   },
   "outputs": [
    {
     "name": "stdout",
     "output_type": "stream",
     "text": [
      "            Date  Temp\n",
      "0     1981-01-01  20.7\n",
      "1     1981-01-02  17.9\n",
      "2     1981-01-03  18.8\n",
      "3     1981-01-04  14.6\n",
      "4     1981-01-05  15.8\n",
      "...          ...   ...\n",
      "3645  1990-12-27  14.0\n",
      "3646  1990-12-28  13.6\n",
      "3647  1990-12-29  13.5\n",
      "3648  1990-12-30  15.7\n",
      "3649  1990-12-31  13.0\n",
      "\n",
      "[3650 rows x 2 columns]\n"
     ]
    }
   ],
   "source": [
    "import pandas as pd\n",
    "import numpy as np\n",
    "from matplotlib import pyplot as plt\n",
    "import datetime\n",
    "from sklearn.model_selection import train_test_split\n",
    "import sklearn.metrics\n",
    "from autosklearn.regression import AutoSklearnRegressor\n",
    "import time\n",
    "\n",
    "series = pd.read_csv('daily-minimum-temperatures.csv', header=0)\n",
    "X=series.iloc[:,1:2].values\n",
    "\n",
    "print(series)"
   ]
  },
  {
   "cell_type": "markdown",
   "id": "dfe697b6",
   "metadata": {},
   "source": [
    "# Split the data to train and test set"
   ]
  },
  {
   "cell_type": "code",
   "execution_count": 3,
   "id": "19acaaee",
   "metadata": {
    "ExecuteTime": {
     "end_time": "2021-07-09T16:15:59.282941Z",
     "start_time": "2021-07-09T16:15:59.269006Z"
    }
   },
   "outputs": [],
   "source": [
    "X_train = []\n",
    "y_train = []\n",
    "for i in range(5, int(0.8*X.size)):\n",
    "    X_train.append(X[i-5:i, 0])\n",
    "    y_train.append(X[i, 0])\n",
    "X_train, y_train = np.array(X_train), np.array(y_train)\n",
    "\n",
    "\n",
    "\n",
    "X_test = []\n",
    "y_test = []\n",
    "y_test=X[int(0.8*X.size):]\n",
    "for i in range(int(0.8*X.size),X.size ):\n",
    "    X_test.append(X[i-5:i, 0])\n",
    "X_test, y_test = np.array(X_test), np.array(y_test)"
   ]
  },
  {
   "cell_type": "markdown",
   "id": "278e86b7",
   "metadata": {},
   "source": [
    "# AutoML model"
   ]
  },
  {
   "cell_type": "code",
   "execution_count": 4,
   "id": "6177ceb9",
   "metadata": {
    "ExecuteTime": {
     "end_time": "2021-07-09T16:20:57.341542Z",
     "start_time": "2021-07-09T16:15:59.289714Z"
    }
   },
   "outputs": [
    {
     "name": "stdout",
     "output_type": "stream",
     "text": [
      "It took '298.0362' seconds to to train the model\n"
     ]
    }
   ],
   "source": [
    "automl = AutoSklearnRegressor(time_left_for_this_task=300, per_run_time_limit=30, n_jobs=8)\n",
    "\n",
    "start=time.time()\n",
    "automl.fit(X_train, y_train)\n",
    "end=time.time()\n",
    "\n",
    "print(\"It took '{}' seconds to to train the model\".format(np.round(end-start,4)))"
   ]
  },
  {
   "cell_type": "markdown",
   "id": "a97ed214",
   "metadata": {},
   "source": [
    "# Model information"
   ]
  },
  {
   "cell_type": "code",
   "execution_count": 5,
   "id": "7c5ddba1",
   "metadata": {
    "ExecuteTime": {
     "end_time": "2021-07-09T16:20:57.381562Z",
     "start_time": "2021-07-09T16:20:57.352979Z"
    }
   },
   "outputs": [
    {
     "name": "stdout",
     "output_type": "stream",
     "text": [
      "[(0.400000, SimpleRegressionPipeline({'data_preprocessing:categorical_transformer:categorical_encoding:__choice__': 'no_encoding', 'data_preprocessing:categorical_transformer:category_coalescence:__choice__': 'minority_coalescer', 'data_preprocessing:numerical_transformer:imputation:strategy': 'most_frequent', 'data_preprocessing:numerical_transformer:rescaling:__choice__': 'minmax', 'feature_preprocessor:__choice__': 'fast_ica', 'regressor:__choice__': 'libsvm_svr', 'data_preprocessing:categorical_transformer:category_coalescence:minority_coalescer:minimum_fraction': 0.042366198588653134, 'feature_preprocessor:fast_ica:algorithm': 'deflation', 'feature_preprocessor:fast_ica:fun': 'logcosh', 'feature_preprocessor:fast_ica:whiten': 'False', 'regressor:libsvm_svr:C': 7277.320824640944, 'regressor:libsvm_svr:epsilon': 0.0013490872095510865, 'regressor:libsvm_svr:kernel': 'rbf', 'regressor:libsvm_svr:max_iter': -1, 'regressor:libsvm_svr:shrinking': 'True', 'regressor:libsvm_svr:tol': 0.0034607903098849255, 'regressor:libsvm_svr:degree': 2, 'regressor:libsvm_svr:gamma': 0.03233188643981015},\n",
      "dataset_properties={\n",
      "  'task': 4,\n",
      "  'sparse': False,\n",
      "  'multioutput': False,\n",
      "  'target_type': 'regression',\n",
      "  'signed': False})),\n",
      "(0.320000, SimpleRegressionPipeline({'data_preprocessing:categorical_transformer:categorical_encoding:__choice__': 'no_encoding', 'data_preprocessing:categorical_transformer:category_coalescence:__choice__': 'no_coalescense', 'data_preprocessing:numerical_transformer:imputation:strategy': 'median', 'data_preprocessing:numerical_transformer:rescaling:__choice__': 'robust_scaler', 'feature_preprocessor:__choice__': 'select_rates_regression', 'regressor:__choice__': 'mlp', 'data_preprocessing:numerical_transformer:rescaling:robust_scaler:q_max': 0.9207997654238079, 'data_preprocessing:numerical_transformer:rescaling:robust_scaler:q_min': 0.03476030496135107, 'feature_preprocessor:select_rates_regression:alpha': 0.11328576883322483, 'feature_preprocessor:select_rates_regression:mode': 'fpr', 'feature_preprocessor:select_rates_regression:score_func': 'f_regression', 'regressor:mlp:activation': 'tanh', 'regressor:mlp:alpha': 0.07856984027460501, 'regressor:mlp:batch_size': 'auto', 'regressor:mlp:beta_1': 0.9, 'regressor:mlp:beta_2': 0.999, 'regressor:mlp:early_stopping': 'train', 'regressor:mlp:epsilon': 1e-08, 'regressor:mlp:hidden_layer_depth': 2, 'regressor:mlp:learning_rate_init': 0.0005007393472588945, 'regressor:mlp:n_iter_no_change': 32, 'regressor:mlp:num_nodes_per_layer': 75, 'regressor:mlp:shuffle': 'True', 'regressor:mlp:solver': 'adam', 'regressor:mlp:tol': 0.0001},\n",
      "dataset_properties={\n",
      "  'task': 4,\n",
      "  'sparse': False,\n",
      "  'multioutput': False,\n",
      "  'target_type': 'regression',\n",
      "  'signed': False})),\n",
      "(0.100000, SimpleRegressionPipeline({'data_preprocessing:categorical_transformer:categorical_encoding:__choice__': 'one_hot_encoding', 'data_preprocessing:categorical_transformer:category_coalescence:__choice__': 'minority_coalescer', 'data_preprocessing:numerical_transformer:imputation:strategy': 'most_frequent', 'data_preprocessing:numerical_transformer:rescaling:__choice__': 'minmax', 'feature_preprocessor:__choice__': 'extra_trees_preproc_for_regression', 'regressor:__choice__': 'adaboost', 'data_preprocessing:categorical_transformer:category_coalescence:minority_coalescer:minimum_fraction': 0.0011202224478984975, 'feature_preprocessor:extra_trees_preproc_for_regression:bootstrap': 'False', 'feature_preprocessor:extra_trees_preproc_for_regression:criterion': 'friedman_mse', 'feature_preprocessor:extra_trees_preproc_for_regression:max_depth': 'None', 'feature_preprocessor:extra_trees_preproc_for_regression:max_features': 0.4564935128397506, 'feature_preprocessor:extra_trees_preproc_for_regression:max_leaf_nodes': 'None', 'feature_preprocessor:extra_trees_preproc_for_regression:min_samples_leaf': 15, 'feature_preprocessor:extra_trees_preproc_for_regression:min_samples_split': 2, 'feature_preprocessor:extra_trees_preproc_for_regression:min_weight_fraction_leaf': 0.0, 'feature_preprocessor:extra_trees_preproc_for_regression:n_estimators': 100, 'regressor:adaboost:learning_rate': 0.1073113832985263, 'regressor:adaboost:loss': 'linear', 'regressor:adaboost:max_depth': 6, 'regressor:adaboost:n_estimators': 307},\n",
      "dataset_properties={\n",
      "  'task': 4,\n",
      "  'sparse': False,\n",
      "  'multioutput': False,\n",
      "  'target_type': 'regression',\n",
      "  'signed': False})),\n",
      "(0.060000, SimpleRegressionPipeline({'data_preprocessing:categorical_transformer:categorical_encoding:__choice__': 'no_encoding', 'data_preprocessing:categorical_transformer:category_coalescence:__choice__': 'no_coalescense', 'data_preprocessing:numerical_transformer:imputation:strategy': 'mean', 'data_preprocessing:numerical_transformer:rescaling:__choice__': 'standardize', 'feature_preprocessor:__choice__': 'select_rates_regression', 'regressor:__choice__': 'liblinear_svr', 'feature_preprocessor:select_rates_regression:alpha': 0.034904198000955684, 'feature_preprocessor:select_rates_regression:mode': 'fdr', 'feature_preprocessor:select_rates_regression:score_func': 'f_regression', 'regressor:liblinear_svr:C': 35.012615180923554, 'regressor:liblinear_svr:dual': 'False', 'regressor:liblinear_svr:epsilon': 0.7326132441316412, 'regressor:liblinear_svr:fit_intercept': 'True', 'regressor:liblinear_svr:intercept_scaling': 1, 'regressor:liblinear_svr:loss': 'squared_epsilon_insensitive', 'regressor:liblinear_svr:tol': 0.00012982617662684841},\n",
      "dataset_properties={\n",
      "  'task': 4,\n",
      "  'sparse': False,\n",
      "  'multioutput': False,\n",
      "  'target_type': 'regression',\n",
      "  'signed': False})),\n",
      "(0.040000, SimpleRegressionPipeline({'data_preprocessing:categorical_transformer:categorical_encoding:__choice__': 'no_encoding', 'data_preprocessing:categorical_transformer:category_coalescence:__choice__': 'minority_coalescer', 'data_preprocessing:numerical_transformer:imputation:strategy': 'mean', 'data_preprocessing:numerical_transformer:rescaling:__choice__': 'robust_scaler', 'feature_preprocessor:__choice__': 'fast_ica', 'regressor:__choice__': 'extra_trees', 'data_preprocessing:categorical_transformer:category_coalescence:minority_coalescer:minimum_fraction': 0.035474457946483545, 'data_preprocessing:numerical_transformer:rescaling:robust_scaler:q_max': 0.8638632907548194, 'data_preprocessing:numerical_transformer:rescaling:robust_scaler:q_min': 0.20333962077578846, 'feature_preprocessor:fast_ica:algorithm': 'deflation', 'feature_preprocessor:fast_ica:fun': 'cube', 'feature_preprocessor:fast_ica:whiten': 'False', 'regressor:extra_trees:bootstrap': 'True', 'regressor:extra_trees:criterion': 'mse', 'regressor:extra_trees:max_depth': 'None', 'regressor:extra_trees:max_features': 0.9365859408968897, 'regressor:extra_trees:max_leaf_nodes': 'None', 'regressor:extra_trees:min_impurity_decrease': 0.0, 'regressor:extra_trees:min_samples_leaf': 1, 'regressor:extra_trees:min_samples_split': 17, 'regressor:extra_trees:min_weight_fraction_leaf': 0.0},\n",
      "dataset_properties={\n",
      "  'task': 4,\n",
      "  'sparse': False,\n",
      "  'multioutput': False,\n",
      "  'target_type': 'regression',\n",
      "  'signed': False})),\n",
      "(0.020000, SimpleRegressionPipeline({'data_preprocessing:categorical_transformer:categorical_encoding:__choice__': 'no_encoding', 'data_preprocessing:categorical_transformer:category_coalescence:__choice__': 'no_coalescense', 'data_preprocessing:numerical_transformer:imputation:strategy': 'most_frequent', 'data_preprocessing:numerical_transformer:rescaling:__choice__': 'standardize', 'feature_preprocessor:__choice__': 'select_rates_regression', 'regressor:__choice__': 'libsvm_svr', 'feature_preprocessor:select_rates_regression:alpha': 0.1582165090494174, 'feature_preprocessor:select_rates_regression:mode': 'fwe', 'feature_preprocessor:select_rates_regression:score_func': 'f_regression', 'regressor:libsvm_svr:C': 128.92113627227732, 'regressor:libsvm_svr:epsilon': 0.020680198814753303, 'regressor:libsvm_svr:kernel': 'rbf', 'regressor:libsvm_svr:max_iter': -1, 'regressor:libsvm_svr:shrinking': 'False', 'regressor:libsvm_svr:tol': 0.006785360222836613, 'regressor:libsvm_svr:degree': 5, 'regressor:libsvm_svr:gamma': 0.002656551324248869},\n",
      "dataset_properties={\n",
      "  'task': 4,\n",
      "  'sparse': False,\n",
      "  'multioutput': False,\n",
      "  'target_type': 'regression',\n",
      "  'signed': False})),\n",
      "(0.020000, SimpleRegressionPipeline({'data_preprocessing:categorical_transformer:categorical_encoding:__choice__': 'no_encoding', 'data_preprocessing:categorical_transformer:category_coalescence:__choice__': 'minority_coalescer', 'data_preprocessing:numerical_transformer:imputation:strategy': 'mean', 'data_preprocessing:numerical_transformer:rescaling:__choice__': 'robust_scaler', 'feature_preprocessor:__choice__': 'no_preprocessing', 'regressor:__choice__': 'k_nearest_neighbors', 'data_preprocessing:categorical_transformer:category_coalescence:minority_coalescer:minimum_fraction': 0.00397868572473159, 'data_preprocessing:numerical_transformer:rescaling:robust_scaler:q_max': 0.7840854273341944, 'data_preprocessing:numerical_transformer:rescaling:robust_scaler:q_min': 0.11376189722146844, 'regressor:k_nearest_neighbors:n_neighbors': 20, 'regressor:k_nearest_neighbors:p': 2, 'regressor:k_nearest_neighbors:weights': 'distance'},\n",
      "dataset_properties={\n",
      "  'task': 4,\n",
      "  'sparse': False,\n",
      "  'multioutput': False,\n",
      "  'target_type': 'regression',\n",
      "  'signed': False})),\n",
      "(0.020000, SimpleRegressionPipeline({'data_preprocessing:categorical_transformer:categorical_encoding:__choice__': 'one_hot_encoding', 'data_preprocessing:categorical_transformer:category_coalescence:__choice__': 'minority_coalescer', 'data_preprocessing:numerical_transformer:imputation:strategy': 'mean', 'data_preprocessing:numerical_transformer:rescaling:__choice__': 'standardize', 'feature_preprocessor:__choice__': 'select_rates_regression', 'regressor:__choice__': 'decision_tree', 'data_preprocessing:categorical_transformer:category_coalescence:minority_coalescer:minimum_fraction': 0.11367111466813982, 'feature_preprocessor:select_rates_regression:alpha': 0.2664263333083449, 'feature_preprocessor:select_rates_regression:mode': 'fpr', 'feature_preprocessor:select_rates_regression:score_func': 'f_regression', 'regressor:decision_tree:criterion': 'mse', 'regressor:decision_tree:max_depth_factor': 1.3063675331182059, 'regressor:decision_tree:max_features': 1.0, 'regressor:decision_tree:max_leaf_nodes': 'None', 'regressor:decision_tree:min_impurity_decrease': 0.0, 'regressor:decision_tree:min_samples_leaf': 1, 'regressor:decision_tree:min_samples_split': 11, 'regressor:decision_tree:min_weight_fraction_leaf': 0.0},\n",
      "dataset_properties={\n",
      "  'task': 4,\n",
      "  'sparse': False,\n",
      "  'multioutput': False,\n",
      "  'target_type': 'regression',\n",
      "  'signed': False})),\n",
      "(0.020000, SimpleRegressionPipeline({'data_preprocessing:categorical_transformer:categorical_encoding:__choice__': 'no_encoding', 'data_preprocessing:categorical_transformer:category_coalescence:__choice__': 'no_coalescense', 'data_preprocessing:numerical_transformer:imputation:strategy': 'most_frequent', 'data_preprocessing:numerical_transformer:rescaling:__choice__': 'robust_scaler', 'feature_preprocessor:__choice__': 'select_rates_regression', 'regressor:__choice__': 'mlp', 'data_preprocessing:numerical_transformer:rescaling:robust_scaler:q_max': 0.7043248554909164, 'data_preprocessing:numerical_transformer:rescaling:robust_scaler:q_min': 0.01200270221634718, 'feature_preprocessor:select_rates_regression:alpha': 0.38913628657158356, 'feature_preprocessor:select_rates_regression:mode': 'fwe', 'feature_preprocessor:select_rates_regression:score_func': 'f_regression', 'regressor:mlp:activation': 'tanh', 'regressor:mlp:alpha': 7.319568922540367e-06, 'regressor:mlp:batch_size': 'auto', 'regressor:mlp:beta_1': 0.9, 'regressor:mlp:beta_2': 0.999, 'regressor:mlp:early_stopping': 'valid', 'regressor:mlp:epsilon': 1e-08, 'regressor:mlp:hidden_layer_depth': 3, 'regressor:mlp:learning_rate_init': 0.03589894443758096, 'regressor:mlp:n_iter_no_change': 32, 'regressor:mlp:num_nodes_per_layer': 25, 'regressor:mlp:shuffle': 'True', 'regressor:mlp:solver': 'adam', 'regressor:mlp:tol': 0.0001, 'regressor:mlp:validation_fraction': 0.1},\n",
      "dataset_properties={\n",
      "  'task': 4,\n",
      "  'sparse': False,\n",
      "  'multioutput': False,\n",
      "  'target_type': 'regression',\n",
      "  'signed': False})),\n",
      "]\n"
     ]
    }
   ],
   "source": [
    "print(automl.show_models())"
   ]
  },
  {
   "cell_type": "markdown",
   "id": "5791550f",
   "metadata": {},
   "source": [
    "# Auto-sklearn results"
   ]
  },
  {
   "cell_type": "code",
   "execution_count": 6,
   "id": "b9b94460",
   "metadata": {
    "ExecuteTime": {
     "end_time": "2021-07-09T16:20:57.450596Z",
     "start_time": "2021-07-09T16:20:57.391561Z"
    }
   },
   "outputs": [
    {
     "name": "stdout",
     "output_type": "stream",
     "text": [
      "auto-sklearn results:\n",
      "  Dataset name: f29c69d7-e0d0-11eb-94eb-88d7f6375db5\n",
      "  Metric: r2\n",
      "  Best validation score: 0.640419\n",
      "  Number of target algorithm runs: 65\n",
      "  Number of successful target algorithm runs: 52\n",
      "  Number of crashed target algorithm runs: 0\n",
      "  Number of target algorithms that exceeded the time limit: 13\n",
      "  Number of target algorithms that exceeded the memory limit: 0\n",
      "\n"
     ]
    }
   ],
   "source": [
    "print(automl.sprint_statistics())"
   ]
  },
  {
   "cell_type": "markdown",
   "id": "4f469e86",
   "metadata": {},
   "source": [
    "# Model metrics"
   ]
  },
  {
   "cell_type": "code",
   "execution_count": 7,
   "id": "273836c5",
   "metadata": {
    "ExecuteTime": {
     "end_time": "2021-07-09T16:20:57.828272Z",
     "start_time": "2021-07-09T16:20:57.454907Z"
    }
   },
   "outputs": [
    {
     "name": "stdout",
     "output_type": "stream",
     "text": [
      "R2 score: 0.6993193779306319\n",
      "MSE:  5.0638092441660705\n"
     ]
    }
   ],
   "source": [
    "predictions = automl.predict(X_test)\n",
    "\n",
    "print(\"R2 score:\", sklearn.metrics.r2_score(y_test, predictions))\n",
    "\n",
    "print(\"MSE: \" ,sklearn.metrics.mean_squared_error(y_test, predictions))"
   ]
  },
  {
   "cell_type": "markdown",
   "id": "ae4cda77",
   "metadata": {},
   "source": [
    "# Predicted and test data visualization"
   ]
  },
  {
   "cell_type": "code",
   "execution_count": 8,
   "id": "53ea4628",
   "metadata": {
    "ExecuteTime": {
     "end_time": "2021-07-09T16:20:58.125536Z",
     "start_time": "2021-07-09T16:20:57.838535Z"
    }
   },
   "outputs": [
    {
     "data": {
      "image/png": "[encoded data removed]",
      "text/plain": [
       "<Figure size 432x288 with 1 Axes>"
      ]
     },
     "metadata": {
      "needs_background": "light"
     },
     "output_type": "display_data"
    }
   ],
   "source": [
    "plt.plot(y_test, color = 'red', label = 'Number of Min. Temperatures')\n",
    "plt.plot(predictions, color = 'blue', label = 'Predicted Number of Min. Temperatures')\n",
    "plt.title('Daily total Minimum Temperatures prediction')\n",
    "plt.xlabel('Time')\n",
    "plt.ylabel('Min. Temperatures')\n",
    "plt.legend()\n",
    "plt.show()"
   ]
  },
  {
   "cell_type": "markdown",
   "id": "13be388d",
   "metadata": {},
   "source": [
    "# Observations\n",
    "\n"
   ]
  },
  {
   "cell_type": "markdown",
   "id": "22a4814f",
   "metadata": {},
   "source": [
    "Judging from the results of the neural networks, the AutoMl model seems to perform worse in terms of error to some custom neural networks that were developed on the first part of the project.On the other hand, it seems to be faster at training .In Summary, the AutoMl model is a useful tool to make your life easier when performance doesn't need to be optimal, but custom models give the engineer the option of creating a model that fits the project better."
   ]
  }
 ],
 "metadata": {
  "kernelspec": {
   "display_name": "Python 3",
   "language": "python",
   "name": "python3"
  },
  "language_info": {
   "codemirror_mode": {
    "name": "ipython",
    "version": 3
   },
   "file_extension": ".py",
   "mimetype": "text/x-python",
   "name": "python",
   "nbconvert_exporter": "python",
   "pygments_lexer": "ipython3",
   "version": "3.8.5"
  },
  "latex_envs": {
   "LaTeX_envs_menu_present": true,
   "autoclose": false,
   "autocomplete": true,
   "bibliofile": "biblio.bib",
   "cite_by": "apalike",
   "current_citInitial": 1,
   "eqLabelWithNumbers": true,
   "eqNumInitial": 1,
   "hotkeys": {
    "equation": "Ctrl-E",
    "itemize": "Ctrl-I"
   },
   "labels_anchors": false,
   "latex_user_defs": false,
   "report_style_numbering": false,
   "user_envs_cfg": false
  },
  "toc": {
   "base_numbering": 1,
   "nav_menu": {},
   "number_sections": true,
   "sideBar": true,
   "skip_h1_title": false,
   "title_cell": "Table of Contents",
   "title_sidebar": "Contents",
   "toc_cell": false,
   "toc_position": {},
   "toc_section_display": true,
   "toc_window_display": false
  },
  "varInspector": {
   "cols": {
    "lenName": 16,
    "lenType": 16,
    "lenVar": 40
   },
   "kernels_config": {
    "python": {
     "delete_cmd_postfix": "",
     "delete_cmd_prefix": "del ",
     "library": "var_list.py",
     "varRefreshCmd": "print(var_dic_list())"
    },
    "r": {
     "delete_cmd_postfix": ") ",
     "delete_cmd_prefix": "rm(",
     "library": "var_list.r",
     "varRefreshCmd": "cat(var_dic_list()) "
    }
   },
   "types_to_exclude": [
    "module",
    "function",
    "builtin_function_or_method",
    "instance",
    "_Feature"
   ],
   "window_display": false
  }
 },
 "nbformat": 4,
 "nbformat_minor": 5
}
