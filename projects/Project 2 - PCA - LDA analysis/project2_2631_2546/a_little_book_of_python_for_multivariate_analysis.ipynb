{
 "cells": [
  {
   "cell_type": "markdown",
   "metadata": {},
   "source": [
    "## Project 2\n",
    "\n",
    "Nikolaos Stavrinos 2631\n",
    "\n",
    "Konstantinos Konstantinidis 2546"
   ]
  },
  {
   "cell_type": "markdown",
   "metadata": {},
   "source": [
    "## Importing the libraries"
   ]
  },
  {
   "cell_type": "code",
   "execution_count": 1,
   "metadata": {
    "ExecuteTime": {
     "end_time": "2021-03-28T21:59:14.240786Z",
     "start_time": "2021-03-28T21:59:12.440421Z"
    }
   },
   "outputs": [],
   "source": [
    "from pydoc import help  # can type in the python console `help(name of function)` to get the documentation\n",
    "import pandas as pd\n",
    "import numpy as np\n",
    "import matplotlib.pyplot as plt\n",
    "import seaborn as sns\n",
    "from sklearn.preprocessing import scale\n",
    "from sklearn.decomposition import PCA\n",
    "from sklearn.discriminant_analysis import LinearDiscriminantAnalysis\n",
    "from scipy import stats\n",
    "from IPython.display import display, HTML\n",
    "\n",
    "# figures inline in notebook\n",
    "%matplotlib inline\n",
    "\n",
    "np.set_printoptions(suppress=True)\n",
    "\n",
    "DISPLAY_MAX_ROWS = 100  # number of max rows to print for a DataFrame\n",
    "pd.set_option('display.max_rows', DISPLAY_MAX_ROWS)"
   ]
  },
  {
   "cell_type": "markdown",
   "metadata": {},
   "source": [
    "## Loading Data"
   ]
  },
  {
   "cell_type": "code",
   "execution_count": 2,
   "metadata": {
    "ExecuteTime": {
     "end_time": "2021-03-28T21:59:16.057874Z",
     "start_time": "2021-03-28T21:59:14.246913Z"
    }
   },
   "outputs": [
    {
     "data": {
      "text/html": [
       "<div>\n",
       "<style scoped>\n",
       "    .dataframe tbody tr th:only-of-type {\n",
       "        vertical-align: middle;\n",
       "    }\n",
       "\n",
       "    .dataframe tbody tr th {\n",
       "        vertical-align: top;\n",
       "    }\n",
       "\n",
       "    .dataframe thead th {\n",
       "        text-align: right;\n",
       "    }\n",
       "</style>\n",
       "<table border=\"1\" class=\"dataframe\">\n",
       "  <thead>\n",
       "    <tr style=\"text-align: right;\">\n",
       "      <th></th>\n",
       "      <th>V1</th>\n",
       "      <th>V2</th>\n",
       "      <th>V3</th>\n",
       "      <th>V4</th>\n",
       "      <th>V5</th>\n",
       "      <th>V6</th>\n",
       "      <th>V7</th>\n",
       "      <th>V8</th>\n",
       "      <th>V9</th>\n",
       "      <th>V10</th>\n",
       "      <th>...</th>\n",
       "      <th>V121</th>\n",
       "      <th>V122</th>\n",
       "      <th>V123</th>\n",
       "      <th>V124</th>\n",
       "      <th>V125</th>\n",
       "      <th>V126</th>\n",
       "      <th>V127</th>\n",
       "      <th>V128</th>\n",
       "      <th>V129</th>\n",
       "      <th>V130</th>\n",
       "    </tr>\n",
       "  </thead>\n",
       "  <tbody>\n",
       "    <tr>\n",
       "      <th>0</th>\n",
       "      <td>Ατομική Επιχείρηση</td>\n",
       "      <td>10.0</td>\n",
       "      <td>10\\tΒιομηχανία τροφίμων</td>\n",
       "      <td>Ελαφρά διαφοροποιημένα σε σχέση με τον ανταγων...</td>\n",
       "      <td>Ελαφρά διαφοροποιημένα σε σχέση με τον ανταγων...</td>\n",
       "      <td>90-100%</td>\n",
       "      <td>90-100%</td>\n",
       "      <td>27.0</td>\n",
       "      <td>55.0</td>\n",
       "      <td>3.0</td>\n",
       "      <td>...</td>\n",
       "      <td>0.00</td>\n",
       "      <td>0.00</td>\n",
       "      <td>NaN</td>\n",
       "      <td>NaN</td>\n",
       "      <td>NaN</td>\n",
       "      <td>NaN</td>\n",
       "      <td>-15600.11</td>\n",
       "      <td>-24803.13</td>\n",
       "      <td>-11462.9</td>\n",
       "      <td>5725.19</td>\n",
       "    </tr>\n",
       "    <tr>\n",
       "      <th>1</th>\n",
       "      <td>Ατομική Επιχείρηση</td>\n",
       "      <td>1.0</td>\n",
       "      <td>01\\tΦυτική και ζωική παραγωγή, θήρα και συναφε...</td>\n",
       "      <td>Αρκετά διαφοροποιημένα σε σχέση με τον ανταγων...</td>\n",
       "      <td>Αρκετά διαφοροποιημένα σε σχέση με τον ανταγων...</td>\n",
       "      <td>90-100%</td>\n",
       "      <td>90-100%</td>\n",
       "      <td>20.0</td>\n",
       "      <td>74.0</td>\n",
       "      <td>0.0</td>\n",
       "      <td>...</td>\n",
       "      <td>0.00</td>\n",
       "      <td>0.00</td>\n",
       "      <td>NaN</td>\n",
       "      <td>NaN</td>\n",
       "      <td>NaN</td>\n",
       "      <td>0.00</td>\n",
       "      <td>4890.63</td>\n",
       "      <td>845.97</td>\n",
       "      <td>1320.77</td>\n",
       "      <td>-1912.84</td>\n",
       "    </tr>\n",
       "    <tr>\n",
       "      <th>2</th>\n",
       "      <td>Ατομική Επιχείρηση</td>\n",
       "      <td>46.0</td>\n",
       "      <td>46\\tΧονδρικό εμπόριο, εκτός από το εμπόριο μηχ...</td>\n",
       "      <td>Ίδια με τον ανταγωνισμό</td>\n",
       "      <td>Ίδια με τον ανταγωνισμό</td>\n",
       "      <td>40-60%</td>\n",
       "      <td>60-80%</td>\n",
       "      <td>3.0</td>\n",
       "      <td>82.0</td>\n",
       "      <td>0.0</td>\n",
       "      <td>...</td>\n",
       "      <td>5914.97</td>\n",
       "      <td>2716.37</td>\n",
       "      <td>NaN</td>\n",
       "      <td>NaN</td>\n",
       "      <td>NaN</td>\n",
       "      <td>NaN</td>\n",
       "      <td>5753.44</td>\n",
       "      <td>-1508.88</td>\n",
       "      <td>5680.15</td>\n",
       "      <td>6699.75</td>\n",
       "    </tr>\n",
       "    <tr>\n",
       "      <th>3</th>\n",
       "      <td>ΟΕ</td>\n",
       "      <td>47.0</td>\n",
       "      <td>47\\tΛιανικό εμπόριο, εκτός από το εμπόριο μηχα...</td>\n",
       "      <td>Ίδια με τον ανταγωνισμό</td>\n",
       "      <td>Αρκετά διαφοροποιημένα σε σχέση με τον ανταγων...</td>\n",
       "      <td>80-90%</td>\n",
       "      <td>90-100%</td>\n",
       "      <td>2.0</td>\n",
       "      <td>25.0</td>\n",
       "      <td>47.0</td>\n",
       "      <td>...</td>\n",
       "      <td>0.00</td>\n",
       "      <td>0.00</td>\n",
       "      <td>1913.96</td>\n",
       "      <td>4364.040</td>\n",
       "      <td>3868.04</td>\n",
       "      <td>0.00</td>\n",
       "      <td>19728.35</td>\n",
       "      <td>16688.95</td>\n",
       "      <td>15104.4</td>\n",
       "      <td>-8525.16</td>\n",
       "    </tr>\n",
       "    <tr>\n",
       "      <th>4</th>\n",
       "      <td>ΟΕ</td>\n",
       "      <td>69.0</td>\n",
       "      <td>69\\tΝομικές και λογιστικές δραστηριότητες</td>\n",
       "      <td>Ελαφρά διαφοροποιημένα σε σχέση με τον ανταγων...</td>\n",
       "      <td>Ίδια με τον ανταγωνισμό</td>\n",
       "      <td>90-100%</td>\n",
       "      <td>60-80%</td>\n",
       "      <td>43.0</td>\n",
       "      <td>NaN</td>\n",
       "      <td>8.0</td>\n",
       "      <td>...</td>\n",
       "      <td>0.00</td>\n",
       "      <td>0.00</td>\n",
       "      <td>0.00</td>\n",
       "      <td>0.000</td>\n",
       "      <td>0.00</td>\n",
       "      <td>0.00</td>\n",
       "      <td>-3886.56</td>\n",
       "      <td>-11548.36</td>\n",
       "      <td>-6.818 ,89</td>\n",
       "      <td>-396 ,57</td>\n",
       "    </tr>\n",
       "    <tr>\n",
       "      <th>...</th>\n",
       "      <td>...</td>\n",
       "      <td>...</td>\n",
       "      <td>...</td>\n",
       "      <td>...</td>\n",
       "      <td>...</td>\n",
       "      <td>...</td>\n",
       "      <td>...</td>\n",
       "      <td>...</td>\n",
       "      <td>...</td>\n",
       "      <td>...</td>\n",
       "      <td>...</td>\n",
       "      <td>...</td>\n",
       "      <td>...</td>\n",
       "      <td>...</td>\n",
       "      <td>...</td>\n",
       "      <td>...</td>\n",
       "      <td>...</td>\n",
       "      <td>...</td>\n",
       "      <td>...</td>\n",
       "      <td>...</td>\n",
       "      <td>...</td>\n",
       "    </tr>\n",
       "    <tr>\n",
       "      <th>238</th>\n",
       "      <td>ΑΕ</td>\n",
       "      <td>46.0</td>\n",
       "      <td>46\\tΧονδρικό εμπόριο, εκτός από το εμπόριο μηχ...</td>\n",
       "      <td>Ελαφρά διαφοροποιημένα σε σχέση με τον ανταγων...</td>\n",
       "      <td>Αρκετά διαφοροποιημένα σε σχέση με τον ανταγων...</td>\n",
       "      <td>60-80%</td>\n",
       "      <td>80-90%</td>\n",
       "      <td>10.0</td>\n",
       "      <td>80.0</td>\n",
       "      <td>NaN</td>\n",
       "      <td>...</td>\n",
       "      <td>1023950.86</td>\n",
       "      <td>975574.25</td>\n",
       "      <td>382068.07</td>\n",
       "      <td>432830.123</td>\n",
       "      <td>470206.92</td>\n",
       "      <td>500218.13</td>\n",
       "      <td>-155831.89</td>\n",
       "      <td>-150692.58</td>\n",
       "      <td>-187289</td>\n",
       "      <td>-120871</td>\n",
       "    </tr>\n",
       "    <tr>\n",
       "      <th>239</th>\n",
       "      <td>ΙΚΕ</td>\n",
       "      <td>3.0</td>\n",
       "      <td>03\\tΑλιεία και υδατοκαλλιέργεια</td>\n",
       "      <td>Ίδια με τον ανταγωνισμό</td>\n",
       "      <td>Ίδια με τον ανταγωνισμό</td>\n",
       "      <td>90-100%</td>\n",
       "      <td>90-100%</td>\n",
       "      <td>25.0</td>\n",
       "      <td>50.0</td>\n",
       "      <td>10.0</td>\n",
       "      <td>...</td>\n",
       "      <td>NaN</td>\n",
       "      <td>NaN</td>\n",
       "      <td>NaN</td>\n",
       "      <td>NaN</td>\n",
       "      <td>NaN</td>\n",
       "      <td>NaN</td>\n",
       "      <td>NaN</td>\n",
       "      <td>NaN</td>\n",
       "      <td>NaN</td>\n",
       "      <td>NaN</td>\n",
       "    </tr>\n",
       "    <tr>\n",
       "      <th>240</th>\n",
       "      <td>ΟΕ</td>\n",
       "      <td>13.0</td>\n",
       "      <td>13\\tΠαραγωγή κλωστοϋφαντουργικών υλών</td>\n",
       "      <td>Ίδια με τον ανταγωνισμό</td>\n",
       "      <td>Ίδια με τον ανταγωνισμό</td>\n",
       "      <td>40-60%</td>\n",
       "      <td>80-90%</td>\n",
       "      <td>20.0</td>\n",
       "      <td>50.0</td>\n",
       "      <td>0.0</td>\n",
       "      <td>...</td>\n",
       "      <td>0.00</td>\n",
       "      <td>0.00</td>\n",
       "      <td>0.00</td>\n",
       "      <td>0.000</td>\n",
       "      <td>0.00</td>\n",
       "      <td>0.00</td>\n",
       "      <td>0.00</td>\n",
       "      <td>0.00</td>\n",
       "      <td>0</td>\n",
       "      <td>0</td>\n",
       "    </tr>\n",
       "    <tr>\n",
       "      <th>241</th>\n",
       "      <td>Άλλη μορφή</td>\n",
       "      <td>25.0</td>\n",
       "      <td>25\\tΚατασκευή μεταλλικών προϊόντων, με εξαίρεσ...</td>\n",
       "      <td>Πολύ διαφοροποιημένα σε σχέση με τον ανταγωνισμό</td>\n",
       "      <td>Ελαφρά διαφοροποιημένα σε σχέση με τον ανταγων...</td>\n",
       "      <td>60-80%</td>\n",
       "      <td>90-100%</td>\n",
       "      <td>20.0</td>\n",
       "      <td>20.0</td>\n",
       "      <td>20.0</td>\n",
       "      <td>...</td>\n",
       "      <td>2380374.67</td>\n",
       "      <td>1943502.77</td>\n",
       "      <td>129535.78</td>\n",
       "      <td>119149.750</td>\n",
       "      <td>58872.89</td>\n",
       "      <td>235540.36</td>\n",
       "      <td>53254.42</td>\n",
       "      <td>-37260.05</td>\n",
       "      <td>243555</td>\n",
       "      <td>223290</td>\n",
       "    </tr>\n",
       "    <tr>\n",
       "      <th>242</th>\n",
       "      <td>ΑΕ</td>\n",
       "      <td>46.0</td>\n",
       "      <td>46\\tΧονδρικό εμπόριο, εκτός από το εμπόριο μηχ...</td>\n",
       "      <td>Ελαφρά διαφοροποιημένα σε σχέση με τον ανταγων...</td>\n",
       "      <td>Ελαφρά διαφοροποιημένα σε σχέση με τον ανταγων...</td>\n",
       "      <td>90-100%</td>\n",
       "      <td>90-100%</td>\n",
       "      <td>30.0</td>\n",
       "      <td>30.0</td>\n",
       "      <td>20.0</td>\n",
       "      <td>...</td>\n",
       "      <td>533261.32</td>\n",
       "      <td>452720.37</td>\n",
       "      <td>NaN</td>\n",
       "      <td>NaN</td>\n",
       "      <td>73153.26</td>\n",
       "      <td>60171.49</td>\n",
       "      <td>NaN</td>\n",
       "      <td>NaN</td>\n",
       "      <td>253474</td>\n",
       "      <td>209644</td>\n",
       "    </tr>\n",
       "  </tbody>\n",
       "</table>\n",
       "<p>243 rows × 130 columns</p>\n",
       "</div>"
      ],
      "text/plain": [
       "                     V1    V2  \\\n",
       "0    Ατομική Επιχείρηση  10.0   \n",
       "1    Ατομική Επιχείρηση   1.0   \n",
       "2    Ατομική Επιχείρηση  46.0   \n",
       "3                    ΟΕ  47.0   \n",
       "4                    ΟΕ  69.0   \n",
       "..                  ...   ...   \n",
       "238                  ΑΕ  46.0   \n",
       "239                 ΙΚΕ   3.0   \n",
       "240                  ΟΕ  13.0   \n",
       "241          Άλλη μορφή  25.0   \n",
       "242                  ΑΕ  46.0   \n",
       "\n",
       "                                                    V3  \\\n",
       "0                              10\\tΒιομηχανία τροφίμων   \n",
       "1    01\\tΦυτική και ζωική παραγωγή, θήρα και συναφε...   \n",
       "2    46\\tΧονδρικό εμπόριο, εκτός από το εμπόριο μηχ...   \n",
       "3    47\\tΛιανικό εμπόριο, εκτός από το εμπόριο μηχα...   \n",
       "4            69\\tΝομικές και λογιστικές δραστηριότητες   \n",
       "..                                                 ...   \n",
       "238  46\\tΧονδρικό εμπόριο, εκτός από το εμπόριο μηχ...   \n",
       "239                    03\\tΑλιεία και υδατοκαλλιέργεια   \n",
       "240              13\\tΠαραγωγή κλωστοϋφαντουργικών υλών   \n",
       "241  25\\tΚατασκευή μεταλλικών προϊόντων, με εξαίρεσ...   \n",
       "242  46\\tΧονδρικό εμπόριο, εκτός από το εμπόριο μηχ...   \n",
       "\n",
       "                                                    V4  \\\n",
       "0    Ελαφρά διαφοροποιημένα σε σχέση με τον ανταγων...   \n",
       "1    Αρκετά διαφοροποιημένα σε σχέση με τον ανταγων...   \n",
       "2                              Ίδια με τον ανταγωνισμό   \n",
       "3                              Ίδια με τον ανταγωνισμό   \n",
       "4    Ελαφρά διαφοροποιημένα σε σχέση με τον ανταγων...   \n",
       "..                                                 ...   \n",
       "238  Ελαφρά διαφοροποιημένα σε σχέση με τον ανταγων...   \n",
       "239                            Ίδια με τον ανταγωνισμό   \n",
       "240                            Ίδια με τον ανταγωνισμό   \n",
       "241   Πολύ διαφοροποιημένα σε σχέση με τον ανταγωνισμό   \n",
       "242  Ελαφρά διαφοροποιημένα σε σχέση με τον ανταγων...   \n",
       "\n",
       "                                                    V5       V6       V7  \\\n",
       "0    Ελαφρά διαφοροποιημένα σε σχέση με τον ανταγων...  90-100%  90-100%   \n",
       "1    Αρκετά διαφοροποιημένα σε σχέση με τον ανταγων...  90-100%  90-100%   \n",
       "2                              Ίδια με τον ανταγωνισμό   40-60%   60-80%   \n",
       "3    Αρκετά διαφοροποιημένα σε σχέση με τον ανταγων...   80-90%  90-100%   \n",
       "4                              Ίδια με τον ανταγωνισμό  90-100%   60-80%   \n",
       "..                                                 ...      ...      ...   \n",
       "238  Αρκετά διαφοροποιημένα σε σχέση με τον ανταγων...   60-80%   80-90%   \n",
       "239                            Ίδια με τον ανταγωνισμό  90-100%  90-100%   \n",
       "240                            Ίδια με τον ανταγωνισμό   40-60%   80-90%   \n",
       "241  Ελαφρά διαφοροποιημένα σε σχέση με τον ανταγων...   60-80%  90-100%   \n",
       "242  Ελαφρά διαφοροποιημένα σε σχέση με τον ανταγων...  90-100%  90-100%   \n",
       "\n",
       "       V8    V9   V10  ...        V121        V122       V123        V124  \\\n",
       "0    27.0  55.0   3.0  ...        0.00        0.00        NaN         NaN   \n",
       "1    20.0  74.0   0.0  ...        0.00        0.00        NaN         NaN   \n",
       "2     3.0  82.0   0.0  ...     5914.97     2716.37        NaN         NaN   \n",
       "3     2.0  25.0  47.0  ...        0.00        0.00    1913.96    4364.040   \n",
       "4    43.0   NaN   8.0  ...        0.00        0.00       0.00       0.000   \n",
       "..    ...   ...   ...  ...         ...         ...        ...         ...   \n",
       "238  10.0  80.0   NaN  ...  1023950.86   975574.25  382068.07  432830.123   \n",
       "239  25.0  50.0  10.0  ...         NaN         NaN        NaN         NaN   \n",
       "240  20.0  50.0   0.0  ...        0.00        0.00       0.00       0.000   \n",
       "241  20.0  20.0  20.0  ...  2380374.67  1943502.77  129535.78  119149.750   \n",
       "242  30.0  30.0  20.0  ...   533261.32   452720.37        NaN         NaN   \n",
       "\n",
       "          V125       V126       V127       V128        V129      V130  \n",
       "0          NaN        NaN  -15600.11  -24803.13    -11462.9   5725.19  \n",
       "1          NaN       0.00    4890.63     845.97     1320.77  -1912.84  \n",
       "2          NaN        NaN    5753.44   -1508.88     5680.15   6699.75  \n",
       "3      3868.04       0.00   19728.35   16688.95     15104.4  -8525.16  \n",
       "4         0.00       0.00   -3886.56  -11548.36  -6.818 ,89  -396 ,57  \n",
       "..         ...        ...        ...        ...         ...       ...  \n",
       "238  470206.92  500218.13 -155831.89 -150692.58     -187289   -120871  \n",
       "239        NaN        NaN        NaN        NaN         NaN       NaN  \n",
       "240       0.00       0.00       0.00       0.00           0         0  \n",
       "241   58872.89  235540.36   53254.42  -37260.05      243555    223290  \n",
       "242   73153.26   60171.49        NaN        NaN      253474    209644  \n",
       "\n",
       "[243 rows x 130 columns]"
      ]
     },
     "execution_count": 2,
     "metadata": {},
     "output_type": "execute_result"
    }
   ],
   "source": [
    "data = pd.read_excel(\"business_survey_results.xlsx\", engine='openpyxl')\n",
    "data.columns = [\"V\"+str(i) for i in range(1, len(data.columns)+1)]  # rename column names to be similar to R naming convention\n",
    "\n",
    "X = data.loc[:, \"V2\":]  # independent variables data\n",
    "y = data.V1  # dependednt variable data\n",
    "\n",
    "data\n"
   ]
  },
  {
   "cell_type": "markdown",
   "metadata": {},
   "source": [
    "## Converting categorical values to numerical"
   ]
  },
  {
   "cell_type": "code",
   "execution_count": 3,
   "metadata": {
    "ExecuteTime": {
     "end_time": "2021-03-28T21:59:16.789857Z",
     "start_time": "2021-03-28T21:59:16.066551Z"
    }
   },
   "outputs": [
    {
     "name": "stdout",
     "output_type": "stream",
     "text": [
      "The classes are : ['nan' 'Άλλη μορφή' 'ΑΕ' 'Ατομική Επιχείρηση' 'ΕΠΕ' 'ΙΚΕ' 'ΟΕ']\n"
     ]
    },
    {
     "data": {
      "text/html": [
       "<div>\n",
       "<style scoped>\n",
       "    .dataframe tbody tr th:only-of-type {\n",
       "        vertical-align: middle;\n",
       "    }\n",
       "\n",
       "    .dataframe tbody tr th {\n",
       "        vertical-align: top;\n",
       "    }\n",
       "\n",
       "    .dataframe thead th {\n",
       "        text-align: right;\n",
       "    }\n",
       "</style>\n",
       "<table border=\"1\" class=\"dataframe\">\n",
       "  <thead>\n",
       "    <tr style=\"text-align: right;\">\n",
       "      <th></th>\n",
       "      <th>V2</th>\n",
       "      <th>V3</th>\n",
       "      <th>V4</th>\n",
       "      <th>V5</th>\n",
       "      <th>V6</th>\n",
       "      <th>V7</th>\n",
       "      <th>V8</th>\n",
       "      <th>V9</th>\n",
       "      <th>V10</th>\n",
       "      <th>V11</th>\n",
       "      <th>...</th>\n",
       "      <th>V122</th>\n",
       "      <th>V123</th>\n",
       "      <th>V124</th>\n",
       "      <th>V125</th>\n",
       "      <th>V126</th>\n",
       "      <th>V127</th>\n",
       "      <th>V128</th>\n",
       "      <th>V129</th>\n",
       "      <th>V130</th>\n",
       "      <th>V1</th>\n",
       "    </tr>\n",
       "  </thead>\n",
       "  <tbody>\n",
       "    <tr>\n",
       "      <th>0</th>\n",
       "      <td>1</td>\n",
       "      <td>2</td>\n",
       "      <td>3</td>\n",
       "      <td>3</td>\n",
       "      <td>4</td>\n",
       "      <td>4</td>\n",
       "      <td>15</td>\n",
       "      <td>21</td>\n",
       "      <td>11</td>\n",
       "      <td>5</td>\n",
       "      <td>...</td>\n",
       "      <td>0.0</td>\n",
       "      <td>NaN</td>\n",
       "      <td>NaN</td>\n",
       "      <td>NaN</td>\n",
       "      <td>NaN</td>\n",
       "      <td>11.0</td>\n",
       "      <td>18.0</td>\n",
       "      <td>4</td>\n",
       "      <td>167</td>\n",
       "      <td>3</td>\n",
       "    </tr>\n",
       "    <tr>\n",
       "      <th>1</th>\n",
       "      <td>0</td>\n",
       "      <td>0</td>\n",
       "      <td>2</td>\n",
       "      <td>2</td>\n",
       "      <td>4</td>\n",
       "      <td>4</td>\n",
       "      <td>11</td>\n",
       "      <td>26</td>\n",
       "      <td>0</td>\n",
       "      <td>29</td>\n",
       "      <td>...</td>\n",
       "      <td>0.0</td>\n",
       "      <td>NaN</td>\n",
       "      <td>NaN</td>\n",
       "      <td>NaN</td>\n",
       "      <td>0.0</td>\n",
       "      <td>132.0</td>\n",
       "      <td>160.0</td>\n",
       "      <td>75</td>\n",
       "      <td>16</td>\n",
       "      <td>3</td>\n",
       "    </tr>\n",
       "    <tr>\n",
       "      <th>2</th>\n",
       "      <td>18</td>\n",
       "      <td>18</td>\n",
       "      <td>1</td>\n",
       "      <td>1</td>\n",
       "      <td>1</td>\n",
       "      <td>2</td>\n",
       "      <td>17</td>\n",
       "      <td>33</td>\n",
       "      <td>0</td>\n",
       "      <td>5</td>\n",
       "      <td>...</td>\n",
       "      <td>22.0</td>\n",
       "      <td>NaN</td>\n",
       "      <td>NaN</td>\n",
       "      <td>NaN</td>\n",
       "      <td>NaN</td>\n",
       "      <td>140.0</td>\n",
       "      <td>9.0</td>\n",
       "      <td>168</td>\n",
       "      <td>181</td>\n",
       "      <td>3</td>\n",
       "    </tr>\n",
       "    <tr>\n",
       "      <th>3</th>\n",
       "      <td>19</td>\n",
       "      <td>19</td>\n",
       "      <td>1</td>\n",
       "      <td>2</td>\n",
       "      <td>3</td>\n",
       "      <td>4</td>\n",
       "      <td>10</td>\n",
       "      <td>9</td>\n",
       "      <td>15</td>\n",
       "      <td>13</td>\n",
       "      <td>...</td>\n",
       "      <td>0.0</td>\n",
       "      <td>11.0</td>\n",
       "      <td>28.0</td>\n",
       "      <td>25.0</td>\n",
       "      <td>0.0</td>\n",
       "      <td>87.0</td>\n",
       "      <td>80.0</td>\n",
       "      <td>81</td>\n",
       "      <td>48</td>\n",
       "      <td>6</td>\n",
       "    </tr>\n",
       "    <tr>\n",
       "      <th>4</th>\n",
       "      <td>26</td>\n",
       "      <td>26</td>\n",
       "      <td>3</td>\n",
       "      <td>1</td>\n",
       "      <td>4</td>\n",
       "      <td>2</td>\n",
       "      <td>26</td>\n",
       "      <td>NaN</td>\n",
       "      <td>21</td>\n",
       "      <td>23</td>\n",
       "      <td>...</td>\n",
       "      <td>0.0</td>\n",
       "      <td>1.0</td>\n",
       "      <td>1.0</td>\n",
       "      <td>0.0</td>\n",
       "      <td>0.0</td>\n",
       "      <td>31.0</td>\n",
       "      <td>1.0</td>\n",
       "      <td>45</td>\n",
       "      <td>35</td>\n",
       "      <td>6</td>\n",
       "    </tr>\n",
       "    <tr>\n",
       "      <th>...</th>\n",
       "      <td>...</td>\n",
       "      <td>...</td>\n",
       "      <td>...</td>\n",
       "      <td>...</td>\n",
       "      <td>...</td>\n",
       "      <td>...</td>\n",
       "      <td>...</td>\n",
       "      <td>...</td>\n",
       "      <td>...</td>\n",
       "      <td>...</td>\n",
       "      <td>...</td>\n",
       "      <td>...</td>\n",
       "      <td>...</td>\n",
       "      <td>...</td>\n",
       "      <td>...</td>\n",
       "      <td>...</td>\n",
       "      <td>...</td>\n",
       "      <td>...</td>\n",
       "      <td>...</td>\n",
       "      <td>...</td>\n",
       "      <td>...</td>\n",
       "    </tr>\n",
       "    <tr>\n",
       "      <th>238</th>\n",
       "      <td>18</td>\n",
       "      <td>18</td>\n",
       "      <td>3</td>\n",
       "      <td>2</td>\n",
       "      <td>2</td>\n",
       "      <td>3</td>\n",
       "      <td>1</td>\n",
       "      <td>32</td>\n",
       "      <td>NaN</td>\n",
       "      <td>39</td>\n",
       "      <td>...</td>\n",
       "      <td>43.0</td>\n",
       "      <td>25.0</td>\n",
       "      <td>27.0</td>\n",
       "      <td>31.0</td>\n",
       "      <td>31.0</td>\n",
       "      <td>10.0</td>\n",
       "      <td>8.0</td>\n",
       "      <td>17</td>\n",
       "      <td>4</td>\n",
       "      <td>2</td>\n",
       "    </tr>\n",
       "    <tr>\n",
       "      <th>239</th>\n",
       "      <td>12</td>\n",
       "      <td>1</td>\n",
       "      <td>1</td>\n",
       "      <td>1</td>\n",
       "      <td>4</td>\n",
       "      <td>4</td>\n",
       "      <td>14</td>\n",
       "      <td>19</td>\n",
       "      <td>2</td>\n",
       "      <td>1</td>\n",
       "      <td>...</td>\n",
       "      <td>NaN</td>\n",
       "      <td>NaN</td>\n",
       "      <td>NaN</td>\n",
       "      <td>NaN</td>\n",
       "      <td>NaN</td>\n",
       "      <td>NaN</td>\n",
       "      <td>NaN</td>\n",
       "      <td>NaN</td>\n",
       "      <td>NaN</td>\n",
       "      <td>5</td>\n",
       "    </tr>\n",
       "    <tr>\n",
       "      <th>240</th>\n",
       "      <td>2</td>\n",
       "      <td>3</td>\n",
       "      <td>1</td>\n",
       "      <td>1</td>\n",
       "      <td>1</td>\n",
       "      <td>3</td>\n",
       "      <td>11</td>\n",
       "      <td>19</td>\n",
       "      <td>0</td>\n",
       "      <td>8</td>\n",
       "      <td>...</td>\n",
       "      <td>0.0</td>\n",
       "      <td>1.0</td>\n",
       "      <td>1.0</td>\n",
       "      <td>0.0</td>\n",
       "      <td>0.0</td>\n",
       "      <td>46.0</td>\n",
       "      <td>53.0</td>\n",
       "      <td>55</td>\n",
       "      <td>53</td>\n",
       "      <td>6</td>\n",
       "    </tr>\n",
       "    <tr>\n",
       "      <th>241</th>\n",
       "      <td>8</td>\n",
       "      <td>9</td>\n",
       "      <td>4</td>\n",
       "      <td>3</td>\n",
       "      <td>2</td>\n",
       "      <td>4</td>\n",
       "      <td>11</td>\n",
       "      <td>6</td>\n",
       "      <td>6</td>\n",
       "      <td>8</td>\n",
       "      <td>...</td>\n",
       "      <td>13.0</td>\n",
       "      <td>4.0</td>\n",
       "      <td>6.0</td>\n",
       "      <td>38.0</td>\n",
       "      <td>23.0</td>\n",
       "      <td>137.0</td>\n",
       "      <td>29.0</td>\n",
       "      <td>109</td>\n",
       "      <td>108</td>\n",
       "      <td>1</td>\n",
       "    </tr>\n",
       "    <tr>\n",
       "      <th>242</th>\n",
       "      <td>18</td>\n",
       "      <td>18</td>\n",
       "      <td>3</td>\n",
       "      <td>3</td>\n",
       "      <td>4</td>\n",
       "      <td>4</td>\n",
       "      <td>18</td>\n",
       "      <td>11</td>\n",
       "      <td>6</td>\n",
       "      <td>1</td>\n",
       "      <td>...</td>\n",
       "      <td>28.0</td>\n",
       "      <td>NaN</td>\n",
       "      <td>NaN</td>\n",
       "      <td>42.0</td>\n",
       "      <td>36.0</td>\n",
       "      <td>NaN</td>\n",
       "      <td>NaN</td>\n",
       "      <td>111</td>\n",
       "      <td>104</td>\n",
       "      <td>2</td>\n",
       "    </tr>\n",
       "  </tbody>\n",
       "</table>\n",
       "<p>243 rows × 130 columns</p>\n",
       "</div>"
      ],
      "text/plain": [
       "     V2  V3 V4 V5 V6 V7  V8   V9  V10 V11  ...  V122  V123  V124  V125  V126  \\\n",
       "0     1   2  3  3  4  4  15   21   11   5  ...   0.0   NaN   NaN   NaN   NaN   \n",
       "1     0   0  2  2  4  4  11   26    0  29  ...   0.0   NaN   NaN   NaN   0.0   \n",
       "2    18  18  1  1  1  2  17   33    0   5  ...  22.0   NaN   NaN   NaN   NaN   \n",
       "3    19  19  1  2  3  4  10    9   15  13  ...   0.0  11.0  28.0  25.0   0.0   \n",
       "4    26  26  3  1  4  2  26  NaN   21  23  ...   0.0   1.0   1.0   0.0   0.0   \n",
       "..   ..  .. .. .. .. ..  ..  ...  ...  ..  ...   ...   ...   ...   ...   ...   \n",
       "238  18  18  3  2  2  3   1   32  NaN  39  ...  43.0  25.0  27.0  31.0  31.0   \n",
       "239  12   1  1  1  4  4  14   19    2   1  ...   NaN   NaN   NaN   NaN   NaN   \n",
       "240   2   3  1  1  1  3  11   19    0   8  ...   0.0   1.0   1.0   0.0   0.0   \n",
       "241   8   9  4  3  2  4  11    6    6   8  ...  13.0   4.0   6.0  38.0  23.0   \n",
       "242  18  18  3  3  4  4  18   11    6   1  ...  28.0   NaN   NaN  42.0  36.0   \n",
       "\n",
       "      V127   V128 V129 V130 V1  \n",
       "0     11.0   18.0    4  167  3  \n",
       "1    132.0  160.0   75   16  3  \n",
       "2    140.0    9.0  168  181  3  \n",
       "3     87.0   80.0   81   48  6  \n",
       "4     31.0    1.0   45   35  6  \n",
       "..     ...    ...  ...  ... ..  \n",
       "238   10.0    8.0   17    4  2  \n",
       "239    NaN    NaN  NaN  NaN  5  \n",
       "240   46.0   53.0   55   53  6  \n",
       "241  137.0   29.0  109  108  1  \n",
       "242    NaN    NaN  111  104  2  \n",
       "\n",
       "[243 rows x 130 columns]"
      ]
     },
     "execution_count": 3,
     "metadata": {},
     "output_type": "execute_result"
    }
   ],
   "source": [
    "from sklearn.preprocessing import LabelEncoder\n",
    "\n",
    "ord_enc = LabelEncoder()\n",
    "\n",
    "X_numerical=pd.DataFrame()\n",
    "data_numerical=pd.DataFrame()\n",
    "\n",
    "\n",
    "for i in range(2,len(data.columns)+1):\n",
    "    temp=\"V\"+str(i)\n",
    "    data_numerical[temp]=ord_enc.fit_transform(data[temp].astype(str))\n",
    "\n",
    "data_numerical[\"V1\"]=ord_enc.fit_transform(data[\"V1\"].astype(str))  \n",
    "\n",
    "data_numerical=data_numerical.where(~data.isna(),data)\n",
    "\n",
    "print(\"The classes are :\",ord_enc.classes_)\n",
    "\n",
    "\n",
    "data_numerical"
   ]
  },
  {
   "cell_type": "markdown",
   "metadata": {},
   "source": [
    "## Converting NaN values to the mean of their column "
   ]
  },
  {
   "cell_type": "code",
   "execution_count": 4,
   "metadata": {
    "ExecuteTime": {
     "end_time": "2021-03-28T21:59:17.111115Z",
     "start_time": "2021-03-28T21:59:16.800925Z"
    }
   },
   "outputs": [],
   "source": [
    "data_numerical=data_numerical.fillna(value=data_numerical.mean())\n",
    "\n",
    "y=data_numerical.V1"
   ]
  },
  {
   "cell_type": "code",
   "execution_count": 5,
   "metadata": {
    "ExecuteTime": {
     "end_time": "2021-03-28T21:59:17.145477Z",
     "start_time": "2021-03-28T21:59:17.113963Z"
    }
   },
   "outputs": [
    {
     "data": {
      "text/plain": [
       "V1     1.000000\n",
       "V12    0.156737\n",
       "V15    0.130720\n",
       "V51    0.115972\n",
       "V93    0.109692\n",
       "V33    0.108875\n",
       "Name: V1, dtype: float64"
      ]
     },
     "execution_count": 5,
     "metadata": {},
     "output_type": "execute_result"
    }
   ],
   "source": [
    "corrmat = data_numerical.corr()\n",
    "V1_corm=corrmat[\"V1\"][:]\n",
    "V1_sorted=V1_corm.sort_values(ascending=False)\n",
    "V1_sorted[0:6]"
   ]
  },
  {
   "cell_type": "markdown",
   "metadata": {},
   "source": [
    "## Finding the cells with the highest coorelation to the first column"
   ]
  },
  {
   "cell_type": "code",
   "execution_count": 6,
   "metadata": {
    "ExecuteTime": {
     "end_time": "2021-03-28T21:59:17.203841Z",
     "start_time": "2021-03-28T21:59:17.147653Z"
    }
   },
   "outputs": [
    {
     "data": {
      "text/html": [
       "<div>\n",
       "<style scoped>\n",
       "    .dataframe tbody tr th:only-of-type {\n",
       "        vertical-align: middle;\n",
       "    }\n",
       "\n",
       "    .dataframe tbody tr th {\n",
       "        vertical-align: top;\n",
       "    }\n",
       "\n",
       "    .dataframe thead th {\n",
       "        text-align: right;\n",
       "    }\n",
       "</style>\n",
       "<table border=\"1\" class=\"dataframe\">\n",
       "  <thead>\n",
       "    <tr style=\"text-align: right;\">\n",
       "      <th></th>\n",
       "      <th>V12</th>\n",
       "      <th>V15</th>\n",
       "      <th>V51</th>\n",
       "      <th>V93</th>\n",
       "      <th>V33</th>\n",
       "    </tr>\n",
       "  </thead>\n",
       "  <tbody>\n",
       "    <tr>\n",
       "      <th>0</th>\n",
       "      <td>2.000000</td>\n",
       "      <td>2.000000</td>\n",
       "      <td>4.0</td>\n",
       "      <td>6.000000</td>\n",
       "      <td>13.000000</td>\n",
       "    </tr>\n",
       "    <tr>\n",
       "      <th>1</th>\n",
       "      <td>4.000000</td>\n",
       "      <td>8.000000</td>\n",
       "      <td>4.0</td>\n",
       "      <td>7.000000</td>\n",
       "      <td>8.010471</td>\n",
       "    </tr>\n",
       "    <tr>\n",
       "      <th>2</th>\n",
       "      <td>5.000000</td>\n",
       "      <td>8.000000</td>\n",
       "      <td>4.0</td>\n",
       "      <td>6.000000</td>\n",
       "      <td>8.010471</td>\n",
       "    </tr>\n",
       "    <tr>\n",
       "      <th>3</th>\n",
       "      <td>4.000000</td>\n",
       "      <td>5.777293</td>\n",
       "      <td>4.0</td>\n",
       "      <td>5.000000</td>\n",
       "      <td>1.000000</td>\n",
       "    </tr>\n",
       "    <tr>\n",
       "      <th>4</th>\n",
       "      <td>5.000000</td>\n",
       "      <td>9.000000</td>\n",
       "      <td>4.0</td>\n",
       "      <td>10.000000</td>\n",
       "      <td>1.000000</td>\n",
       "    </tr>\n",
       "    <tr>\n",
       "      <th>...</th>\n",
       "      <td>...</td>\n",
       "      <td>...</td>\n",
       "      <td>...</td>\n",
       "      <td>...</td>\n",
       "      <td>...</td>\n",
       "    </tr>\n",
       "    <tr>\n",
       "      <th>238</th>\n",
       "      <td>1.000000</td>\n",
       "      <td>2.000000</td>\n",
       "      <td>4.0</td>\n",
       "      <td>3.000000</td>\n",
       "      <td>4.000000</td>\n",
       "    </tr>\n",
       "    <tr>\n",
       "      <th>239</th>\n",
       "      <td>2.000000</td>\n",
       "      <td>8.000000</td>\n",
       "      <td>4.0</td>\n",
       "      <td>5.737778</td>\n",
       "      <td>2.000000</td>\n",
       "    </tr>\n",
       "    <tr>\n",
       "      <th>240</th>\n",
       "      <td>3.016878</td>\n",
       "      <td>8.000000</td>\n",
       "      <td>4.0</td>\n",
       "      <td>2.000000</td>\n",
       "      <td>17.000000</td>\n",
       "    </tr>\n",
       "    <tr>\n",
       "      <th>241</th>\n",
       "      <td>4.000000</td>\n",
       "      <td>5.777293</td>\n",
       "      <td>4.0</td>\n",
       "      <td>10.000000</td>\n",
       "      <td>4.000000</td>\n",
       "    </tr>\n",
       "    <tr>\n",
       "      <th>242</th>\n",
       "      <td>4.000000</td>\n",
       "      <td>5.000000</td>\n",
       "      <td>4.0</td>\n",
       "      <td>8.000000</td>\n",
       "      <td>4.000000</td>\n",
       "    </tr>\n",
       "  </tbody>\n",
       "</table>\n",
       "<p>243 rows × 5 columns</p>\n",
       "</div>"
      ],
      "text/plain": [
       "          V12       V15  V51        V93        V33\n",
       "0    2.000000  2.000000  4.0   6.000000  13.000000\n",
       "1    4.000000  8.000000  4.0   7.000000   8.010471\n",
       "2    5.000000  8.000000  4.0   6.000000   8.010471\n",
       "3    4.000000  5.777293  4.0   5.000000   1.000000\n",
       "4    5.000000  9.000000  4.0  10.000000   1.000000\n",
       "..        ...       ...  ...        ...        ...\n",
       "238  1.000000  2.000000  4.0   3.000000   4.000000\n",
       "239  2.000000  8.000000  4.0   5.737778   2.000000\n",
       "240  3.016878  8.000000  4.0   2.000000  17.000000\n",
       "241  4.000000  5.777293  4.0  10.000000   4.000000\n",
       "242  4.000000  5.000000  4.0   8.000000   4.000000\n",
       "\n",
       "[243 rows x 5 columns]"
      ]
     },
     "execution_count": 6,
     "metadata": {},
     "output_type": "execute_result"
    }
   ],
   "source": [
    "X_numerical[\"V12\"]=data_numerical[\"V12\"]\n",
    "X_numerical[\"V15\"]=data_numerical[\"V15\"]\n",
    "X_numerical[\"V51\"]=data_numerical[\"V51\"]\n",
    "X_numerical[\"V93\"]=data_numerical[\"V93\"]\n",
    "X_numerical[\"V33\"]=data_numerical[\"V33\"]\n",
    "X_numerical"
   ]
  },
  {
   "cell_type": "markdown",
   "metadata": {},
   "source": [
    "## Standardising Variables\n",
    "\n",
    "If you want to compare different variables that have different units, are very different variances, it is a good idea to first standardise the variables."
   ]
  },
  {
   "cell_type": "code",
   "execution_count": 7,
   "metadata": {
    "ExecuteTime": {
     "end_time": "2021-03-28T21:59:17.219995Z",
     "start_time": "2021-03-28T21:59:17.207703Z"
    }
   },
   "outputs": [],
   "source": [
    "standardisedX = scale(X_numerical)\n",
    "standardisedX = pd.DataFrame(standardisedX, index=X_numerical.index, columns=X_numerical.columns)"
   ]
  },
  {
   "cell_type": "markdown",
   "metadata": {},
   "source": [
    "## Principal Component Analysis\n",
    "\n"
   ]
  },
  {
   "cell_type": "code",
   "execution_count": 8,
   "metadata": {
    "ExecuteTime": {
     "end_time": "2021-03-28T21:59:17.288587Z",
     "start_time": "2021-03-28T21:59:17.227982Z"
    }
   },
   "outputs": [],
   "source": [
    "pca = PCA().fit(standardisedX)"
   ]
  },
  {
   "cell_type": "markdown",
   "metadata": {},
   "source": [
    "You can get a summary of the principal component analysis results using the `pca_summary()` function below, which simulates the output of R's `summary` function on a PCA model:"
   ]
  },
  {
   "cell_type": "code",
   "execution_count": 9,
   "metadata": {
    "ExecuteTime": {
     "end_time": "2021-03-28T21:59:17.330042Z",
     "start_time": "2021-03-28T21:59:17.306227Z"
    }
   },
   "outputs": [],
   "source": [
    "def pca_summary(pca, standardised_data, out=True):\n",
    "    names = [\"PC\"+str(i) for i in range(1, len(pca.explained_variance_ratio_)+1)]\n",
    "    a = list(np.std(pca.transform(standardised_data), axis=0))\n",
    "    b = list(pca.explained_variance_ratio_)\n",
    "    c = [np.sum(pca.explained_variance_ratio_[:i]) for i in range(1, len(pca.explained_variance_ratio_)+1)]\n",
    "    columns = pd.MultiIndex.from_tuples([(\"sdev\", \"Standard deviation\"), (\"varprop\", \"Proportion of Variance\"), (\"cumprop\", \"Cumulative Proportion\")])\n",
    "    summary = pd.DataFrame(zip(a, b, c), index=names, columns=columns)\n",
    "    if out:\n",
    "        print(\"Importance of components:\")\n",
    "        display(summary)\n",
    "    return summary"
   ]
  },
  {
   "cell_type": "code",
   "execution_count": 10,
   "metadata": {
    "ExecuteTime": {
     "end_time": "2021-03-28T21:59:17.420803Z",
     "start_time": "2021-03-28T21:59:17.348942Z"
    }
   },
   "outputs": [
    {
     "name": "stdout",
     "output_type": "stream",
     "text": [
      "Importance of components:\n"
     ]
    },
    {
     "data": {
      "text/html": [
       "<div>\n",
       "<style scoped>\n",
       "    .dataframe tbody tr th:only-of-type {\n",
       "        vertical-align: middle;\n",
       "    }\n",
       "\n",
       "    .dataframe tbody tr th {\n",
       "        vertical-align: top;\n",
       "    }\n",
       "\n",
       "    .dataframe thead tr th {\n",
       "        text-align: left;\n",
       "    }\n",
       "</style>\n",
       "<table border=\"1\" class=\"dataframe\">\n",
       "  <thead>\n",
       "    <tr>\n",
       "      <th></th>\n",
       "      <th>sdev</th>\n",
       "      <th>varprop</th>\n",
       "      <th>cumprop</th>\n",
       "    </tr>\n",
       "    <tr>\n",
       "      <th></th>\n",
       "      <th>Standard deviation</th>\n",
       "      <th>Proportion of Variance</th>\n",
       "      <th>Cumulative Proportion</th>\n",
       "    </tr>\n",
       "  </thead>\n",
       "  <tbody>\n",
       "    <tr>\n",
       "      <th>PC1</th>\n",
       "      <td>1.156654</td>\n",
       "      <td>0.267570</td>\n",
       "      <td>0.267570</td>\n",
       "    </tr>\n",
       "    <tr>\n",
       "      <th>PC2</th>\n",
       "      <td>1.029720</td>\n",
       "      <td>0.212065</td>\n",
       "      <td>0.479635</td>\n",
       "    </tr>\n",
       "    <tr>\n",
       "      <th>PC3</th>\n",
       "      <td>0.997626</td>\n",
       "      <td>0.199052</td>\n",
       "      <td>0.678686</td>\n",
       "    </tr>\n",
       "    <tr>\n",
       "      <th>PC4</th>\n",
       "      <td>0.905573</td>\n",
       "      <td>0.164012</td>\n",
       "      <td>0.842699</td>\n",
       "    </tr>\n",
       "    <tr>\n",
       "      <th>PC5</th>\n",
       "      <td>0.886852</td>\n",
       "      <td>0.157301</td>\n",
       "      <td>1.000000</td>\n",
       "    </tr>\n",
       "  </tbody>\n",
       "</table>\n",
       "</div>"
      ],
      "text/plain": [
       "                  sdev                varprop               cumprop\n",
       "    Standard deviation Proportion of Variance Cumulative Proportion\n",
       "PC1           1.156654               0.267570              0.267570\n",
       "PC2           1.029720               0.212065              0.479635\n",
       "PC3           0.997626               0.199052              0.678686\n",
       "PC4           0.905573               0.164012              0.842699\n",
       "PC5           0.886852               0.157301              1.000000"
      ]
     },
     "metadata": {},
     "output_type": "display_data"
    }
   ],
   "source": [
    "summary = pca_summary(pca, standardisedX)"
   ]
  },
  {
   "cell_type": "markdown",
   "metadata": {},
   "source": [
    "## Deciding How Many Principal Components to Retain\n"
   ]
  },
  {
   "cell_type": "code",
   "execution_count": 11,
   "metadata": {
    "ExecuteTime": {
     "end_time": "2021-03-28T21:59:17.977937Z",
     "start_time": "2021-03-28T21:59:17.428216Z"
    }
   },
   "outputs": [
    {
     "data": {
      "image/png": "[encoded data removed]",
      "text/plain": [
       "<Figure size 432x288 with 1 Axes>"
      ]
     },
     "metadata": {
      "needs_background": "light"
     },
     "output_type": "display_data"
    }
   ],
   "source": [
    "def screeplot(pca, standardised_values):\n",
    "    y = np.std(pca.transform(standardised_values), axis=0)**2\n",
    "    x = np.arange(len(y)) + 1\n",
    "    plt.plot(x, y, \"o-\")\n",
    "    plt.xticks(x, [\"Comp.\"+str(i) for i in x], rotation=60)\n",
    "    plt.ylabel(\"Variance\")\n",
    "    plt.show()\n",
    "\n",
    "screeplot(pca, standardisedX)"
   ]
  },
  {
   "cell_type": "markdown",
   "metadata": {},
   "source": [
    "We see that the variance is above 1 for principal components 1, 2 Therefore we  retain the first two principal components.\n",
    "\n"
   ]
  },
  {
   "cell_type": "markdown",
   "metadata": {},
   "source": [
    "## Loadings for the Principal Components\n",
    "\n"
   ]
  },
  {
   "cell_type": "code",
   "execution_count": 12,
   "metadata": {
    "ExecuteTime": {
     "end_time": "2021-03-28T21:59:18.018065Z",
     "start_time": "2021-03-28T21:59:17.995542Z"
    }
   },
   "outputs": [
    {
     "data": {
      "text/plain": [
       "array([ 0.49704659, -0.16042275, -0.36035348, -0.50735366, -0.58304962])"
      ]
     },
     "execution_count": 12,
     "metadata": {},
     "output_type": "execute_result"
    }
   ],
   "source": [
    "pca.components_[0]"
   ]
  },
  {
   "cell_type": "code",
   "execution_count": 13,
   "metadata": {
    "ExecuteTime": {
     "end_time": "2021-03-28T21:59:18.047499Z",
     "start_time": "2021-03-28T21:59:18.026820Z"
    }
   },
   "outputs": [
    {
     "data": {
      "text/plain": [
       "0.9999999999999998"
      ]
     },
     "execution_count": 13,
     "metadata": {},
     "output_type": "execute_result"
    }
   ],
   "source": [
    "np.sum(pca.components_[0]**2)"
   ]
  },
  {
   "cell_type": "code",
   "execution_count": 14,
   "metadata": {
    "ExecuteTime": {
     "end_time": "2021-03-28T21:59:18.079720Z",
     "start_time": "2021-03-28T21:59:18.052191Z"
    }
   },
   "outputs": [
    {
     "data": {
      "text/plain": [
       "array([-0.47327292,  0.42745173, -0.67222732,  0.22494433, -0.30134407])"
      ]
     },
     "execution_count": 14,
     "metadata": {},
     "output_type": "execute_result"
    }
   ],
   "source": [
    "pca.components_[1]"
   ]
  },
  {
   "cell_type": "code",
   "execution_count": 15,
   "metadata": {
    "ExecuteTime": {
     "end_time": "2021-03-28T21:59:18.105926Z",
     "start_time": "2021-03-28T21:59:18.088383Z"
    }
   },
   "outputs": [
    {
     "data": {
      "text/plain": [
       "0.9999999999999992"
      ]
     },
     "execution_count": 15,
     "metadata": {},
     "output_type": "execute_result"
    }
   ],
   "source": [
    "np.sum(pca.components_[1]**2)"
   ]
  },
  {
   "cell_type": "markdown",
   "metadata": {},
   "source": [
    "## Scatterplots of the Principal Components\n"
   ]
  },
  {
   "cell_type": "code",
   "execution_count": 16,
   "metadata": {
    "ExecuteTime": {
     "end_time": "2021-03-28T21:59:20.744379Z",
     "start_time": "2021-03-28T21:59:18.113396Z"
    },
    "scrolled": true
   },
   "outputs": [
    {
     "name": "stderr",
     "output_type": "stream",
     "text": [
      "/home/nikos/anaconda3/envs/ml/lib/python3.8/site-packages/seaborn/_decorators.py:36: FutureWarning: Pass the following variables as keyword args: x, y, data. From version 0.12, the only valid positional argument will be `data`, and passing other arguments without an explicit keyword will result in an error or misinterpretation.\n",
      "  warnings.warn(\n"
     ]
    },
    {
     "data": {
      "image/png": "[encoded data removed]",
      "text/plain": [
       "<Figure size 507.625x360 with 1 Axes>"
      ]
     },
     "metadata": {
      "needs_background": "light"
     },
     "output_type": "display_data"
    }
   ],
   "source": [
    "def pca_scatter(pca, standardised_values, classifs):\n",
    "    foo = pca.transform(standardised_values)\n",
    "    bar = pd.DataFrame(zip(foo[:, 0], foo[:, 1], classifs), columns=[\"PC1\", \"PC2\", \"Class\"])\n",
    "    sns.lmplot(\"PC1\", \"PC2\", bar, hue=\"Class\", fit_reg=False)\n",
    "\n",
    "pca_scatter(pca, standardisedX, y)"
   ]
  },
  {
   "cell_type": "markdown",
   "metadata": {},
   "source": [
    "## Linear Discriminant Analysis\n"
   ]
  },
  {
   "cell_type": "code",
   "execution_count": 17,
   "metadata": {
    "ExecuteTime": {
     "end_time": "2021-03-28T21:59:20.779185Z",
     "start_time": "2021-03-28T21:59:20.757213Z"
    }
   },
   "outputs": [],
   "source": [
    "lda = LinearDiscriminantAnalysis().fit(standardisedX, y.astype(str))"
   ]
  },
  {
   "cell_type": "markdown",
   "metadata": {},
   "source": [
    "## Loadings for the Discriminant Functions\n"
   ]
  },
  {
   "cell_type": "code",
   "execution_count": 18,
   "metadata": {
    "ExecuteTime": {
     "end_time": "2021-03-28T21:59:20.840052Z",
     "start_time": "2021-03-28T21:59:20.786357Z"
    }
   },
   "outputs": [
    {
     "name": "stdout",
     "output_type": "stream",
     "text": [
      "Coefficients of linear discriminants:\n"
     ]
    },
    {
     "data": {
      "text/html": [
       "<div>\n",
       "<style scoped>\n",
       "    .dataframe tbody tr th:only-of-type {\n",
       "        vertical-align: middle;\n",
       "    }\n",
       "\n",
       "    .dataframe tbody tr th {\n",
       "        vertical-align: top;\n",
       "    }\n",
       "\n",
       "    .dataframe thead th {\n",
       "        text-align: right;\n",
       "    }\n",
       "</style>\n",
       "<table border=\"1\" class=\"dataframe\">\n",
       "  <thead>\n",
       "    <tr style=\"text-align: right;\">\n",
       "      <th></th>\n",
       "      <th>LD1</th>\n",
       "      <th>LD2</th>\n",
       "      <th>LD3</th>\n",
       "      <th>LD4</th>\n",
       "      <th>LD5</th>\n",
       "    </tr>\n",
       "  </thead>\n",
       "  <tbody>\n",
       "    <tr>\n",
       "      <th>V12</th>\n",
       "      <td>0.628812</td>\n",
       "      <td>0.776034</td>\n",
       "      <td>-0.250872</td>\n",
       "      <td>-0.179602</td>\n",
       "      <td>-0.099680</td>\n",
       "    </tr>\n",
       "    <tr>\n",
       "      <th>V15</th>\n",
       "      <td>0.640801</td>\n",
       "      <td>-0.510118</td>\n",
       "      <td>-0.014806</td>\n",
       "      <td>-0.541019</td>\n",
       "      <td>0.276262</td>\n",
       "    </tr>\n",
       "    <tr>\n",
       "      <th>V51</th>\n",
       "      <td>0.358879</td>\n",
       "      <td>-0.382675</td>\n",
       "      <td>-0.564944</td>\n",
       "      <td>0.626149</td>\n",
       "      <td>-0.226530</td>\n",
       "    </tr>\n",
       "    <tr>\n",
       "      <th>V93</th>\n",
       "      <td>0.382070</td>\n",
       "      <td>0.250950</td>\n",
       "      <td>0.376085</td>\n",
       "      <td>0.498103</td>\n",
       "      <td>0.663589</td>\n",
       "    </tr>\n",
       "    <tr>\n",
       "      <th>V33</th>\n",
       "      <td>0.297177</td>\n",
       "      <td>0.037589</td>\n",
       "      <td>0.692920</td>\n",
       "      <td>-0.053811</td>\n",
       "      <td>-0.693603</td>\n",
       "    </tr>\n",
       "  </tbody>\n",
       "</table>\n",
       "</div>"
      ],
      "text/plain": [
       "          LD1       LD2       LD3       LD4       LD5\n",
       "V12  0.628812  0.776034 -0.250872 -0.179602 -0.099680\n",
       "V15  0.640801 -0.510118 -0.014806 -0.541019  0.276262\n",
       "V51  0.358879 -0.382675 -0.564944  0.626149 -0.226530\n",
       "V93  0.382070  0.250950  0.376085  0.498103  0.663589\n",
       "V33  0.297177  0.037589  0.692920 -0.053811 -0.693603"
      ]
     },
     "metadata": {},
     "output_type": "display_data"
    }
   ],
   "source": [
    "def pretty_scalings(lda, X, out=False):\n",
    "    ret = pd.DataFrame(lda.scalings_, index=X.columns, columns=[\"LD\"+str(i+1) for i in range(lda.scalings_.shape[1])])\n",
    "    if out:\n",
    "        print(\"Coefficients of linear discriminants:\")\n",
    "        display(ret)\n",
    "    return ret\n",
    "\n",
    "pretty_scalings_ = pretty_scalings(lda, standardisedX, out=True)"
   ]
  },
  {
   "cell_type": "code",
   "execution_count": 19,
   "metadata": {
    "ExecuteTime": {
     "end_time": "2021-03-28T21:59:20.912881Z",
     "start_time": "2021-03-28T21:59:20.848454Z"
    },
    "scrolled": true
   },
   "outputs": [
    {
     "name": "stdout",
     "output_type": "stream",
     "text": [
      "class\n",
      "['3.0' '3.0' '3.0' '3.0' '3.0' '3.0' '3.0' '3.0' '3.0' '3.0' '3.0' '3.0'\n",
      " '3.0' '3.0' '3.0' '3.0' '3.0' '3.0' '3.0' '3.0' '3.0' '3.0' '3.0' '3.0'\n",
      " '3.0' '3.0' '3.0' '3.0' '3.0' '3.0' '3.0' '3.0' '3.0' '3.0' '3.0' '3.0'\n",
      " '3.0' '3.0' '3.0' '3.0' '3.0' '3.0' '3.0' '3.0' '3.0' '3.0' '3.0' '3.0'\n",
      " '3.0' '3.0' '3.0' '3.0' '3.0' '3.0' '3.0' '3.0' '3.0' '3.0' '3.0' '3.0'\n",
      " '3.0' '3.0' '3.0' '3.0' '3.0' '3.0' '3.0' '3.0' '3.0' '3.0' '3.0' '3.0'\n",
      " '3.0' '3.0' '3.0' '3.0' '4.0' '3.0' '3.0' '3.0' '3.0' '3.0' '3.0' '3.0'\n",
      " '3.0' '3.0' '3.0' '3.0' '3.0' '3.0' '3.0' '3.0' '3.0' '3.0' '3.0' '3.0'\n",
      " '3.0' '3.0' '3.0' '3.0' '3.0' '3.0' '3.0' '3.0' '3.0' '3.0' '3.0' '3.0'\n",
      " '3.0' '3.0' '3.0' '3.0' '3.0' '3.0' '3.0' '3.0' '3.0' '3.0' '3.0' '3.0'\n",
      " '3.0' '3.0' '3.0' '3.0' '3.0' '3.0' '3.0' '3.0' '3.0' '3.0' '3.0' '3.0'\n",
      " '3.0' '3.0' '3.0' '3.0' '3.0' '3.0' '3.0' '3.0' '3.0' '3.0' '3.0' '3.0'\n",
      " '3.0' '3.0' '3.0' '3.0' '3.0' '3.0' '3.0' '3.0' '3.0' '3.0' '3.0' '3.0'\n",
      " '3.0' '3.0' '3.0' '3.0' '3.0' '3.0' '3.0' '3.0' '3.0' '3.0' '3.0' '3.0'\n",
      " '3.0' '3.0' '3.0' '3.0' '3.0' '3.0' '3.0' '3.0' '3.0' '3.0' '3.0' '3.0'\n",
      " '3.0' '3.0' '3.0' '3.0' '3.0' '3.0' '3.0' '3.0' '3.0' '3.0' '3.0' '3.0'\n",
      " '3.0' '3.0' '3.0' '3.0' '3.0' '3.0' '3.0' '3.0' '3.0' '3.0' '3.0' '3.0'\n",
      " '3.0' '3.0' '3.0' '3.0' '3.0' '3.0' '3.0' '3.0' '3.0' '3.0' '3.0' '3.0'\n",
      " '3.0' '3.0' '3.0' '3.0' '3.0' '3.0' '3.0' '3.0' '3.0' '3.0' '3.0' '3.0'\n",
      " '3.0' '3.0' '3.0' '3.0' '3.0' '3.0' '3.0' '2.0' '3.0' '3.0' '3.0' '3.0'\n",
      " '3.0' '3.0' '3.0']\n",
      "\n",
      "posterior\n",
      "          1.0       2.0       3.0  3.1134453781512605       4.0       5.0  \\\n",
      "0    0.048497  0.175910  0.679477            0.021860  0.008206  0.007748   \n",
      "1    0.019772  0.043876  0.705805            0.021214  0.009467  0.069711   \n",
      "2    0.022741  0.039994  0.629388            0.020426  0.014044  0.104115   \n",
      "3    0.074250  0.092128  0.681609            0.022289  0.003086  0.060317   \n",
      "4    0.016549  0.036125  0.544890            0.017979  0.006825  0.236740   \n",
      "..        ...       ...       ...                 ...       ...       ...   \n",
      "238  0.121593  0.189718  0.650489            0.018683  0.000725  0.003965   \n",
      "239  0.033883  0.053288  0.829957            0.020724  0.001061  0.025036   \n",
      "240  0.017794  0.031407  0.805986            0.020552  0.010764  0.013692   \n",
      "241  0.029234  0.091187  0.632275            0.021920  0.008864  0.095819   \n",
      "242  0.046131  0.109054  0.644207            0.022544  0.007403  0.069840   \n",
      "\n",
      "          6.0  \n",
      "0    0.058301  \n",
      "1    0.130155  \n",
      "2    0.169292  \n",
      "3    0.066320  \n",
      "4    0.140892  \n",
      "..        ...  \n",
      "238  0.014827  \n",
      "239  0.036051  \n",
      "240  0.099805  \n",
      "241  0.120702  \n",
      "242  0.100823  \n",
      "\n",
      "[243 rows x 7 columns]\n",
      "\n",
      "x\n",
      "          LD1       LD2       LD3       LD4       LD5\n",
      "0   -0.775870  0.129730  0.688496  1.278126 -1.249980\n",
      "1    1.309076 -0.116550 -0.352339 -0.032872  0.307963\n",
      "2    1.578745  0.283232 -0.620409 -0.294279  0.045327\n",
      "3    0.015423  0.125003 -1.707794  0.236606  0.799532\n",
      "4    1.811364  0.321106 -1.309863  0.181772  2.103787\n",
      "..        ...       ...       ...       ...       ...\n",
      "238 -2.137427 -0.654263 -0.964120  1.048225 -0.327992\n",
      "239 -0.028010 -1.217728 -1.166371  0.072459  1.154505\n",
      "240  0.976932 -0.886180  0.690146 -0.794361 -2.103050\n",
      "241  0.804772  0.532475 -0.648842  0.954950  1.318570\n",
      "242  0.372509  0.539473 -0.872610  0.821509  0.829252\n",
      "\n",
      "[243 rows x 5 columns]\n"
     ]
    }
   ],
   "source": [
    "def rpredict(lda, X, y, out=False):\n",
    "    ret = {\"class\": lda.predict(X),\n",
    "           \"posterior\": pd.DataFrame(lda.predict_proba(X), columns=lda.classes_)}\n",
    "    ret[\"x\"] = pd.DataFrame(lda.fit_transform(X, y))\n",
    "    ret[\"x\"].columns = [\"LD\"+str(i+1) for i in range(ret[\"x\"].shape[1])]\n",
    "    if out:\n",
    "        print(\"class\")\n",
    "        print(ret[\"class\"])\n",
    "        print()\n",
    "        print(\"posterior\")\n",
    "        print(ret[\"posterior\"])\n",
    "        print()\n",
    "        print(\"x\")\n",
    "        print(ret[\"x\"])\n",
    "    return ret\n",
    "\n",
    "lda_values = rpredict(lda, standardisedX, y.astype(str), True)"
   ]
  },
  {
   "cell_type": "code",
   "execution_count": 21,
   "metadata": {
    "ExecuteTime": {
     "end_time": "2021-03-28T22:06:57.593442Z",
     "start_time": "2021-03-28T22:06:56.320934Z"
    }
   },
   "outputs": [
    {
     "name": "stderr",
     "output_type": "stream",
     "text": [
      "/home/nikos/anaconda3/envs/ml/lib/python3.8/site-packages/seaborn/_decorators.py:36: FutureWarning: Pass the following variables as keyword args: x, y, data. From version 0.12, the only valid positional argument will be `data`, and passing other arguments without an explicit keyword will result in an error or misinterpretation.\n",
      "  warnings.warn(\n"
     ]
    },
    {
     "data": {
      "image/png": "[encoded data removed]",
      "text/plain": [
       "<Figure size 507.625x360 with 1 Axes>"
      ]
     },
     "metadata": {
      "needs_background": "light"
     },
     "output_type": "display_data"
    }
   ],
   "source": [
    "sns.lmplot(\"LD1\", \"LD2\", lda_values[\"x\"].join(y), hue=\"V1\", fit_reg=False);\n"
   ]
  },
  {
   "cell_type": "code",
   "execution_count": null,
   "metadata": {},
   "outputs": [],
   "source": []
  }
 ],
 "metadata": {
  "kernelspec": {
   "display_name": "Python 3",
   "language": "python",
   "name": "python3"
  },
  "language_info": {
   "codemirror_mode": {
    "name": "ipython",
    "version": 3
   },
   "file_extension": ".py",
   "mimetype": "text/x-python",
   "name": "python",
   "nbconvert_exporter": "python",
   "pygments_lexer": "ipython3",
   "version": "3.8.8"
  },
  "latex_envs": {
   "LaTeX_envs_menu_present": true,
   "autoclose": false,
   "autocomplete": true,
   "bibliofile": "biblio.bib",
   "cite_by": "apalike",
   "current_citInitial": 1,
   "eqLabelWithNumbers": true,
   "eqNumInitial": 1,
   "hotkeys": {
    "equation": "Ctrl-E",
    "itemize": "Ctrl-I"
   },
   "labels_anchors": false,
   "latex_user_defs": false,
   "report_style_numbering": false,
   "user_envs_cfg": false
  },
  "toc": {
   "base_numbering": 1,
   "nav_menu": {},
   "number_sections": true,
   "sideBar": true,
   "skip_h1_title": false,
   "title_cell": "Table of Contents",
   "title_sidebar": "Contents",
   "toc_cell": false,
   "toc_position": {},
   "toc_section_display": true,
   "toc_window_display": false
  },
  "varInspector": {
   "cols": {
    "lenName": 16,
    "lenType": 16,
    "lenVar": 40
   },
   "kernels_config": {
    "python": {
     "delete_cmd_postfix": "",
     "delete_cmd_prefix": "del ",
     "library": "var_list.py",
     "varRefreshCmd": "print(var_dic_list())"
    },
    "r": {
     "delete_cmd_postfix": ") ",
     "delete_cmd_prefix": "rm(",
     "library": "var_list.r",
     "varRefreshCmd": "cat(var_dic_list()) "
    }
   },
   "types_to_exclude": [
    "module",
    "function",
    "builtin_function_or_method",
    "instance",
    "_Feature"
   ],
   "window_display": false
  }
 },
 "nbformat": 4,
 "nbformat_minor": 1
}
