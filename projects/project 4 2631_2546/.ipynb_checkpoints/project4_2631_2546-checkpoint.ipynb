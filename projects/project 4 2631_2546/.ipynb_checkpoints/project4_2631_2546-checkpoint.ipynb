{
 "cells": [
  {
   "cell_type": "markdown",
   "id": "f3d8e94f",
   "metadata": {},
   "source": [
    "> **Project 4**:\n",
    ">\n",
    "> - Konstantinos Konstantinidis AEM:2546 konkonstant@uth.gr\n",
    "> - Nikolaos Stavrinos AEM:2631 nstavrinos@uth.gr"
   ]
  },
  {
   "cell_type": "markdown",
   "id": "8cd81a96",
   "metadata": {},
   "source": [
    "# Import Libraries"
   ]
  },
  {
   "cell_type": "code",
   "execution_count": 2,
   "id": "f8876b75",
   "metadata": {
    "ExecuteTime": {
     "end_time": "2021-05-26T16:38:06.227077Z",
     "start_time": "2021-05-26T16:38:04.703072Z"
    }
   },
   "outputs": [
    {
     "name": "stderr",
     "output_type": "stream",
     "text": [
      "[nltk_data] Downloading package wordnet to /home/user/nltk_data...\n",
      "[nltk_data]   Package wordnet is already up-to-date!\n"
     ]
    }
   ],
   "source": [
    "import numpy as np\n",
    "\n",
    "import random\n",
    "import pandas as pd\n",
    "import matplotlib.pyplot as plt\n",
    "from nltk.corpus import stopwords\n",
    "import re\n",
    "from nltk.stem import WordNetLemmatizer\n",
    "from sklearn.feature_extraction.text import TfidfVectorizer\n",
    "from sklearn.feature_extraction.text import CountVectorizer\n",
    "from sklearn.linear_model import LogisticRegression\n",
    "from sklearn.svm import LinearSVC\n",
    "from sklearn.naive_bayes import MultinomialNB\n",
    "from sklearn.ensemble import RandomForestClassifier\n",
    "from sklearn.ensemble import GradientBoostingClassifier\n",
    "from sklearn.neural_network import MLPClassifier\n",
    "from sklearn.metrics import accuracy_score\n",
    "from sklearn.model_selection import train_test_split\n",
    "from sklearn.model_selection import cross_val_score\n",
    "import nltk\n",
    "nltk.download('wordnet')\n",
    "import os"
   ]
  },
  {
   "cell_type": "markdown",
   "id": "bcbc91d0",
   "metadata": {},
   "source": [
    "# Reading the data from the csv"
   ]
  },
  {
   "cell_type": "code",
   "execution_count": 3,
   "id": "d2ba1333",
   "metadata": {
    "ExecuteTime": {
     "end_time": "2021-05-26T16:38:08.444516Z",
     "start_time": "2021-05-26T16:38:08.087085Z"
    }
   },
   "outputs": [
    {
     "data": {
      "text/html": [
       "<div>\n",
       "<style scoped>\n",
       "    .dataframe tbody tr th:only-of-type {\n",
       "        vertical-align: middle;\n",
       "    }\n",
       "\n",
       "    .dataframe tbody tr th {\n",
       "        vertical-align: top;\n",
       "    }\n",
       "\n",
       "    .dataframe thead th {\n",
       "        text-align: right;\n",
       "    }\n",
       "</style>\n",
       "<table border=\"1\" class=\"dataframe\">\n",
       "  <thead>\n",
       "    <tr style=\"text-align: right;\">\n",
       "      <th></th>\n",
       "      <th>Review</th>\n",
       "      <th>Rating</th>\n",
       "    </tr>\n",
       "  </thead>\n",
       "  <tbody>\n",
       "    <tr>\n",
       "      <th>0</th>\n",
       "      <td>nice hotel expensive parking got good deal sta...</td>\n",
       "      <td>4</td>\n",
       "    </tr>\n",
       "    <tr>\n",
       "      <th>1</th>\n",
       "      <td>ok nothing special charge diamond member hilto...</td>\n",
       "      <td>2</td>\n",
       "    </tr>\n",
       "    <tr>\n",
       "      <th>2</th>\n",
       "      <td>nice rooms not 4* experience hotel monaco seat...</td>\n",
       "      <td>3</td>\n",
       "    </tr>\n",
       "    <tr>\n",
       "      <th>3</th>\n",
       "      <td>unique, great stay, wonderful time hotel monac...</td>\n",
       "      <td>5</td>\n",
       "    </tr>\n",
       "    <tr>\n",
       "      <th>4</th>\n",
       "      <td>great stay great stay, went seahawk game aweso...</td>\n",
       "      <td>5</td>\n",
       "    </tr>\n",
       "    <tr>\n",
       "      <th>5</th>\n",
       "      <td>love monaco staff husband stayed hotel crazy w...</td>\n",
       "      <td>5</td>\n",
       "    </tr>\n",
       "    <tr>\n",
       "      <th>6</th>\n",
       "      <td>cozy stay rainy city, husband spent 7 nights m...</td>\n",
       "      <td>5</td>\n",
       "    </tr>\n",
       "    <tr>\n",
       "      <th>7</th>\n",
       "      <td>excellent staff, housekeeping quality hotel ch...</td>\n",
       "      <td>4</td>\n",
       "    </tr>\n",
       "    <tr>\n",
       "      <th>8</th>\n",
       "      <td>hotel stayed hotel monaco cruise, rooms genero...</td>\n",
       "      <td>5</td>\n",
       "    </tr>\n",
       "    <tr>\n",
       "      <th>9</th>\n",
       "      <td>excellent stayed hotel monaco past w/e delight...</td>\n",
       "      <td>5</td>\n",
       "    </tr>\n",
       "  </tbody>\n",
       "</table>\n",
       "</div>"
      ],
      "text/plain": [
       "                                              Review  Rating\n",
       "0  nice hotel expensive parking got good deal sta...       4\n",
       "1  ok nothing special charge diamond member hilto...       2\n",
       "2  nice rooms not 4* experience hotel monaco seat...       3\n",
       "3  unique, great stay, wonderful time hotel monac...       5\n",
       "4  great stay great stay, went seahawk game aweso...       5\n",
       "5  love monaco staff husband stayed hotel crazy w...       5\n",
       "6  cozy stay rainy city, husband spent 7 nights m...       5\n",
       "7  excellent staff, housekeeping quality hotel ch...       4\n",
       "8  hotel stayed hotel monaco cruise, rooms genero...       5\n",
       "9  excellent stayed hotel monaco past w/e delight...       5"
      ]
     },
     "execution_count": 3,
     "metadata": {},
     "output_type": "execute_result"
    }
   ],
   "source": [
    "# read the file\n",
    "reviews_train = []\n",
    "\n",
    "reviews_train = pd.read_csv('tripadvisor_hotel_reviews.csv')\n",
    "\n",
    "reviews_test = []\n",
    "reviews_test = pd.read_csv('tripadvisor_hotel_reviews.csv')\n",
    "\n",
    "reviews_train.head(10)"
   ]
  },
  {
   "cell_type": "markdown",
   "id": "a37ab87b",
   "metadata": {},
   "source": [
    "# Target values  \n",
    "\n",
    "If the rating is 1 or 2 the target value becames 0 and if the rating is 3,4 or 5 the target value becames 1"
   ]
  },
  {
   "cell_type": "code",
   "execution_count": 4,
   "id": "991a6233",
   "metadata": {
    "ExecuteTime": {
     "end_time": "2021-05-26T16:38:12.850002Z",
     "start_time": "2021-05-26T16:38:12.829959Z"
    }
   },
   "outputs": [],
   "source": [
    "train_label = [ 0 if i < 3 else 1 for i in reviews_train['Rating']]\n",
    "test_label = [ 0 if i < 3 else 1 for i in reviews_train['Rating']]   "
   ]
  },
  {
   "cell_type": "markdown",
   "id": "be7a6551",
   "metadata": {},
   "source": [
    "# Split the data into train and test set"
   ]
  },
  {
   "cell_type": "code",
   "execution_count": 5,
   "id": "4075c4a0",
   "metadata": {
    "ExecuteTime": {
     "end_time": "2021-05-26T16:38:15.061131Z",
     "start_time": "2021-05-26T16:38:15.039941Z"
    }
   },
   "outputs": [],
   "source": [
    "X_train, X_val, y_train, y_val = train_test_split(\n",
    "    reviews_train['Review'], train_label, train_size=0.8\n",
    ")"
   ]
  },
  {
   "cell_type": "markdown",
   "id": "f9260a03",
   "metadata": {},
   "source": [
    "# Cleaning Text "
   ]
  },
  {
   "cell_type": "code",
   "execution_count": 6,
   "id": "154708be",
   "metadata": {
    "ExecuteTime": {
     "end_time": "2021-05-26T16:38:20.776676Z",
     "start_time": "2021-05-26T16:38:18.849264Z"
    }
   },
   "outputs": [],
   "source": [
    "REPLACE_NO_SPACE = re.compile(\"[.;:!\\'?,\\\"()\\[\\]]\")\n",
    "REPLACE_WITH_SPACE = re.compile(\"(<br\\s*/><br\\s*/>)|(\\-)|(\\/)\")\n",
    "\n",
    "def preprocess_reviews(reviews):\n",
    "  reviews = [REPLACE_NO_SPACE.sub(\"\", line.lower()) for line in reviews]\n",
    "  reviews = [REPLACE_WITH_SPACE.sub(\" \", line) for line in reviews]\n",
    "  return reviews\n",
    "\n",
    "\n",
    "reviews_train_clean = preprocess_reviews(X_train)\n",
    "reviews_val_clean = preprocess_reviews(X_val)\n",
    "reviews_test_clean = preprocess_reviews(reviews_test['Review'])\n",
    "\n"
   ]
  },
  {
   "cell_type": "markdown",
   "id": "83c5c3ed",
   "metadata": {},
   "source": [
    "# Lemmatization"
   ]
  },
  {
   "cell_type": "code",
   "execution_count": 7,
   "id": "efb084a6",
   "metadata": {
    "ExecuteTime": {
     "end_time": "2021-05-26T16:38:40.188198Z",
     "start_time": "2021-05-26T16:38:23.599185Z"
    }
   },
   "outputs": [],
   "source": [
    "def get_lemmatized_text(corpus):\n",
    "  lemmatizer = WordNetLemmatizer()\n",
    "  return [' '.join([lemmatizer.lemmatize(word) for word in review.split()]) for review in corpus]\n",
    "\n",
    "reviews_train_clean = get_lemmatized_text(reviews_train_clean)\n",
    "reviews_val_clean = get_lemmatized_text(reviews_val_clean)\n",
    "reviews_test_clean = get_lemmatized_text(reviews_test_clean)\n",
    "\n"
   ]
  },
  {
   "cell_type": "markdown",
   "id": "d37ab6a0",
   "metadata": {},
   "source": [
    "# Train and Predict with all the models"
   ]
  },
  {
   "cell_type": "code",
   "execution_count": 8,
   "id": "e7aaaa84",
   "metadata": {
    "ExecuteTime": {
     "end_time": "2021-05-26T17:15:29.380672Z",
     "start_time": "2021-05-26T16:39:16.275761Z"
    }
   },
   "outputs": [
    {
     "name": "stdout",
     "output_type": "stream",
     "text": [
      "Logistic-Binary val_accuracy: 0.932910, test_accuracy: 0.956078\n",
      "RF-Binary val_accuracy: 0.870212, test_accuracy: 0.974037\n",
      "Boosting-Binary val_accuracy: 0.908270, test_accuracy: 0.934752\n",
      "SVC-Binary val_accuracy: 0.925836, test_accuracy: 0.982578\n",
      "Logistic-Count val_accuracy: 0.935106, test_accuracy: 0.985115\n",
      "RF-Count val_accuracy: 0.846548, test_accuracy: 0.969304\n",
      "Boosting-Count val_accuracy: 0.912174, test_accuracy: 0.937729\n",
      "SVC-Count val_accuracy: 0.935838, test_accuracy: 0.987165\n",
      "Logistic-Tf-idf val_accuracy: 0.844596, test_accuracy: 0.843151\n",
      "RF-Tf-idf val_accuracy: 0.857282, test_accuracy: 0.971402\n",
      "Boosting-Tf-idf val_accuracy: 0.912418, test_accuracy: 0.943634\n",
      "SVC-Tf-idf val_accuracy: 0.879483, test_accuracy: 0.864916\n"
     ]
    }
   ],
   "source": [
    "models = []\n",
    "models.append(('Logistic', LogisticRegression(C=0.05)))\n",
    "models.append(('RF', RandomForestClassifier()))\n",
    "models.append(('Boosting', GradientBoostingClassifier(max_depth= 5)))\n",
    "models.append(('SVC', LinearSVC(C=0.05)))\n",
    "# models.append(('DNN', MLPClassifier(hidden_layer_sizes=(30,30,20,10,10), activation='logistic', early_stopping=True)))\n",
    "stop_words = ['in', 'of', 'at', 'a', 'the']\n",
    "preprocessing = []\n",
    "preprocessing.append(('Binary', CountVectorizer(binary=True, stop_words=stop_words)))\n",
    "preprocessing.append(('Count', CountVectorizer(binary=False, ngram_range=(1,3), stop_words=stop_words)))\n",
    "preprocessing.append(('Tf-idf', TfidfVectorizer(ngram_range=(1, 3), stop_words=stop_words)))\n",
    "# evaluate each model in turn\n",
    "val_accuracy = []\n",
    "test_accuracy = []\n",
    "names = []\n",
    "for preprocess_name, preprocess_method in preprocessing:\n",
    "  preprocess_method = preprocess_method.fit(reviews_train_clean)\n",
    "  X_train = preprocess_method.transform(reviews_train_clean)\n",
    "  X_val = preprocess_method.transform(reviews_val_clean)\n",
    "  X_test = preprocess_method.transform(reviews_test_clean)\n",
    "  for name, model in models:  \n",
    "    model.fit(X_train, y_train)\n",
    "    val_label = model.predict(X_val)\n",
    "    val_accuracy.append(accuracy_score(val_label, y_val))\n",
    "    y_pred = model.predict(X_test)\n",
    "    test_accuracy.append(accuracy_score(test_label, y_pred))\n",
    "    names.append(name + '-' + preprocess_name)\n",
    "    print('%s val_accuracy: %f, test_accuracy: %f' % (name + '-' + preprocess_name, accuracy_score(val_label, y_val), accuracy_score(test_label, y_pred)))"
   ]
  },
  {
   "cell_type": "markdown",
   "id": "45940794",
   "metadata": {},
   "source": [
    "# Visualization of results"
   ]
  },
  {
   "cell_type": "code",
   "execution_count": 9,
   "id": "ed7185e1",
   "metadata": {
    "ExecuteTime": {
     "end_time": "2021-05-26T17:16:23.968797Z",
     "start_time": "2021-05-26T17:16:23.492945Z"
    }
   },
   "outputs": [
    {
     "data": {
      "image/png": "[encoded data removed]",
      "text/plain": [
       "<Figure size 1440x720 with 1 Axes>"
      ]
     },
     "metadata": {
      "needs_background": "light"
     },
     "output_type": "display_data"
    }
   ],
   "source": [
    "x = np.arange(len(names))\n",
    "\n",
    "width = 0.3\n",
    "plt.figure(figsize = (20, 10))\n",
    "plt.bar(x - 0.17, val_accuracy, width, label='Validation')\n",
    "plt.bar(x + 0.17, test_accuracy, width, label='Test')\n",
    "plt.xticks(ticks=x, labels=names,\n",
    "           rotation=45)\n",
    "for index, value in enumerate(val_accuracy):\n",
    "    plt.text(index - 0.4, value+0.01, str(value)[0:4])\n",
    "for index, value in enumerate(test_accuracy):\n",
    "    plt.text(index + 0.04, value + 0.01, str(value)[0:4])\n",
    "plt.ylabel(f'Accuracy for different models')\n",
    "_ = plt.legend()"
   ]
  },
  {
   "cell_type": "markdown",
   "id": "8ad3bf83",
   "metadata": {},
   "source": [
    " As we can see from the results ,we achivie the highest accuracy 0.98 with SVC(Binary),Logistic(Count)and RF(Tf-idf).Nevertheless all the models have very good results with accuracy over 0.84."
   ]
  }
 ],
 "metadata": {
  "kernelspec": {
   "display_name": "Python 3",
   "language": "python",
   "name": "python3"
  },
  "language_info": {
   "codemirror_mode": {
    "name": "ipython",
    "version": 3
   },
   "file_extension": ".py",
   "mimetype": "text/x-python",
   "name": "python",
   "nbconvert_exporter": "python",
   "pygments_lexer": "ipython3",
   "version": "3.9.4"
  },
  "latex_envs": {
   "LaTeX_envs_menu_present": true,
   "autoclose": false,
   "autocomplete": true,
   "bibliofile": "biblio.bib",
   "cite_by": "apalike",
   "current_citInitial": 1,
   "eqLabelWithNumbers": true,
   "eqNumInitial": 1,
   "hotkeys": {
    "equation": "Ctrl-E",
    "itemize": "Ctrl-I"
   },
   "labels_anchors": false,
   "latex_user_defs": false,
   "report_style_numbering": false,
   "user_envs_cfg": false
  },
  "toc": {
   "base_numbering": 1,
   "nav_menu": {},
   "number_sections": true,
   "sideBar": true,
   "skip_h1_title": false,
   "title_cell": "Table of Contents",
   "title_sidebar": "Contents",
   "toc_cell": false,
   "toc_position": {},
   "toc_section_display": true,
   "toc_window_display": false
  },
  "varInspector": {
   "cols": {
    "lenName": 16,
    "lenType": 16,
    "lenVar": 40
   },
   "kernels_config": {
    "python": {
     "delete_cmd_postfix": "",
     "delete_cmd_prefix": "del ",
     "library": "var_list.py",
     "varRefreshCmd": "print(var_dic_list())"
    },
    "r": {
     "delete_cmd_postfix": ") ",
     "delete_cmd_prefix": "rm(",
     "library": "var_list.r",
     "varRefreshCmd": "cat(var_dic_list()) "
    }
   },
   "types_to_exclude": [
    "module",
    "function",
    "builtin_function_or_method",
    "instance",
    "_Feature"
   ],
   "window_display": false
  }
 },
 "nbformat": 4,
 "nbformat_minor": 5
}
