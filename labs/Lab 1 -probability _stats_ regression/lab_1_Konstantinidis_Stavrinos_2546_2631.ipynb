{
 "cells": [
  {
   "cell_type": "markdown",
   "metadata": {},
   "source": [
    "## Lab 1\n",
    "### Konstantinidis Konstantinos AEM:2546 konkonstant@uth.gr\n",
    "### Nikolaos Stavrinos AEM:2631 nstavrinos@uth.gr"
   ]
  },
  {
   "cell_type": "markdown",
   "metadata": {},
   "source": [
    "## Exercise 1\n",
    "#### 1 . a\n",
    "\n",
    "The servers have equal probability, so $P(A)=P(B)=P(C)=\\frac{1}{3}$\n",
    "\n",
    "#### 1 . b\n",
    "\n",
    "If Server A or B is selected then P(A V B)=P(A)+P(B)=$\\frac{2}{3}$\n",
    "\n",
    "#### 1 . c\n",
    "\n",
    "It is not possible to choose both server A and B because we only can\n",
    "choose one ,so P(A and B)=0\n",
    "\n",
    "#### 1 . d\n",
    "\n",
    "$P(\\overline{A})=1-P(A)=\\frac{2}{3}$\n",
    "\n",
    "#### 1 . e\n",
    "\n",
    "P(2A)=P(A)\\*P(A)=$\\frac{1}{9}$ because the two choices are independent\n",
    "\n",
    "#### 1 . f\n",
    "\n",
    "P(ABCABCABC)=$\\frac{1}{3^9}$ because all the choices are independent"
   ]
  },
  {
   "cell_type": "markdown",
   "metadata": {},
   "source": [
    "## Exercise 2\n",
    "pmf=f(x)=$(1-p)^{x-1}*p$, for x= 1,2,\\...,$\\infty$\\\n",
    "$E(X)=\\sum_{n=1}^{\\infty} (1-p)^{x-1}*p=p[\\frac{1}{p}+\\frac{1-p}{p}+\\frac{(1-p)^2}{p}+...]=1+1-p+(1-p)^2=\\frac{1}{p}$\n",
    "\n",
    "#### \n",
    "\n",
    "$Var[X]=E[X^2]-(E[X])^2=E[X^2]- \\frac{1}{p^2}$\\\n",
    "$E[X^2] = \\sum_{n=0}^{\\infty} x^2 Pr(X = x)$\\\n",
    "We set q=1-p=$>$ p+q=1\\\n",
    "$E(X^2)=\\sum_{n=1}^{\\infty} k^2*p*q^{k-1}=\\sum_{n=1}^{\\infty} k*(k+1)2*p*q^{k-1}-\\sum_{n=1}^{\\infty} k*p*q^{k-1}=\\sum_{n=1}^{\\infty} k*(k+1)2*p*q^{k-1}-\\frac{1}{p}$\\\n",
    "And from the Derivative of Geometric Sequence/Corollary we know that\n",
    "$\\sum_{n=1}^{\\infty} k*(k+1)2*p*q^{k-1}=p*\\frac{2}{(1-q)^3}$\\\n",
    "so $E(X^2)=\\frac{2}{p^2}-\\frac{1}{p}$\\\n",
    "so Var(X)=$\\frac{1-p}{p^2}$\\\n",
    "The standard deviation=$\\sqrt{\\frac{1-p}{p^2}}=\\frac{\\sqrt{1-p}}{p}$\\\n",
    "The Coefficient of variation COV=$\\frac{\\sigma}{E[X]}=\\sqrt{1-p}$"
   ]
  },
  {
   "cell_type": "markdown",
   "metadata": {},
   "source": [
    "## Exercise 3\n",
    "$E[X]=\\sum_{n=1}^{\\infty}k\\frac 1 {k!} \\lambda^k e^{-\\lambda}=\\lambda e^{-\\lambda}\\sum_{n=0}^{\\infty}\\frac{\\lambda^{j}}{j!}=\\lambda e^{-\\lambda}e^{\\lambda}=\\lambda$\n",
    "from the poisson distribution we know that Var(x)=E[x]\n",
    "the Cov=$\\frac{\\sigma}{E[X]}=\\lambda^{1/2}$"
   ]
  },
  {
   "cell_type": "markdown",
   "metadata": {},
   "source": [
    "## Exercise 4\n",
    "\n",
    "From exercise 3 we know that the mean and variance of a Poisson\n",
    "distribution with pmf=$\\frac 1 {x!} \\lambda^x e^{-\\lambda x}$ re equal to $\\lambda$. x,y are\n",
    "random variables.\\\n",
    "a)Mean(x+y)=Mean(x)+Mean(y)=2$\\lambda$\\\n",
    "b)Var(x+y)=Var(x)+Var(y)=2$\\lambda$\\\n",
    "c)Mean(x-y)=Mean(x)-Mean(y)=0\\\n",
    "d)Var(x-y)=Var(x)+Var(y)=2$\\lambda$\\\n",
    "e)Mean(3x-4y)=3Mean(x)-4Mean(y)=-$\\lambda$\\\n",
    "f)Var(3x-4y)=9Var(x)+16Var(y)=25$\\lambda$\\\n",
    "so COV=$\\frac{\\sqrt{VAR}}{Mean}=5\\sqrt{\\lambda}$"
   ]
  },
  {
   "cell_type": "markdown",
   "metadata": {},
   "source": [
    "## Exercise 5:\n",
    "\n",
    "pdf= $\\dfrac{dF(x)}{dx}$ = $\\dfrac{x^{m-1}e^{-x/a}}{(m-1)!a^{m}}$\n",
    "\n",
    "Mean=$\\mu=\\int_{0}^{\\infty} xf(x)\\, dx$=$\\int_{0}^{\\infty} x\\dfrac{x^{m-1}e^{-x/a}}{(m-1)!a^{m}}\\, dx$\n",
    "=$\\int_{0}^{\\infty} \\dfrac{x^{m}e^{-x/a}}{(m-1)!a^{m}}\\, dx$=\n",
    "$\\dfrac{1}{(m-1)!a^{m}}\\int_{0}^{\\infty} x^{m}e^{-x/a}\\, dx$=\n",
    "...=am \n",
    "\n",
    "Variance =$\\sigma^2=\\int_{0}^{\\infty} (x-\\mu)^2f(x)\\, dx$=$\\dfrac{1}{(m-1)!a^{m}}\\int_{0}^{\\infty} (x-am)^2x^{m-1}e^{-x/a}\\, dx$=a^2m\n",
    "\n",
    "Mode occurs at x  where $\\dfrac{df(x)}{dx}$=0\n",
    "\n",
    "$\\dfrac{df(x)}{dx}$=$\\dfrac{e^{-x/a}m(a (-1 + m) - x) (x/a)^{1 + m}}{(x^3 m!)}$ \n",
    "\n",
    "These equals to 0 at x=a(m-1)\n",
    "\n",
    "C.O.V= $\\dfrac{\\sigma}{\\mu}$= $\\dfrac{\\sqrt{a^2m}}{am}$=$\\dfrac{1}{\\sqrt{m}}$"
   ]
  },
  {
   "cell_type": "markdown",
   "metadata": {},
   "source": [
    "## Exercise 6:\n",
    "\n",
    "The pdf for normal distribution is\n",
    "\n",
    "\n",
    "f(x)= $\\dfrac{1}{\\sigma\\sqrt{2\\pi}}e^{\\dfrac{-(x-\\mu)^2}{2\\sigma ^2}}$\n",
    "\n",
    "Here $\\mu$=5 and $\\sigma$=1.So:\n",
    "\n",
    "f(x)= $\\dfrac{1}{\\sqrt{2\\pi}}e^{\\dfrac{-(x-5)^2}{2}}$\n",
    "\n",
    "For pdf values for x=1,2,3,4,5,6,7,8 we have:\n",
    "\n",
    "f(1)= 0.000134 ,\n",
    "f(2)= 0.004431 ,\n",
    "f(3)= 0.053991 ,\n",
    "f(4)= 0.241971 ,\n",
    "f(5)= 0.398942 ,\n",
    "f(6)= 0.241971 ,\n",
    "f(7)= 0.053991 ,\n",
    "f(8)= 0.004431\n",
    "\n",
    "\n",
    "a) P(x>8)=1 - P(x <= 8)= 1- $\\sum_{n=1}^{8}$ f(n)= 1 - 0.999862= 0.000138\n",
    "\n",
    "b) P(x < 6)=$\\sum_{n=1}^{5}$ f(n)= 0.6995\n",
    "\n",
    "c) f(4)+f(5)+f(6)+f(7)= 0.936875=93.68 %\n",
    "\n",
    "d) P(x <= $\\mu$ + $\\z_a$$\\sigma$)=a $\\\\$\n",
    "We have a=0.95 and from the Z-Table we get $\\z_a$=1.645. So,\n",
    "x=5 + 1.645 * 1 = 6.645 sec"
   ]
  },
  {
   "cell_type": "markdown",
   "metadata": {},
   "source": [
    "## Exercise 7"
   ]
  },
  {
   "cell_type": "code",
   "execution_count": 8,
   "metadata": {},
   "outputs": [
    {
     "data": {
      "image/png": "[encoded data removed]",
      "text/plain": [
       "<Figure size 432x288 with 1 Axes>"
      ]
     },
     "metadata": {
      "needs_background": "light"
     },
     "output_type": "display_data"
    }
   ],
   "source": [
    "import numpy as np \n",
    "import statsmodels.api as sm \n",
    "import pylab as py \n",
    "  \n",
    "# np.random generates different random numbers \n",
    "# whenever the code is executed \n",
    "# Note: When you execute the same code  \n",
    "# the graph look different than shown below. \n",
    "  \n",
    "# Random data points generated \n",
    "data_points=np.array([-0.04444, -0.04439,\n",
    "-0.04165, -0.03268, -0.03235, -0.03182, 0.02771, 0.02650,\n",
    "-0.02569,-0.02358, 0.02330, 0.02305, 0.02213, 0.02128, 0.01793, 0.01668,\n",
    "-0.01565, -0.01509, 0.01432, 0.00978, 0.00889, 0.00687, 0.00543, 0.00084,\n",
    "-0.00083, -0.00048, 0.00024, 0.00079, 0.00082, 0.00106, 0.00110, 0.00132])\n",
    "\n",
    "  \n",
    "sm.qqplot(data_points, line ='q') \n",
    "py.show()"
   ]
  },
  {
   "cell_type": "markdown",
   "metadata": {},
   "source": [
    "The errors are normally distributed, judging from the plot"
   ]
  },
  {
   "cell_type": "markdown",
   "metadata": {},
   "source": [
    "## Exercise 8 \n",
    "a)"
   ]
  },
  {
   "cell_type": "code",
   "execution_count": 9,
   "metadata": {},
   "outputs": [
    {
     "data": {
      "image/png": "[encoded data removed]",
      "text/plain": [
       "<Figure size 432x288 with 1 Axes>"
      ]
     },
     "metadata": {
      "needs_background": "light"
     },
     "output_type": "display_data"
    }
   ],
   "source": [
    "import matplotlib.pyplot as plt\n",
    "\n",
    "\n",
    "xUnix=np.array([64,64,64,64,234,590,846,1060,1082,1088,1088,1088,1088])\n",
    "yUnix=np.array([26.4,26.4,26.4,26.4,33.8,41.6,50.0,48.4,49.0,42.0,41.8,41.8,42.0])\n",
    "\n",
    "plt.plot(xUnix, yUnix, 'o')\n",
    "\n",
    "m, b = np.polyfit(xUnix, yUnix, 1)\n",
    "plt.plot(xUnix, m*xUnix+b)\n",
    "\n",
    "plt.show()\n"
   ]
  },
  {
   "cell_type": "code",
   "execution_count": 10,
   "metadata": {},
   "outputs": [
    {
     "name": "stdout",
     "output_type": "stream",
     "text": [
      "0.03325767918465924\n",
      "31.524872667473655\n"
     ]
    },
    {
     "data": {
      "image/png": "[encoded data removed]",
      "text/plain": [
       "<Figure size 432x288 with 1 Axes>"
      ]
     },
     "metadata": {
      "needs_background": "light"
     },
     "output_type": "display_data"
    }
   ],
   "source": [
    "xArgus=np.array([92,92,92,92,348,604,860,1074,1074,1088,1088,1088,1088])\n",
    "yArgus=np.array([32.8,34.2,34.4,34.4,41.4,51.2,76.0,80.8,79.8,58.6,57.7,59.8,57.4])\n",
    "\n",
    "plt.plot(xArgus, yArgus, 'o')\n",
    "\n",
    "m, b = np.polyfit(xArgus, yArgus, 1)\n",
    "plt.plot(xArgus, m*xArgus+b)\n",
    "print(m)\n",
    "print(b)\n",
    "plt.show()\n",
    "\n"
   ]
  },
  {
   "cell_type": "markdown",
   "metadata": {},
   "source": [
    "c),d),e)"
   ]
  },
  {
   "cell_type": "code",
   "execution_count": 11,
   "metadata": {},
   "outputs": [
    {
     "name": "stdout",
     "output_type": "stream",
     "text": [
      "Estimated coefficients for UNIX:\n",
      "b_0 = 26.94109105702647        \n",
      "b_1 = 0.017311854662548205\n"
     ]
    },
    {
     "data": {
      "image/png": "[encoded data removed]",
      "text/plain": [
       "<Figure size 432x288 with 1 Axes>"
      ]
     },
     "metadata": {
      "needs_background": "light"
     },
     "output_type": "display_data"
    },
    {
     "name": "stdout",
     "output_type": "stream",
     "text": [
      "Confidence interval for b_0( 24.213197989727632 , 29.668984124325306 )\n",
      "Confidence interval for b_1( 0.01386961811627991 - 0.0207540912088165 )\n",
      "By the regression is explained  81.03093052266442 % of the variation\n"
     ]
    }
   ],
   "source": [
    "def estimate_coef_test(x, y): \n",
    "    n = np.size(x)\n",
    "    SXY = sum(x * y)\n",
    "    SX = sum(x)\n",
    "    SYY = sum(y * y)\n",
    "    SY = sum(y)\n",
    "    SXX = sum(x * x)\n",
    "    X_mean = np.mean(x)\n",
    "    Y_mean = np.mean(y)    \n",
    "    b_1= slope = (SXY-n*X_mean*Y_mean)/(SXX-n*(X_mean)**2)\n",
    "    b_0=intercept = Y_mean - slope*X_mean\n",
    "    return(b_0,b_1)\n",
    "\n",
    "\n",
    "def plot_regression_line(x, y, b):\n",
    "    # plotting the actual points as scatter plot\n",
    "    plt.scatter(x, y, color = \"m\",\n",
    "               marker = \"o\", s = 30)\n",
    " \n",
    "    # predicted response vector\n",
    "    y_pred = b[0] + b[1]*x\n",
    " \n",
    "    # plotting the regression line\n",
    "    plt.plot(x, y_pred, color = \"g\")\n",
    " \n",
    "    # putting labels\n",
    "    plt.xlabel('x')\n",
    "    plt.ylabel('y')\n",
    " \n",
    "    # function to show plot\n",
    "    plt.show()\n",
    " \n",
    "\n",
    "\n",
    "def conf_var(x, y,b_0,b_1): \n",
    "    n = np.size(x)\n",
    "    SXY = sum(x * y)\n",
    "    SYY = sum(y * y)\n",
    "    SXX = sum(x * x)\n",
    "    SY = sum(y)\n",
    "    X_mean = np.mean(x)\n",
    "    Y_mean = np.mean(y)    \n",
    "    Se=((SYY-b_0*SY-b_1*SXY)/(n-2))** 0.5\n",
    "    Sb_0=Se*(1/n + X_mean **2 / (SXX - n*X_mean **2 ) )**0.5\n",
    "    Sb_1 = Se / (SXX - n*X_mean **2) ** 0.5  \n",
    "    R2=((SYY-n*Y_mean**2)-(SYY-b_0*SY-b_1*SXY))/(SYY-n*Y_mean**2)\n",
    "    \n",
    "    print(\"Confidence interval for b_0(\",b_0 - 1.363*Sb_0,\",\",b_0 + 1.363*Sb_0,\")\")\n",
    "    print(\"Confidence interval for b_1(\",b_1 - 1.363*Sb_1,\"-\",b_1 + 1.363*Sb_1,\")\")\n",
    "    \n",
    "    print(\"By the regression is explained \",R2*100,\"% of the variation\")\n",
    "    \n",
    "\n",
    "\n",
    "# observations / data\n",
    "x = np.array([64,64,64,64,234,590,846,1060,1082,1088,1088,1088,1088])\n",
    "y = np.array([26.4,26.4,26.4,26.4,33.8,41.6,50.0,48.4,49.0,42.0,41.8,41.8,42.0])\n",
    "\n",
    "# estimating coefficients\n",
    "b = estimate_coef_test(x, y)\n",
    "print(\"Estimated coefficients for UNIX:\\nb_0 = {}  \\\n",
    "      \\nb_1 = {}\".format(b[0], b[1]))\n",
    "\n",
    "\n",
    "# plotting regression line\n",
    "plot_regression_line(x, y, b)\n",
    "conf_var(x,y,b[0], b[1])"
   ]
  },
  {
   "cell_type": "code",
   "execution_count": 12,
   "metadata": {},
   "outputs": [
    {
     "name": "stdout",
     "output_type": "stream",
     "text": [
      "Estimated coefficients for ARGUS:\n",
      "b_0 = 31.52487266747367        \n",
      "b_1 = 0.03325767918465925\n"
     ]
    },
    {
     "data": {
      "image/png": "[encoded data removed]",
      "text/plain": [
       "<Figure size 432x288 with 1 Axes>"
      ]
     },
     "metadata": {
      "needs_background": "light"
     },
     "output_type": "display_data"
    },
    {
     "name": "stdout",
     "output_type": "stream",
     "text": [
      "Confidence interval for b_0( 25.12427778438115 , 37.92546755056619 )\n",
      "Confidence interval for b_1( 0.025247931105356863 - 0.04126742726396164 )\n",
      "By the regression is explained  74.43560449792484 % of the variation\n"
     ]
    }
   ],
   "source": [
    "x = np.array([92,92,92,92,348,604,860,1074,1074,1088,1088,1088,1088])\n",
    "y = np.array([32.8,34.2,34.4,34.4,41.4,51.2,76.0,80.8,79.8,58.6,57.7,59.8,57.4])\n",
    "\n",
    "# estimating coefficients\n",
    "b = estimate_coef_test(x, y)\n",
    "print(\"Estimated coefficients for ARGUS:\\nb_0 = {}  \\\n",
    "      \\nb_1 = {}\".format(b[0], b[1]))\n",
    "\n",
    "# plotting regression line\n",
    "plot_regression_line(x, y, b)\n",
    "\n",
    "conf_var(x,y,b[0], b[1])"
   ]
  },
  {
   "cell_type": "markdown",
   "metadata": {},
   "source": [
    "### f)"
   ]
  },
  {
   "cell_type": "markdown",
   "metadata": {},
   "source": [
    "We cannot be sure about the setup times and time per byte before calculating the confidence intervals of regression coefficients."
   ]
  },
  {
   "cell_type": "markdown",
   "metadata": {},
   "source": [
    "### g)\n",
    "Because of the overlapping we understand that the setup times are simillar in the two systems whereas the slopes are different.We cannot be sure though because the variance changes value in our calculatons."
   ]
  },
  {
   "cell_type": "markdown",
   "metadata": {},
   "source": [
    "## Exercise 9"
   ]
  },
  {
   "cell_type": "markdown",
   "metadata": {},
   "source": [
    "From the example above we know that CPU time = –0.0083 + 0.2438(number of disk I/O’s)<br />\n",
    "and we can see that the Standard deviation of effors is equal to 1.0834 <br />\n",
    "CPU time = –0.0083 + 0.2438(100) = 24.3674\n",
    "<br />so From $S_p=S_e([\\frac{1}{n}+\\frac{(x_p-\\overline{x})^2}{\\sum_{}^{}x^2-n\\overline{x}^2}])^{1/2}=>S_p=1.2159$<br />\n",
    "From the table above we see that A.4, the 0.95-quantile of a t-variate with 5 degrees of freedom is equal to 2.015<br />\n",
    "So the 90% confidence interval for $b_0$ is:$24.3674+2.015*1.2159=26.8174\n",
    "$ and $24.3674-2.015*1.2159=21.9174$ (21.9174,26.8174)<br />\n",
    "Now,to find the time of a single program with 100 disk i/o's the formula is almost the same as before.$S_p=S_e([1+\\frac{1}{n}+\\frac{(x_p-\\overline{x})^2}{\\sum_{}^{}x^2-n\\overline{x}^2}])^{1/2}=1.6286$<br />\n",
    "So the 90% confidence interval is:$24.3674 -2.015*1.6286=21.0858$ and $24.3674 +2.015*1.6286=27.6489$ (21.0858,27.6489)\n"
   ]
  },
  {
   "cell_type": "markdown",
   "metadata": {},
   "source": [
    "## Exercise 10\n",
    "\n",
    "In order to find the optimal linear regression model for this data,we first calculate the mean of the observation\n",
    "times of each record size and then we calculate the coefficients of the regression line."
   ]
  },
  {
   "cell_type": "code",
   "execution_count": 13,
   "metadata": {},
   "outputs": [
    {
     "name": "stdout",
     "output_type": "stream",
     "text": [
      "Estimated coefficients:\n",
      "b_0 = -15315.964285714294        \n",
      "b_1 = 49.557229662698425\n",
      "The regression line with non zero intersect is Time= -15315.964285714294 + 49.557229662698425 *record_size\n"
     ]
    },
    {
     "data": {
      "image/png": "[encoded data removed]",
      "text/plain": [
       "<Figure size 432x288 with 1 Axes>"
      ]
     },
     "metadata": {
      "needs_background": "light"
     },
     "output_type": "display_data"
    }
   ],
   "source": [
    "import matplotlib.pyplot as plt\n",
    "\n",
    "def estimate_coef_test(x, y): \n",
    "    n = np.size(x)\n",
    "    SXY = sum(x * y)\n",
    "    SX = sum(x)\n",
    "    SYY = sum(y * y)\n",
    "    SY = sum(y)\n",
    "    SXX = sum(x * x)\n",
    "    X_mean = np.mean(x)\n",
    "    Y_mean = np.mean(y)    \n",
    "    b_1= slope = (SXY-n*X_mean*Y_mean)/(SXX-n*(X_mean)**2)\n",
    "    b_0=intercept = Y_mean - slope*X_mean\n",
    "    return(b_0,b_1)\n",
    "\n",
    "def plot_regression_line(x, y,b0, b1):\n",
    "    # plotting the actual points as scatter plot\n",
    "    plt.scatter(x, y, color = \"m\",\n",
    "               marker = \"o\", s = 30)\n",
    " \n",
    "    # predicted response vector\n",
    "    y_pred = b0 + b1*x\n",
    " \n",
    "    # plotting the regression line\n",
    "    plt.plot(x, y_pred, color = \"g\")\n",
    " \n",
    "    # putting labels\n",
    "    plt.xlabel('x')\n",
    "    plt.ylabel('y')\n",
    " \n",
    "    # function to show plot\n",
    "    plt.show()\n",
    " \n",
    "\n",
    "rec_size=np.array([128,256,384,512,640,768,896,1024])\n",
    "obv_1=np.array([386,850,1544,3035,6650,13887,28059,50916])\n",
    "obv_2=np.array([375,805,1644,3123,6839,14567,27439,52129])\n",
    "obv_3=np.array([393,824,1553,3235,6768,13456,27659,51360])\n",
    "\n",
    "\n",
    "obv_mean=(obv_1+obv_2+obv_3)/3\n",
    "\n",
    "# estimating coefficients\n",
    "b = estimate_coef_test(rec_size, obv_mean)\n",
    "print(\"Estimated coefficients:\\nb_0 = {}  \\\n",
    "      \\nb_1 = {}\".format(b[0], b[1]))\n",
    "\n",
    "print(\"The regression line with non zero intersect is Time=\", b[0] ,\"+\",b[1],\"*record_size\")\n",
    "# plotting regression line\n",
    "plot_regression_line(rec_size, obv_mean, b[0],b[1])\n"
   ]
  },
  {
   "cell_type": "code",
   "execution_count": 14,
   "metadata": {},
   "outputs": [
    {
     "name": "stdout",
     "output_type": "stream",
     "text": [
      "Estimated coefficients:\n",
      "b_0 = 0       \n",
      "b_1 = 49.557229662698425\n",
      "The regression line with zero intersect is Time= 49.557229662698425 *record_size\n"
     ]
    },
    {
     "data": {
      "image/png": "[encoded data removed]",
      "text/plain": [
       "<Figure size 432x288 with 1 Axes>"
      ]
     },
     "metadata": {
      "needs_background": "light"
     },
     "output_type": "display_data"
    }
   ],
   "source": [
    "# estimating coefficients\n",
    "b = estimate_coef_test(rec_size, obv_mean)\n",
    "\n",
    "print(\"Estimated coefficients:\\nb_0 = 0 \\\n",
    "      \\nb_1 =\",b[1])\n",
    "\n",
    "print(\"The regression line with zero intersect is Time=\",b[1],\"*record_size\")\n",
    "# plotting regression line\n",
    "plot_regression_line(rec_size, obv_mean, 0,b[1])"
   ]
  },
  {
   "cell_type": "markdown",
   "metadata": {},
   "source": [
    "**Review Questions** \n",
    "\n",
    "# How does regression differ from correlation?\n",
    "\n",
    "The difference between these two statistical measurements is that\n",
    "regression attempts to establish how X causes Y to change and the\n",
    "results of the analysis will change if X and Y are swapped. With\n",
    "correlation, the X and Y variables are interchangeable.Also regression\n",
    "assumes X is fixed with no error, but with correlation, X and Y are\n",
    "typically both random variables.And last correlation is a single\n",
    "statistic, whereas regression produces an entire equation.\n",
    "\n",
    "# How does an algebraic line differ from a statistical line?\n",
    "\n",
    "First of all there is no mathematical difference between the answers\n",
    "produced by these two lines.There is only a difference in the order in\n",
    "which the answer is written.In Algebra, the equation of a line is\n",
    "represented by y = mx + b, where m is the slope and b is the\n",
    "y-intercept.In Statistics, the preferred equation of a line is\n",
    "represented by y = a + bx, where b is the slope and a is the\n",
    "y-intercept.\n",
    "\n",
    "#  Lines are characterized by their slope and intercept. What does the slope tell you about the line? What does the intercept tell you? What does a slope of 0 indicate?\n",
    "\n",
    "Slope describes the steepness of a line and tells you information about\n",
    "the direction of the line on the coordinate plane.The intercept tells us\n",
    "the value at which the fitted line crosses the y-axis.The slope of 0\n",
    "indicates that the position of the line is dependant on the intercept,\n",
    "is horizontal and parallel to x-axis.\n",
    "\n",
    "# What is \"squared\" in a least squared regression line?\n",
    "\n",
    "The X is squared in a least squared regression line.\n",
    "\n",
    "# Suppose the relation between AGE (years) and HEIGHT (inches) in an adolescent population is described by this model: = 46 + 1.5X. Interpret the slope of this model.Then, predict the average height of a 10 year-old\n",
    "\n",
    "The slope of this model tells us the rate of change of y(HEIGHT)\n",
    "relative to x(AGE). The slope is 1.5, so y is changing 1.5 as fast as x.\n",
    "The average height of 10 years old is 61 inches.\n",
    "\n",
    "# What t value do you use when calculating a 95% confidence interval for b when n = 25?\n",
    "\n",
    "df=n-2=25-2=23\n",
    "\n",
    "a=(1 -- 0.95) / 2 = 0.025\n",
    "\n",
    "And from the table with df=23 and a=0.025 <br />\n",
    "from the table A.4 of the pdf we have t=1.714\n",
    "\n",
    "# What symbol is used to denote the slope in the data?\n",
    "\n",
    "Slope in the data is often denoted by the letter m.\n",
    "\n",
    "# What symbol is used to denote the slope in the population?\n",
    "\n",
    "Slope in the in the population is often denoted by the letter $\\beta1$.\n",
    "\n",
    "# The Normality and equal variance assumptions for regression refer to the distribution of the residuals\n",
    "\n",
    "Yes ,in normality we draw a histogram of the residuals, and then examine\n",
    "the normality of the residual. In equality of variance we look at the\n",
    "scatter plot which we drew for linearity ,if the residuals do not fan\n",
    "out in a triangular fashion that means that the equal variance\n",
    "assumption is met.\n",
    "\n",
    "# What is a residual?\n",
    "\n",
    "A residual is the vertical distance between a data point and the\n",
    "regression line. Each data point has one residual.\n",
    "\n",
    "# What distributional conditions are necessary to help infer population slope beta?\n",
    "\n",
    "Four assumptions must hold linearity, independence, normality and equal\n",
    "variance\n",
    "\n",
    "# Assuming that the 90 % confidence interval of the slope contains zero (0). What that implies?\n",
    "\n",
    "If the interval includes 0, that means the actual coefficient value can\n",
    "be zero and that means that the predictor has no relationship with the\n",
    "response variable or it is insignificant in terms of its influence on\n",
    "response variable."
   ]
  },
  {
   "cell_type": "code",
   "execution_count": null,
   "metadata": {},
   "outputs": [],
   "source": []
  }
 ],
 "metadata": {
  "kernelspec": {
   "display_name": "Python 3",
   "language": "python",
   "name": "python3"
  },
  "language_info": {
   "codemirror_mode": {
    "name": "ipython",
    "version": 3
   },
   "file_extension": ".py",
   "mimetype": "text/x-python",
   "name": "python",
   "nbconvert_exporter": "python",
   "pygments_lexer": "ipython3",
   "version": "3.8.5"
  }
 },
 "nbformat": 4,
 "nbformat_minor": 4
}
