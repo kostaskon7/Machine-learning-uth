{
 "cells": [
  {
   "cell_type": "markdown",
   "metadata": {},
   "source": [
    "> **Lab 5**:\n",
    ">\n",
    "> - Konstantinos Konstantinidis AEM:2546 konkonstant@uth.gr"
   ]
  },
  {
   "cell_type": "markdown",
   "metadata": {},
   "source": [
    "1. Cluster Analysis\n",
    "1. K-means Clustering\n",
    "1. Interpreting Results\n",
    "\n",
    "\\begin{exercise}\n",
    "1) Apply the the k-means described below and sklearn algorithm for clustering the data set \"priorities_perifereion.xlsx'\n",
    "2) Repeat 1) using hierarchical clustering algorithm and compare the two methods\n",
    "included in the file.\n",
    "\\end{exercise}\n",
    "\n"
   ]
  },
  {
   "cell_type": "markdown",
   "metadata": {},
   "source": [
    "## Implementing K-Means"
   ]
  },
  {
   "cell_type": "markdown",
   "metadata": {},
   "source": [
    "* See a very basic example of K-means applied to a clear data set\n",
    "* Work through an implementation of predicting the classes in the iris data set\n",
    "* Application to data we're using"
   ]
  },
  {
   "cell_type": "code",
   "execution_count": 1,
   "metadata": {},
   "outputs": [],
   "source": [
    "%matplotlib inline\n",
    "import pandas as pd\n",
    "import numpy as np\n",
    "import matplotlib\n",
    "import matplotlib.pyplot as plt\n",
    "\n",
    "\n",
    "data= pd.read_excel(\"priorities_perifereion.xlsx\")\n",
    "data=data.T\n",
    "data.columns = [\"V\"+str(i) for i in range(1, len(data.columns)+1)]\n",
    "data.drop(data.index[:1], inplace=True)\n",
    "cols=data.V1\n"
   ]
  },
  {
   "cell_type": "markdown",
   "metadata": {},
   "source": [
    "### K-Means with good data"
   ]
  },
  {
   "cell_type": "markdown",
   "metadata": {},
   "source": [
    "First things first, let's look at a readable and good application of kmeans with made up data:"
   ]
  },
  {
   "cell_type": "code",
   "execution_count": 2,
   "metadata": {},
   "outputs": [],
   "source": [
    "# load modules\n",
    "from sklearn import cluster\n",
    "from numpy import random\n",
    "from pandas import DataFrame, concat\n",
    "from matplotlib import pyplot as plt\n",
    "import pandas as pd\n",
    "\n",
    "\n",
    "\n",
    "\n"
   ]
  },
  {
   "cell_type": "markdown",
   "metadata": {},
   "source": [
    "A quick scatter shows that yes, these are easy identifiable clusters."
   ]
  },
  {
   "cell_type": "markdown",
   "metadata": {},
   "source": [
    "Printing cls returns two arrays and a float.\n",
    "The first array is 'x' and 'y' for the centrioids of each cluster.\n",
    "The second array is the cluster values.\n",
    "The float represents the inertia."
   ]
  },
  {
   "cell_type": "markdown",
   "metadata": {},
   "source": [
    "What happens when we introduce a new length of cluster?"
   ]
  },
  {
   "cell_type": "code",
   "execution_count": 3,
   "metadata": {},
   "outputs": [
    {
     "name": "stdout",
     "output_type": "stream",
     "text": [
      "(array([[6.66666667e-01, 3.33333333e-01, 6.66666667e-01, 6.66666667e-01,\n",
      "        1.00000000e+00, 0.00000000e+00, 3.33333333e-01, 1.00000000e+00,\n",
      "        1.00000000e+00, 1.00000000e+00, 0.00000000e+00, 6.66666667e-01,\n",
      "        6.66666667e-01],\n",
      "       [8.80000000e-01, 8.40000000e-01, 9.60000000e-01, 9.60000000e-01,\n",
      "        1.00000000e+00, 9.20000000e-01, 9.20000000e-01, 9.20000000e-01,\n",
      "        9.20000000e-01, 9.60000000e-01, 9.60000000e-01, 9.60000000e-01,\n",
      "        9.60000000e-01],\n",
      "       [1.11022302e-16, 1.11022302e-16, 2.85714286e-01, 1.42857143e-01,\n",
      "        1.42857143e-01, 1.11022302e-16, 2.85714286e-01, 4.28571429e-01,\n",
      "        2.85714286e-01, 1.42857143e-01, 1.42857143e-01, 5.71428571e-01,\n",
      "        1.42857143e-01],\n",
      "       [5.00000000e-01, 1.00000000e+00, 5.00000000e-01, 0.00000000e+00,\n",
      "        1.00000000e+00, 5.00000000e-01, 1.00000000e+00, 5.00000000e-01,\n",
      "        0.00000000e+00, 1.00000000e+00, 0.00000000e+00, 0.00000000e+00,\n",
      "        1.00000000e+00]]), array([1, 1, 1, 1, 1, 1, 1, 1, 1, 1, 3, 2, 1, 0, 0, 1, 1, 1, 1, 2, 1, 1,\n",
      "       2, 3, 1, 1, 2, 1, 2, 2, 2, 1, 1, 1, 1, 0, 1]), 37.78666666666666)\n"
     ]
    }
   ],
   "source": [
    "## Iris Data Application\n",
    "from sklearn import datasets\n",
    "data= pd.read_excel(\"priorities_perifereion.xlsx\")\n",
    "#data=data.T\n",
    "data.columns = [\"V\"+str(i) for i in range(1, len(data.columns)+1)]\n",
    "data.drop(data.index[:1], inplace=True)\n",
    "\n",
    "X=data.iloc[ :,1: ]\n",
    "cls = cluster.k_means(X, 4)\n",
    "print (cls)"
   ]
  },
  {
   "cell_type": "markdown",
   "metadata": {},
   "source": [
    "Compare the results here. How did K-means do without any data changes?"
   ]
  },
  {
   "cell_type": "markdown",
   "metadata": {},
   "source": [
    "Now calculate the Silhouette Coefficient for the total cluster."
   ]
  },
  {
   "cell_type": "code",
   "execution_count": 4,
   "metadata": {},
   "outputs": [
    {
     "data": {
      "image/png": "[encoded data removed]",
      "text/plain": [
       "<Figure size 432x288 with 2 Axes>"
      ]
     },
     "metadata": {
      "needs_background": "light"
     },
     "output_type": "display_data"
    }
   ],
   "source": [
    "import matplotlib.pyplot as plt\n",
    "from matplotlib.pyplot import cm\n",
    "\n",
    "plt.subplot(211)\n",
    "plt.scatter(data[\"V2\"], data[\"V3\"], cmap=plt.cm.jet, c=list(cls[1]))\n",
    "plt.subplot(212)\n",
    "plt.scatter(data[\"V3\"], data[\"V4\"], cmap=plt.cm.jet, c=list(cls[1]))\n",
    "plt.show()"
   ]
  },
  {
   "cell_type": "code",
   "execution_count": 5,
   "metadata": {},
   "outputs": [
    {
     "data": {
      "text/plain": [
       "0.43544240545166796"
      ]
     },
     "execution_count": 5,
     "metadata": {},
     "output_type": "execute_result"
    }
   ],
   "source": [
    "from sklearn.metrics import silhouette_score\n",
    "\n",
    "silhouette_score(X.values, cls[1])"
   ]
  },
  {
   "cell_type": "code",
   "execution_count": 6,
   "metadata": {},
   "outputs": [
    {
     "name": "stdout",
     "output_type": "stream",
     "text": [
      "[4 0 0 4 4 0 2 4 4 4 2 1 0 3 3 4 4 4 4 1 4 2 1 2 4 0 1 4 1 1 1 4 4 4 4 0 4]\n"
     ]
    },
    {
     "data": {
      "text/plain": [
       "array([[8.33333333e-01, 1.66666667e-01, 6.66666667e-01, 6.66666667e-01,\n",
       "        1.00000000e+00, 6.66666667e-01, 1.00000000e+00, 6.66666667e-01,\n",
       "        1.00000000e+00, 8.33333333e-01, 6.66666667e-01, 1.00000000e+00,\n",
       "        1.00000000e+00],\n",
       "       [1.11022302e-16, 1.11022302e-16, 2.85714286e-01, 1.42857143e-01,\n",
       "        1.42857143e-01, 1.11022302e-16, 2.85714286e-01, 4.28571429e-01,\n",
       "        2.85714286e-01, 1.42857143e-01, 1.42857143e-01, 5.71428571e-01,\n",
       "        1.42857143e-01],\n",
       "       [2.50000000e-01, 1.00000000e+00, 7.50000000e-01, 5.00000000e-01,\n",
       "        1.00000000e+00, 7.50000000e-01, 7.50000000e-01, 7.50000000e-01,\n",
       "        0.00000000e+00, 1.00000000e+00, 5.00000000e-01, 2.50000000e-01,\n",
       "        7.50000000e-01],\n",
       "       [5.00000000e-01, 5.00000000e-01, 1.00000000e+00, 1.00000000e+00,\n",
       "        1.00000000e+00, 0.00000000e+00, 0.00000000e+00, 1.00000000e+00,\n",
       "        1.00000000e+00, 1.00000000e+00, 0.00000000e+00, 5.00000000e-01,\n",
       "        5.00000000e-01],\n",
       "       [1.00000000e+00, 1.00000000e+00, 1.00000000e+00, 1.00000000e+00,\n",
       "        1.00000000e+00, 9.44444444e-01, 9.44444444e-01, 1.00000000e+00,\n",
       "        1.00000000e+00, 1.00000000e+00, 1.00000000e+00, 1.00000000e+00,\n",
       "        1.00000000e+00]])"
      ]
     },
     "execution_count": 6,
     "metadata": {},
     "output_type": "execute_result"
    }
   ],
   "source": [
    "from sklearn.cluster import KMeans\n",
    "\n",
    "kmeans5 = KMeans(n_clusters=5)\n",
    "y_kmeans5 = kmeans5.fit_predict(X.values)\n",
    "print(y_kmeans5)\n",
    "\n",
    "kmeans5.cluster_centers_"
   ]
  },
  {
   "cell_type": "code",
   "execution_count": 7,
   "metadata": {},
   "outputs": [
    {
     "data": {
      "image/png": "[encoded data removed]",
      "text/plain": [
       "<Figure size 432x288 with 1 Axes>"
      ]
     },
     "metadata": {
      "needs_background": "light"
     },
     "output_type": "display_data"
    }
   ],
   "source": [
    "Error =[]\n",
    "for i in range(1, 11):\n",
    "    kmeans = KMeans(n_clusters = i).fit(X.values)\n",
    "    kmeans.fit(X.values)\n",
    "    Error.append(kmeans.inertia_)\n",
    "import matplotlib.pyplot as plt\n",
    "plt.plot(range(1, 11), Error)\n",
    "plt.title('Elbow method')\n",
    "plt.xlabel('No of clusters')\n",
    "plt.ylabel('Error')\n",
    "plt.show()"
   ]
  },
  {
   "cell_type": "markdown",
   "metadata": {},
   "source": [
    "## Hierarchichal clustering"
   ]
  },
  {
   "cell_type": "code",
   "execution_count": 8,
   "metadata": {},
   "outputs": [
    {
     "name": "stdout",
     "output_type": "stream",
     "text": [
      "PERIFEREIES                         KRITI\n",
      "Unnamed: 2     ANATOLIKI MAKEDONIA-THRAKI\n",
      "Unnamed: 3                         ATTIKI\n",
      "Unnamed: 4                  VOREIO AIGAIO\n",
      "Unnamed: 5                  DYTIKI ELLADA\n",
      "Unnamed: 6               DYTIKI MAKEDONIA\n",
      "Unnamed: 7                         IPIROS\n",
      "Unnamed: 8                      THESSALIA\n",
      "Unnamed: 9                    IONIA NISIA\n",
      "Unnamed: 10            KENTRIKI MAKEDONIA\n",
      "Unnamed: 11                  NOTIO AIGAIO\n",
      "Unnamed: 12                  PELOPONNISOS\n",
      "Unnamed: 13                 STEREA ELLADA\n",
      "Name: V1, dtype: object\n"
     ]
    },
    {
     "data": {
      "image/png": "[encoded data removed]",
      "text/plain": [
       "<Figure size 432x288 with 1 Axes>"
      ]
     },
     "metadata": {
      "needs_background": "light"
     },
     "output_type": "display_data"
    }
   ],
   "source": [
    "import numpy as np\n",
    "import matplotlib.pyplot as plt\n",
    "from scipy.spatial.distance import pdist, squareform\n",
    "from scipy.cluster.hierarchy import linkage, dendrogram\n",
    "\n",
    "data_array = X\n",
    "data_array = data_array.transpose()\n",
    "print(cols)\n",
    "\n",
    "data_dist = pdist(data_array) # computing the distance\n",
    "data_link = linkage(data_dist) # computing the linkage\n",
    "\n",
    "\n",
    "dendrogram(data_link,labels=X.columns)\n",
    "plt.xlabel('Samples')\n",
    "plt.ylabel('Distance')\n",
    "plt.suptitle('Samples clustering', fontweight='bold', fontsize=14);"
   ]
  },
  {
   "cell_type": "code",
   "execution_count": 9,
   "metadata": {},
   "outputs": [
    {
     "data": {
      "text/plain": [
       "<matplotlib.colorbar.Colorbar at 0x1f48002f0a0>"
      ]
     },
     "execution_count": 9,
     "metadata": {},
     "output_type": "execute_result"
    },
    {
     "data": {
      "image/png": "[encoded data removed]",
      "text/plain": [
       "<Figure size 576x576 with 4 Axes>"
      ]
     },
     "metadata": {
      "needs_background": "light"
     },
     "output_type": "display_data"
    }
   ],
   "source": [
    "# Compute and plot first dendrogram.\n",
    "fig = plt.figure(figsize=(8,8))\n",
    "# x ywidth height\n",
    "ax1 = fig.add_axes([0.05,0.1,0.2,0.6])\n",
    "Y = linkage(data_dist, method='single')\n",
    "Z1 = dendrogram(Y, orientation='right',labels=cols) # adding/removing the axes\n",
    "ax1.set_xticks([])\n",
    "\n",
    "# Compute and plot second dendrogram.\n",
    "ax2 = fig.add_axes([0.3,0.71,0.6,0.2])\n",
    "Z2 = dendrogram(Y)\n",
    "ax2.set_xticks([])\n",
    "ax2.set_yticks([])\n",
    "\n",
    "#Compute and plot the heatmap\n",
    "axmatrix = fig.add_axes([0.3,0.1,0.6,0.6])\n",
    "idx1 = Z1['leaves']\n",
    "idx2 = Z2['leaves']\n",
    "D = squareform(data_dist)\n",
    "D = D[idx1,:]\n",
    "D = D[:,idx2]\n",
    "im = axmatrix.matshow(D, aspect='auto', origin='lower', cmap=plt.cm.YlGnBu)\n",
    "axmatrix.set_xticks([])\n",
    "axmatrix.set_yticks([])\n",
    "\n",
    "# Plot colorbar.\n",
    "axcolor = fig.add_axes([0.91,0.1,0.02,0.6])\n",
    "plt.colorbar(im, cax=axcolor)"
   ]
  }
 ],
 "metadata": {
  "kernelspec": {
   "display_name": "Python 3",
   "language": "python",
   "name": "python3"
  },
  "language_info": {
   "codemirror_mode": {
    "name": "ipython",
    "version": 3
   },
   "file_extension": ".py",
   "mimetype": "text/x-python",
   "name": "python",
   "nbconvert_exporter": "python",
   "pygments_lexer": "ipython3",
   "version": "3.8.5"
  },
  "latex_envs": {
   "LaTeX_envs_menu_present": true,
   "autoclose": false,
   "autocomplete": true,
   "bibliofile": "biblio.bib",
   "cite_by": "apalike",
   "current_citInitial": 1,
   "eqLabelWithNumbers": true,
   "eqNumInitial": 1,
   "hotkeys": {
    "equation": "Ctrl-E",
    "itemize": "Ctrl-I"
   },
   "labels_anchors": false,
   "latex_user_defs": false,
   "report_style_numbering": false,
   "user_envs_cfg": false
  },
  "nbTranslate": {
   "displayLangs": [
    "*"
   ],
   "hotkey": "alt-t",
   "langInMainMenu": true,
   "sourceLang": "en",
   "targetLang": "fr",
   "useGoogleTranslate": true
  },
  "toc": {
   "base_numbering": 1,
   "nav_menu": {},
   "number_sections": true,
   "sideBar": true,
   "skip_h1_title": false,
   "title_cell": "Table of Contents",
   "title_sidebar": "Contents",
   "toc_cell": false,
   "toc_position": {},
   "toc_section_display": true,
   "toc_window_display": false
  },
  "varInspector": {
   "cols": {
    "lenName": 16,
    "lenType": 16,
    "lenVar": 40
   },
   "kernels_config": {
    "python": {
     "delete_cmd_postfix": "",
     "delete_cmd_prefix": "del ",
     "library": "var_list.py",
     "varRefreshCmd": "print(var_dic_list())"
    },
    "r": {
     "delete_cmd_postfix": ") ",
     "delete_cmd_prefix": "rm(",
     "library": "var_list.r",
     "varRefreshCmd": "cat(var_dic_list()) "
    }
   },
   "types_to_exclude": [
    "module",
    "function",
    "builtin_function_or_method",
    "instance",
    "_Feature"
   ],
   "window_display": false
  }
 },
 "nbformat": 4,
 "nbformat_minor": 1
}
